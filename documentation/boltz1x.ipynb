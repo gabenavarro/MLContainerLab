{
 "cells": [
  {
   "cell_type": "markdown",
   "id": "22a3bdf6",
   "metadata": {},
   "source": [
    "# Botlz-1x with Docker for Local Development and Cloud Deployment\n",
    "\n",
    "---\n",
    "\n",
    "This documentation provides a guide on Botlz-1x implemented in Python, designed for both local development and cloud deployment using Docker. It covers the following topics:\n",
    "\n",
    "1. **Introduction to Botlz-1x**: Overview of the Botlz-1x and its applications.\n",
    "2. **Setting Up the Development Environment**: Step-by-step instructions for setting up a local development environment using Docker.\n",
    "3. **Building and Running the Docker Container**: Instructions for building the Docker image and running the container.\n",
    "4. **Deploying to the Cloud**: Guidelines for deploying the Botlz-1x to a cloud platform using Docker.\n",
    "5. **Best Practices**: Tips and best practices for working with Botlz-1x and Docker.\n",
    "\n",
    "## Introduction to Botlz-1x and the Protein-Folding Journey\n",
    "\n",
    "---\n",
    "\n",
    "Predicting a protein’s three-dimensional shape from its amino acid sequence has been a “grand challenge” in biology for over half a century. In 1973, Christian Anfinsen demonstrated that the information for folding is encoded in the sequence itself when his chemically denatured ribonuclease spontaneously refolded into its active conformation upon removal of denaturants ([Aklectures][1]). This foundational experiment launched an era of **physics-based** and **statistical** modeling.\n",
    "\n",
    "In 1994, the biannual **CASP** (Critical Assessment of Structure Prediction) competition was created to objectively benchmark methods—even before structures were publicly released ([Wikipedia][2]). Early efforts like **Rosetta** (first in FORTRAN, then C++) applied fragment assembly and Monte Carlo sampling for **de novo** prediction, winning CASP tasks via clever energy functions and design protocols ([docs.rosettacommons.org][3], [PMC][4]). Over the 2000s, Rosetta expanded into docking, design, and community-driven platforms like Foldit ([Wikipedia][5]).\n",
    "\n",
    "The deep-learning era arrived in 2020 when **DeepMind’s AlphaFold 2** achieved atomic-level accuracy in CASP14, effectively solving the prediction problem for most single-chain proteins ([Nature][6], [WIRED][7]). Soon after, the Baker lab released **RoseTTAFold**, democratizing high-accuracy predictions on consumer GPUs in minutes ([Baker Lab][8]). In 2024, the Nobel Prize for Chemistry recognized Demis Hassabis, John Jumper, and David Baker for these complementary breakthroughs in AI-driven folding and design ([Le Monde.fr][9]).\n",
    "\n",
    "Building on this lineage, **Botlz-1x** leverages a novel **Boltzmann-inspired** architecture that blends state-space models with graph-based potentials to predict structures faster and with fewer resources. This notebook shows you how to:\n",
    "\n",
    "1. **Containerize** Botlz-1x in Docker for reproducible local experiments\n",
    "2. **Scale** training and inference via cloud deployment\n",
    "3. **Integrate** with existing folding pipelines and compare performance\n",
    "\n",
    "Whether you’re an academic exploring protein design or an industry practitioner deploying at scale, Botlz-1x offers a lightweight, production-ready alternative in the post-AlphaFold landscape.\n",
    "\n",
    "\n",
    "## Notebook Roadmap\n",
    "\n",
    "---\n",
    "\n",
    "### Sections\n",
    "- [Building and Running the Docker Container](#building-and-running-the-docker-container)\n",
    "- [Using Botlz-1x](#using-botlz-1x)\n",
    "- [Small GSK3B Study](#small-gsk3b-study)\n",
    "- [Deploying to the Cloud](#deploying-to-the-cloud)\n",
    "\n",
    "\n",
    "### Prerequisites\n",
    "\n",
    "Before you begin, ensure you have the following installed on your local machine:\n",
    "\n",
    "- Docker: [Install Docker](https://docs.docker.com/get-docker/)\n",
    "- A compatible GPU (for Botlz-1x)\n",
    "- NVIDIA drivers (if using GPU)\n",
    "\n",
    "\n",
    "\n",
    "## Building and Running the Docker Container\n",
    "\n",
    "---\n",
    "\n",
    "To build and run the Docker container for Botlz-1x, follow these steps:\n",
    "\n",
    "1. **Clone the Repository**: Clone the Botlz-1x repository to your local machine.\n",
    "\n",
    "   ```bash\n",
    "   git clone https://github.com/gabenavarro/MLContainerLab.git\n",
    "   cd MLContainerLab\n",
    "   ```\n",
    "\n",
    "2. **Build the Docker Image**: Use the provided Dockerfile to build the Docker image.\n",
    "\n",
    "   ```bash\n",
    "   # You can choose any tag you want for the image\n",
    "   # Feel free to play around with the base image, just make sure the host has the same or higher CUDA version\n",
    "   docker build -f ./assets/build/Dockerfile.boltz1x.cu126cp310 -t boltz1x:126-310 .\n",
    "   ```\n",
    "3. **Run the Docker Container**: Run the Docker container with the necessary configurations. In the first example, we will run the container locally with GPU support. This is the recommended way to run a container while in development mode. For scaling up, we will use the second example which runs the container in the cloud.\n",
    "\n",
    "   ```bash\n",
    "    # Run the container with GPU support\n",
    "    docker run -dt \\\n",
    "        --gpus all \\\n",
    "        --shm-size=64g \\\n",
    "        -v \"$(pwd):/workspace\" \\\n",
    "        --name boltz1x \\\n",
    "        --env NVIDIA_VISIBLE_DEVICES=all \\\n",
    "        --env GOOGLE_APPLICATION_CREDENTIALS=/workspace/assets/secrets/gcp-key.json \\\n",
    "        boltz1x:126-310\n",
    "    ```\n",
    "> Note: The `-v \"$(pwd):/workspace\"` option mounts the current directory to `/workspace` in the container, allowing you to access your local files from within the container. The `--env` options set environment variables for GPU visibility and Google Cloud credentials.<br>\n",
    "> Note: The `--gpus all` option allows the container to use all available GPUs. <br>\n",
    "\n",
    "4. **Access the Container with IDE**: In this example, we will use Visual Studio Code to access the container. You can use any IDE of your choice.\n",
    "\n",
    "   ```bash\n",
    "   # In a scriptable manner\n",
    "   CONTAINER_NAME=boltz1x\n",
    "   FOLDER=/workspace\n",
    "   HEX_CONFIG=$(printf {\\\"containerName\\\":\\\"/$CONTAINER_NAME\\\"} | od -A n -t x1 | tr -d '[\\n\\t ]')\n",
    "   code --folder-uri \"vscode-remote://attached-container+$HEX_CONFIG$FOLDER\"\n",
    "   ```\n",
    "\n",
    "> Note: The `code` command is used to open Visual Studio Code. Make sure you have the Remote - Containers extension installed in VS Code to access the container directly. <br>\n",
    "> Note: Make sure you have installed Remote - Containers extension in VS Code.<br>\n",
    "\n",
    "\n",
    "\n",
    "Quick use\n",
    "\n",
    "```bash\n",
    "  --out_dir PATH               The path where to save the predictions.\n",
    "  --cache PATH                 The directory where to download the data and\n",
    "                               model. Default is ~/.boltz, or $BOLTZ_CACHE if\n",
    "                               set.\n",
    "  --checkpoint PATH            An optional checkpoint, will use the provided\n",
    "                               Boltz-1 model by default.\n",
    "  --devices INTEGER            The number of devices to use for prediction.\n",
    "                               Default is 1.\n",
    "  --accelerator [gpu|cpu|tpu]  The accelerator to use for prediction. Default\n",
    "                               is gpu.\n",
    "  --recycling_steps INTEGER    The number of recycling steps to use for\n",
    "                               prediction. Default is 3.\n",
    "  --sampling_steps INTEGER     The number of sampling steps to use for\n",
    "                               prediction. Default is 200.\n",
    "  --diffusion_samples INTEGER  The number of diffusion samples to use for\n",
    "                               prediction. Default is 1.\n",
    "  --step_scale FLOAT           The step size is related to the temperature at\n",
    "                               which the diffusion process samples the\n",
    "                               distribution.The lower the higher the diversity\n",
    "                               among samples (recommended between 1 and 2).\n",
    "                               Default is 1.638.\n",
    "  --write_full_pae             Whether to dump the pae into a npz file.\n",
    "                               Default is True.\n",
    "  --write_full_pde             Whether to dump the pde into a npz file.\n",
    "                               Default is False.\n",
    "  --output_format [pdb|mmcif]  The output format to use for the predictions.\n",
    "                               Default is mmcif.\n",
    "  --num_workers INTEGER        The number of dataloader workers to use for\n",
    "                               prediction. Default is 2.\n",
    "  --override                   Whether to override existing found predictions.\n",
    "                               Default is False.\n",
    "  --seed INTEGER               Seed to use for random number generator.\n",
    "                               Default is None (no seeding).\n",
    "  --use_msa_server             Whether to use the MMSeqs2 server for MSA\n",
    "                               generation. Default is False.\n",
    "  --msa_server_url TEXT        MSA server url. Used only if --use_msa_server\n",
    "                               is set.\n",
    "  --msa_pairing_strategy TEXT  Pairing strategy to use. Used only if\n",
    "                               --use_msa_server is set. Options are 'greedy'\n",
    "                               and 'complete'\n",
    "  --no_potentials              Whether to not use potentials for steering.\n",
    "                               Default is False.\n",
    "```\n",
    "\n",
    "\n",
    "[1]: https://aklectures.com/lecture/structure-of-proteins/anfinsens-experiment-of-protein-folding \"Anfinsen's Experiment of Protein Folding - AK Lectures\"\n",
    "[2]: https://en.wikipedia.org/wiki/CASP \"CASP - Wikipedia\"\n",
    "[3]: https://docs.rosettacommons.org/docs/latest/meta/Rosetta-Timeline \"History of Rosetta\"\n",
    "[4]: https://pmc.ncbi.nlm.nih.gov/articles/PMC7603796 \"Macromolecular modeling and design in Rosetta: recent methods ...\"\n",
    "[5]: https://en.wikipedia.org/wiki/Rosetta%40home \"Rosetta@home\"\n",
    "[6]: https://www.nature.com/articles/s41586-021-03819-2 \"Highly accurate protein structure prediction with AlphaFold - Nature\"\n",
    "[7]: https://www.wired.com/story/deepmind-alphafold-protein-diseases \"DeepMind wants to use its AI to cure neglected diseases\"\n",
    "[8]: https://www.bakerlab.org/2021/07/15/accurate-protein-structure-prediction-accessible \"Accurate protein structure prediction accessible to all - Baker Lab\"\n",
    "[9]: https://www.lemonde.fr/en/science/article/2024/10/09/nobel-prize-for-chemistry-2024-artificial-intelligence-garners-more-recognition_6728828_10.html \"Nobel Prize for Chemistry 2024: Artificial intelligence garners more recognition\"\n"
   ]
  },
  {
   "cell_type": "markdown",
   "id": "d056dba5",
   "metadata": {},
   "source": [
    "## Using Botlz-1x\n",
    "\n",
    "Now we will go ahead and run Boltz-1x with a few different file formats in order to understand the different configurations.  First we will start with a fasta file.\n",
    "\n",
    "```fasta\n",
    ">A|protein|./examples/msa/seq1.a3m\n",
    "MVTPEGNVSLVDESLLVGVTDEDRAVRSAHQFYERLIGLWAPAVMEAAHELGV\n",
    ">B|protein|./examples/msa/seq1.a3m\n",
    "MVTPEGNVSLVDESLLVGVTDEDRAVRSAHQFYERLIGLWAPAVMEAAHELGV\n",
    ">C|ccd\n",
    "SAH\n",
    ">D|ccd\n",
    "SAH\n",
    ">E|smiles\n",
    "N[C@@H](Cc1ccc(O)cc1)C(=O)O\n",
    ">F|smiles\n",
    "N[C@@H](Cc1ccc(O)cc1)C(=O)O\n",
    "```\n",
    "\n",
    "The header is separated by `|` character. The first item is the chain ID and must be unique. The second item is the entity type, with options `protein`, `dna`, `rna`, `ccd`, and `smiles`. The last index is the path to a precomputed MSA file, although this is optional as the MSA file can be calculated as part of the boltz run. In a production environment, it makes sense to first pre-compute all MSA files using a CPU and memory high box, then run protein folding inference with a GPU heavy box.\n",
    "\n",
    "The exact fast file we will use is found [boltz1x.fasta](../assets/test-files/boltz1.fasta). As has the following content:\n",
    "\n",
    "```fasta\n",
    ">A|protein\n",
    "DEAIHCPPCSEEKLARCRPPVGCEELVREPGCGCCATCALGLGMPCGVYTPRCGSGLRCYPPRGVEKPLHTLMHGQGVCMELAEIEAIQESL\n",
    ">B|protein\n",
    "GPETLCGAELVDALQFVCGDRGFYFNKPTGYGSSSRRAPQTGIVDECCFRSCDLRRLEMYCAPLKPAKSA\n",
    "```\n",
    "\n",
    "This the PDB file of Inhibition of Insulin-like Growth Factors by IGF Binding Proteins ([2DSP](https://www.rcsb.org/structure/2DSP)). \n",
    "\n",
    "![image](../assets/images/2DSP.png)"
   ]
  },
  {
   "cell_type": "code",
   "execution_count": 6,
   "id": "f3442332",
   "metadata": {},
   "outputs": [
    {
     "name": "stdout",
     "output_type": "stream",
     "text": [
      "Checking input data.\n",
      "Running predictions for 1 structure\n",
      "Processing input data.\n",
      "  0%|                                                     | 0/1 [00:00<?, ?it/s]Generating MSA for /workspace/assets/test-files/boltz1.fasta with 2 protein entities.\n",
      "\n",
      "  0%|                                      | 0/300 [elapsed: 00:00 remaining: ?]\u001b[A\n",
      "SUBMIT:   0%|                              | 0/300 [elapsed: 00:00 remaining: ?]\u001b[A\n",
      "PENDING:   0%|                             | 0/300 [elapsed: 00:00 remaining: ?]\u001b[ASleeping for 5s. Reason: PENDING\n",
      "\n",
      "RUNNING:   0%|                             | 0/300 [elapsed: 00:06 remaining: ?]\u001b[A\n",
      "RUNNING:   2%|▍                        | 5/300 [elapsed: 00:06 remaining: 06:02]\u001b[ASleeping for 10s. Reason: RUNNING\n",
      "\n",
      "RUNNING:   2%|▍                        | 5/300 [elapsed: 00:16 remaining: 06:02]\u001b[A\n",
      "RUNNING:   5%|█▏                      | 15/300 [elapsed: 00:16 remaining: 05:10]\u001b[ASleeping for 7s. Reason: RUNNING\n",
      "\n",
      "RUNNING:   5%|█▏                      | 15/300 [elapsed: 00:23 remaining: 05:10]\u001b[A\n",
      "RUNNING:   7%|█▊                      | 22/300 [elapsed: 00:23 remaining: 04:57]\u001b[ASleeping for 7s. Reason: RUNNING\n",
      "\n",
      "COMPLETE:   7%|█▋                     | 22/300 [elapsed: 00:32 remaining: 04:57]\u001b[A\n",
      "COMPLETE: 100%|██████████████████████| 300/300 [elapsed: 00:32 remaining: 00:00]\u001b[A\n",
      "\n",
      "  0%|                                      | 0/300 [elapsed: 00:00 remaining: ?]\u001b[A\n",
      "SUBMIT:   0%|                              | 0/300 [elapsed: 00:00 remaining: ?]\u001b[A\n",
      "PENDING:   0%|                             | 0/300 [elapsed: 00:00 remaining: ?]\u001b[ASleeping for 8s. Reason: PENDING\n",
      "\n",
      "RUNNING:   0%|                             | 0/300 [elapsed: 00:08 remaining: ?]\u001b[A\n",
      "RUNNING:   3%|▋                        | 8/300 [elapsed: 00:08 remaining: 05:17]\u001b[ASleeping for 8s. Reason: RUNNING\n",
      "\n",
      "RUNNING:   3%|▋                        | 8/300 [elapsed: 00:17 remaining: 05:17]\u001b[A\n",
      "RUNNING:   5%|█▎                      | 16/300 [elapsed: 00:17 remaining: 05:02]\u001b[ASleeping for 5s. Reason: RUNNING\n",
      "\n",
      "RUNNING:   5%|█▎                      | 16/300 [elapsed: 00:22 remaining: 05:02]\u001b[A\n",
      "RUNNING:   7%|█▋                      | 21/300 [elapsed: 00:22 remaining: 05:00]\u001b[ASleeping for 9s. Reason: RUNNING\n",
      "\n",
      "RUNNING:   7%|█▋                      | 21/300 [elapsed: 00:33 remaining: 05:00]\u001b[A\n",
      "RUNNING:  10%|██▍                     | 30/300 [elapsed: 00:33 remaining: 05:04]\u001b[ASleeping for 7s. Reason: RUNNING\n",
      "\n",
      "RUNNING:  10%|██▍                     | 30/300 [elapsed: 00:40 remaining: 05:04]\u001b[A\n",
      "RUNNING:  12%|██▉                     | 37/300 [elapsed: 00:40 remaining: 04:49]\u001b[ASleeping for 7s. Reason: RUNNING\n",
      "\n",
      "COMPLETE:  12%|██▊                    | 37/300 [elapsed: 00:47 remaining: 04:49]\u001b[A\n",
      "COMPLETE: 100%|██████████████████████| 300/300 [elapsed: 00:48 remaining: 00:00]\u001b[A\n",
      "100%|█████████████████████████████████████████████| 1/1 [01:21<00:00, 81.73s/it]\n",
      "GPU available: True (cuda), used: True\n",
      "TPU available: False, using: 0 TPU cores\n",
      "HPU available: False, using: 0 HPUs\n",
      "/usr/local/lib/python3.10/dist-packages/pytorch_lightning/trainer/connectors/logger_connector/logger_connector.py:75: Starting from v1.9.0, `tensorboardX` has been removed as a dependency of the `pytorch_lightning` package, due to potential conflicts with other packages in the ML ecosystem. For this reason, `logger=True` will use `CSVLogger` as the default logger, unless the `tensorboard` or `tensorboardX` packages are found. Please `pip install lightning[extra]` or one of them to enable TensorBoard support by default\n",
      "You are using a CUDA device ('NVIDIA L40S') that has Tensor Cores. To properly utilize them, you should set `torch.set_float32_matmul_precision('medium' | 'high')` which will trade-off precision for performance. For more details, read https://pytorch.org/docs/stable/generated/torch.set_float32_matmul_precision.html#torch.set_float32_matmul_precision\n",
      "LOCAL_RANK: 0 - CUDA_VISIBLE_DEVICES: [0]\n",
      "Predicting DataLoader 0: 100%|████████████████████| 1/1 [09:34<00:00,  0.00it/s]Number of failed examples: 0\n",
      "Predicting DataLoader 0: 100%|████████████████████| 1/1 [09:34<00:00,  0.00it/s]\n"
     ]
    }
   ],
   "source": [
    "# Simple example\n",
    "!boltz predict /workspace/assets/test-files/boltz1.fasta \\\n",
    "    --recycling_steps 10 \\\n",
    "    --diffusion_samples 25 \\\n",
    "    --accelerator gpu \\\n",
    "    --out_dir /workspace/datasets/boltz1x/predict2 \\\n",
    "    --cache /workspace/datasets/boltz1x/cache \\\n",
    "    --use_msa_server"
   ]
  },
  {
   "cell_type": "markdown",
   "id": "ccffa86f",
   "metadata": {},
   "source": [
    "The results are fairly close to experimental modal. <br>\n",
    "\n",
    "![image](../assets/images/boltz_2DSP.png) <br>\n",
    "\n",
    "Now that we have completed the fasta file, lets go ahead and run the YAML file as it give us more flexibility and control of the prediction. The [boltz documentation](https://github.com/jwohlwend/boltz/blob/main/docs/prediction.md) shares the following template\n",
    "\n",
    "```yaml\n",
    "sequences:\n",
    "    - ENTITY_TYPE:\n",
    "        id: CHAIN_ID \n",
    "        sequence: SEQUENCE    # only for protein, dna, rna\n",
    "        smiles: 'SMILES'        # only for ligand, exclusive with ccd\n",
    "        ccd: CCD              # only for ligand, exclusive with smiles\n",
    "        msa: MSA_PATH         # only for protein\n",
    "        modifications:\n",
    "          - position: RES_IDX   # index of residue, starting from 1\n",
    "            ccd: CCD            # CCD code of the modified residue\n",
    "        cyclic: false\n",
    "     \n",
    "    - ENTITY_TYPE:\n",
    "        id: [CHAIN_ID, CHAIN_ID]    # multiple ids in case of multiple identical entities\n",
    "        ...\n",
    "constraints:\n",
    "    - bond:\n",
    "        atom1: [CHAIN_ID, RES_IDX, ATOM_NAME]\n",
    "        atom2: [CHAIN_ID, RES_IDX, ATOM_NAME]\n",
    "    - pocket:\n",
    "        binder: CHAIN_ID\n",
    "        contacts: [[CHAIN_ID, RES_IDX], [CHAIN_ID, RES_IDX]]\n",
    "```\n",
    "\n",
    "\n",
    "In our example, we will use a yaml file with to recreate PDB structure of FRAT1 binding to GSK3A ([1GNG](https://www.rcsb.org/structure/1GNG))\n",
    "\n",
    "![image](../assets/images/1GNG.png) <br>\n",
    "\n",
    "```yaml\n",
    "version: 1\n",
    "sequences:\n",
    "    # GSK3A\n",
    "    - protein:\n",
    "        id: A \n",
    "        sequence: MSGRPRTTSFAESCKPVQQPSAFGSMKVSRDKDGSKVTTVVATPGQGPDRPQEVSYTDTKVIGNGSFGVVYQAKLCDSGELVAIKKVLQDKRFKNRELQIMRKLDHCNIVRLRYFFYSSGEKKDEVYLNLVLDYVPETVYRVARHYSRAKQTLPVIYVKLYMYQLFRSLAYIHSFGICHRDIKPQNLLLDPDTAVLKLCDFGSAKQLVRGEPNVSYICSRYYRAPELIFGATDYTSSIDVWSAGCVLAELLLGQPIFPGDSGVDQLVEIIKVLGTPTREQIREMNPNYTEFKFPQIKAHPWTKVFRPRTPPEAIALCSRLLEYTPTARLTPLEACAHSFFDELRDPNVKLPNGRDTPALFNFTTQELSSNPPLATILIPPHARIQAAASTPTNATAASDANTGDRGQTNNAASASASNST\n",
    "    # FRAT1\n",
    "    - protein:\n",
    "        id: B\n",
    "        sequence: MPCRREEEEEAGEEAEGEEEEEDSFLLLQQSVALGSSGEVDRLVAQIGETLQLDAAQHSPASPCGPPGAPLRAPGPLAAAVPADKARSPAVPLLLPPALAETVGPAPPGVLRCALGDRGRVRGRAAPYCVAELATGPSALSPLPPQADLDGPPGAGKQGIPQPLSGPCRRGWLRGAAASRRLQQRRGSQPETRTGDDDPHRLLQQLVLSGNLIKEAVRRLHSRRLQLRAKLPQRPLLGPLSAPVHEPPSPRSPRAACSDPGASGRAQLRTGDGVLVPGS\n",
    "```"
   ]
  },
  {
   "cell_type": "code",
   "execution_count": 9,
   "id": "bf6ac4ca",
   "metadata": {},
   "outputs": [
    {
     "name": "stdout",
     "output_type": "stream",
     "text": [
      "Checking input data.\n",
      "Running predictions for 1 structure\n",
      "Processing input data.\n",
      "  0%|                                                     | 0/1 [00:00<?, ?it/s]Generating MSA for /workspace/assets/test-files/boltz1-example2.yaml with 2 protein entities.\n",
      "\n",
      "  0%|                                      | 0/300 [elapsed: 00:00 remaining: ?]\u001b[A\n",
      "SUBMIT:   0%|                              | 0/300 [elapsed: 00:00 remaining: ?]\u001b[A\n",
      "COMPLETE:   0%|                            | 0/300 [elapsed: 00:00 remaining: ?]\u001b[A\n",
      "COMPLETE: 100%|██████████████████████| 300/300 [elapsed: 00:01 remaining: 00:00]\u001b[A\n",
      "\n",
      "  0%|                                      | 0/300 [elapsed: 00:00 remaining: ?]\u001b[A\n",
      "SUBMIT:   0%|                              | 0/300 [elapsed: 00:00 remaining: ?]\u001b[A\n",
      "COMPLETE:   0%|                            | 0/300 [elapsed: 00:00 remaining: ?]\u001b[A\n",
      "COMPLETE: 100%|██████████████████████| 300/300 [elapsed: 00:01 remaining: 00:00]\u001b[A\n",
      "100%|█████████████████████████████████████████████| 1/1 [00:03<00:00,  3.40s/it]\n",
      "GPU available: True (cuda), used: True\n",
      "TPU available: False, using: 0 TPU cores\n",
      "HPU available: False, using: 0 HPUs\n",
      "/usr/local/lib/python3.10/dist-packages/pytorch_lightning/trainer/connectors/logger_connector/logger_connector.py:75: Starting from v1.9.0, `tensorboardX` has been removed as a dependency of the `pytorch_lightning` package, due to potential conflicts with other packages in the ML ecosystem. For this reason, `logger=True` will use `CSVLogger` as the default logger, unless the `tensorboard` or `tensorboardX` packages are found. Please `pip install lightning[extra]` or one of them to enable TensorBoard support by default\n",
      "You are using a CUDA device ('NVIDIA L40S') that has Tensor Cores. To properly utilize them, you should set `torch.set_float32_matmul_precision('medium' | 'high')` which will trade-off precision for performance. For more details, read https://pytorch.org/docs/stable/generated/torch.set_float32_matmul_precision.html#torch.set_float32_matmul_precision\n",
      "LOCAL_RANK: 0 - CUDA_VISIBLE_DEVICES: [0]\n",
      "Predicting DataLoader 0: 100%|██████████████████| 1/1 [1:20:51<00:00,  0.00it/s]Number of failed examples: 0\n",
      "Predicting DataLoader 0: 100%|██████████████████| 1/1 [1:20:51<00:00,  0.00it/s]\n"
     ]
    }
   ],
   "source": [
    "!boltz predict /workspace/assets/test-files/boltz1-example2.yaml \\\n",
    "    --recycling_steps 10 \\\n",
    "    --diffusion_samples 25 \\\n",
    "    --accelerator gpu \\\n",
    "    --out_dir /workspace/datasets/boltz1x/predict4 \\\n",
    "    --cache /workspace/datasets/boltz1x/cache \\\n",
    "    --use_msa_server"
   ]
  },
  {
   "cell_type": "markdown",
   "id": "478f87c5",
   "metadata": {},
   "source": [
    "The results are fairly close to experimental modal. <br>\n",
    "\n",
    "![image](../assets/images/boltz_1GNG.png) <br>\n",
    "\n",
    "\n",
    "## Small GSK3B Study\n",
    "\n",
    "Now lets move on to small study. Now that we have a model showing the interactions between GSK3K and FRAT1, lets see if any known inhibitor bind in the same spot.\n",
    "\n",
    "![image](../assets/images/boltz_1GNG_zoom_in.png) <br>\n",
    "\n",
    "First, lets start with identifying the interacting residues."
   ]
  },
  {
   "cell_type": "code",
   "execution_count": 16,
   "id": "15732d09",
   "metadata": {},
   "outputs": [
    {
     "name": "stdout",
     "output_type": "stream",
     "text": [
      "\n",
      "Interaction Summary:\n",
      "Total residue pairs analyzed: 136\n",
      "Pairs with interactions: 40\n",
      "Electrostatic interactions: 10\n",
      "Hydrogen bond interactions: 8\n",
      "Hydrophobic interactions: 27\n"
     ]
    },
    {
     "data": {
      "text/html": [
       "<div>\n",
       "<style scoped>\n",
       "    .dataframe tbody tr th:only-of-type {\n",
       "        vertical-align: middle;\n",
       "    }\n",
       "\n",
       "    .dataframe tbody tr th {\n",
       "        vertical-align: top;\n",
       "    }\n",
       "\n",
       "    .dataframe thead th {\n",
       "        text-align: right;\n",
       "    }\n",
       "</style>\n",
       "<table border=\"1\" class=\"dataframe\">\n",
       "  <thead>\n",
       "    <tr style=\"text-align: right;\">\n",
       "      <th></th>\n",
       "      <th>Chain_A_Residue</th>\n",
       "      <th>Chain_A_Position</th>\n",
       "      <th>Chain_B_Residue</th>\n",
       "      <th>Chain_B_Position</th>\n",
       "      <th>Min_Distance_A</th>\n",
       "      <th>Closest_Atoms</th>\n",
       "      <th>Interaction_Types</th>\n",
       "      <th>Has_Electrostatic</th>\n",
       "      <th>Has_Hydrogen_Bond</th>\n",
       "      <th>Has_Hydrophobic</th>\n",
       "      <th>Chain_A_Type</th>\n",
       "      <th>Chain_B_Type</th>\n",
       "    </tr>\n",
       "  </thead>\n",
       "  <tbody>\n",
       "    <tr>\n",
       "      <th>1</th>\n",
       "      <td>LYS</td>\n",
       "      <td>297</td>\n",
       "      <td>GLU</td>\n",
       "      <td>22</td>\n",
       "      <td>2.491910</td>\n",
       "      <td>O-OE1</td>\n",
       "      <td>Electrostatic;Hydrogen_Bond</td>\n",
       "      <td>True</td>\n",
       "      <td>True</td>\n",
       "      <td>False</td>\n",
       "      <td>Positive</td>\n",
       "      <td>Negative</td>\n",
       "    </tr>\n",
       "    <tr>\n",
       "      <th>2</th>\n",
       "      <td>GLN</td>\n",
       "      <td>295</td>\n",
       "      <td>GLU</td>\n",
       "      <td>18</td>\n",
       "      <td>2.505144</td>\n",
       "      <td>N-OE2</td>\n",
       "      <td>Hydrogen_Bond</td>\n",
       "      <td>False</td>\n",
       "      <td>True</td>\n",
       "      <td>False</td>\n",
       "      <td>Polar</td>\n",
       "      <td>Negative</td>\n",
       "    </tr>\n",
       "    <tr>\n",
       "      <th>8</th>\n",
       "      <td>ASP</td>\n",
       "      <td>264</td>\n",
       "      <td>ARG</td>\n",
       "      <td>223</td>\n",
       "      <td>2.682222</td>\n",
       "      <td>OD1-NH2</td>\n",
       "      <td>Electrostatic;Hydrogen_Bond</td>\n",
       "      <td>True</td>\n",
       "      <td>True</td>\n",
       "      <td>False</td>\n",
       "      <td>Negative</td>\n",
       "      <td>Positive</td>\n",
       "    </tr>\n",
       "    <tr>\n",
       "      <th>14</th>\n",
       "      <td>ILE</td>\n",
       "      <td>281</td>\n",
       "      <td>ILE</td>\n",
       "      <td>213</td>\n",
       "      <td>3.044317</td>\n",
       "      <td>CD1-CD1</td>\n",
       "      <td>Hydrophobic</td>\n",
       "      <td>False</td>\n",
       "      <td>False</td>\n",
       "      <td>True</td>\n",
       "      <td>Hydrophobic</td>\n",
       "      <td>Hydrophobic</td>\n",
       "    </tr>\n",
       "    <tr>\n",
       "      <th>15</th>\n",
       "      <td>PHE</td>\n",
       "      <td>229</td>\n",
       "      <td>VAL</td>\n",
       "      <td>207</td>\n",
       "      <td>3.112422</td>\n",
       "      <td>O-CG1</td>\n",
       "      <td>Hydrophobic</td>\n",
       "      <td>False</td>\n",
       "      <td>False</td>\n",
       "      <td>True</td>\n",
       "      <td>Aromatic</td>\n",
       "      <td>Hydrophobic</td>\n",
       "    </tr>\n",
       "  </tbody>\n",
       "</table>\n",
       "</div>"
      ],
      "text/plain": [
       "   Chain_A_Residue  Chain_A_Position Chain_B_Residue  Chain_B_Position  \\\n",
       "1              LYS               297             GLU                22   \n",
       "2              GLN               295             GLU                18   \n",
       "8              ASP               264             ARG               223   \n",
       "14             ILE               281             ILE               213   \n",
       "15             PHE               229             VAL               207   \n",
       "\n",
       "    Min_Distance_A Closest_Atoms            Interaction_Types  \\\n",
       "1         2.491910         O-OE1  Electrostatic;Hydrogen_Bond   \n",
       "2         2.505144         N-OE2                Hydrogen_Bond   \n",
       "8         2.682222       OD1-NH2  Electrostatic;Hydrogen_Bond   \n",
       "14        3.044317       CD1-CD1                  Hydrophobic   \n",
       "15        3.112422         O-CG1                  Hydrophobic   \n",
       "\n",
       "    Has_Electrostatic  Has_Hydrogen_Bond  Has_Hydrophobic Chain_A_Type  \\\n",
       "1                True               True            False     Positive   \n",
       "2               False               True            False        Polar   \n",
       "8                True               True            False     Negative   \n",
       "14              False              False             True  Hydrophobic   \n",
       "15              False              False             True     Aromatic   \n",
       "\n",
       "   Chain_B_Type  \n",
       "1      Negative  \n",
       "2      Negative  \n",
       "8      Positive  \n",
       "14  Hydrophobic  \n",
       "15  Hydrophobic  "
      ]
     },
     "execution_count": 16,
     "metadata": {},
     "output_type": "execute_result"
    }
   ],
   "source": [
    "import sys\n",
    "sys.path.append(\"/workspace\")\n",
    "from utils.protein_analysis import analyze_chain_interactions\n",
    "\n",
    "table = analyze_chain_interactions(\"/workspace/assets/test-files/boltz1_1GNG_model_0.cif\")\n",
    "table[table[\"Interaction_Types\"]!=\"None\"].head(5)"
   ]
  },
  {
   "cell_type": "code",
   "execution_count": null,
   "id": "4990a4b9",
   "metadata": {},
   "outputs": [
    {
     "data": {
      "text/plain": [
       "Chain_A_Position\n",
       "263    4\n",
       "270    4\n",
       "297    3\n",
       "296    3\n",
       "228    3\n",
       "229    3\n",
       "295    2\n",
       "264    2\n",
       "266    2\n",
       "267    2\n",
       "294    2\n",
       "292    2\n",
       "Name: count, dtype: int64"
      ]
     },
     "execution_count": 17,
     "metadata": {},
     "output_type": "execute_result"
    }
   ],
   "source": [
    "counts = (\n",
    "    table\n",
    "    .loc[table[\"Interaction_Types\"] != \"None\", \"Chain_A_Position\"]\n",
    "    .value_counts()\n",
    ")\n",
    "counts = counts[counts > 1]\n",
    "counts"
   ]
  },
  {
   "cell_type": "code",
   "execution_count": 1,
   "id": "406f8c2d",
   "metadata": {},
   "outputs": [
    {
     "name": "stdout",
     "output_type": "stream",
     "text": [
      "--2025-05-23 08:16:22--  https://www.guidetopharmacology.org/GRAC/SARFileDownload?objectId=2030\n",
      "Resolving www.guidetopharmacology.org (www.guidetopharmacology.org)... 129.215.67.107\n",
      "Connecting to www.guidetopharmacology.org (www.guidetopharmacology.org)|129.215.67.107|:443... connected.\n",
      "HTTP request sent, awaiting response... 200 200\n",
      "Length: unspecified [text/csv]\n",
      "Saving to: ‘/workspace/assets/test-files/GSK3B_inhibitor.csv’\n",
      "\n",
      "/workspace/assets/t     [  <=>               ]  16.40K  48.4KB/s    in 0.3s    \n",
      "\n",
      "2025-05-23 08:16:25 (48.4 KB/s) - ‘/workspace/assets/test-files/GSK3B_inhibitor.csv’ saved [16796]\n",
      "\n"
     ]
    },
    {
     "data": {
      "text/html": [
       "<div>\n",
       "<style scoped>\n",
       "    .dataframe tbody tr th:only-of-type {\n",
       "        vertical-align: middle;\n",
       "    }\n",
       "\n",
       "    .dataframe tbody tr th {\n",
       "        vertical-align: top;\n",
       "    }\n",
       "\n",
       "    .dataframe thead th {\n",
       "        text-align: right;\n",
       "    }\n",
       "</style>\n",
       "<table border=\"1\" class=\"dataframe\">\n",
       "  <thead>\n",
       "    <tr style=\"text-align: right;\">\n",
       "      <th></th>\n",
       "      <th>target</th>\n",
       "      <th>target_id</th>\n",
       "      <th>target_uniprot</th>\n",
       "      <th>target_species</th>\n",
       "      <th>ligand</th>\n",
       "      <th>ligand_id</th>\n",
       "      <th>ligand_species</th>\n",
       "      <th>ligand_pubchem_cid</th>\n",
       "      <th>smiles</th>\n",
       "      <th>inchi</th>\n",
       "      <th>...</th>\n",
       "      <th>affinity_low</th>\n",
       "      <th>original_affinity_units</th>\n",
       "      <th>original_affinity_low_nm</th>\n",
       "      <th>original_affinity_median_nm</th>\n",
       "      <th>original_affinity_high_nm</th>\n",
       "      <th>original_affinity_relation</th>\n",
       "      <th>assay_description</th>\n",
       "      <th>receptor_site</th>\n",
       "      <th>ligand_context</th>\n",
       "      <th>pubmed_id</th>\n",
       "    </tr>\n",
       "  </thead>\n",
       "  <tbody>\n",
       "    <tr>\n",
       "      <th>glycogen synthase kinase 3 beta</th>\n",
       "      <td>2030</td>\n",
       "      <td>P49841</td>\n",
       "      <td>Human</td>\n",
       "      <td>Li&lt;sup&gt;+&lt;/sup&gt;</td>\n",
       "      <td>5212</td>\n",
       "      <td>NaN</td>\n",
       "      <td>3028194</td>\n",
       "      <td>NaN</td>\n",
       "      <td>NaN</td>\n",
       "      <td>NaN</td>\n",
       "      <td>...</td>\n",
       "      <td>IC50</td>\n",
       "      <td>NaN</td>\n",
       "      <td>2500000.0</td>\n",
       "      <td>NaN</td>\n",
       "      <td>=</td>\n",
       "      <td>NaN</td>\n",
       "      <td>NaN</td>\n",
       "      <td>NaN</td>\n",
       "      <td>11162580</td>\n",
       "      <td>NaN</td>\n",
       "    </tr>\n",
       "    <tr>\n",
       "      <th>glycogen synthase kinase 3 beta</th>\n",
       "      <td>2030</td>\n",
       "      <td>P49841</td>\n",
       "      <td>Human</td>\n",
       "      <td>alsterpaullone</td>\n",
       "      <td>5925</td>\n",
       "      <td>NaN</td>\n",
       "      <td>5005498</td>\n",
       "      <td>O=C1Nc2ccccc2c2c(C1)c1cc(ccc1[nH]2)[N+](=O)[O-]</td>\n",
       "      <td>InChI=1S/C16H11N3O3/c20-15-8-12-11-7-9(19(21)2...</td>\n",
       "      <td>OLUKILHGKRVDCT-UHFFFAOYSA-N</td>\n",
       "      <td>...</td>\n",
       "      <td>IC50</td>\n",
       "      <td>NaN</td>\n",
       "      <td>4.0</td>\n",
       "      <td>NaN</td>\n",
       "      <td>=</td>\n",
       "      <td>NaN</td>\n",
       "      <td>NaN</td>\n",
       "      <td>NaN</td>\n",
       "      <td>10998059</td>\n",
       "      <td>NaN</td>\n",
       "    </tr>\n",
       "    <tr>\n",
       "      <th>glycogen synthase kinase 3 beta</th>\n",
       "      <td>2030</td>\n",
       "      <td>P49841</td>\n",
       "      <td>Human</td>\n",
       "      <td>alsterpaullone 2-cyanoethyl</td>\n",
       "      <td>5926</td>\n",
       "      <td>NaN</td>\n",
       "      <td>16760286</td>\n",
       "      <td>N#CCCc1ccc2c(c1)c1[nH]c3c(c1CC(=O)N2)cc(cc3)[N...</td>\n",
       "      <td>InChI=1S/C19H14N4O3/c20-7-1-2-11-3-5-17-15(8-1...</td>\n",
       "      <td>UBLFSMURWWWWMH-UHFFFAOYSA-N</td>\n",
       "      <td>...</td>\n",
       "      <td>IC50</td>\n",
       "      <td>NaN</td>\n",
       "      <td>0.8</td>\n",
       "      <td>NaN</td>\n",
       "      <td>=</td>\n",
       "      <td>NaN</td>\n",
       "      <td>NaN</td>\n",
       "      <td>NaN</td>\n",
       "      <td>18077363</td>\n",
       "      <td>NaN</td>\n",
       "    </tr>\n",
       "    <tr>\n",
       "      <th>glycogen synthase kinase 3 beta</th>\n",
       "      <td>2030</td>\n",
       "      <td>P49841</td>\n",
       "      <td>Human</td>\n",
       "      <td>Cdk/Crk inhibitor</td>\n",
       "      <td>5943</td>\n",
       "      <td>NaN</td>\n",
       "      <td>135473382</td>\n",
       "      <td>OCCOc1ccc(cc1)Cc1nc(=O)c2c(n1)n([nH]c2C(C)C)c1...</td>\n",
       "      <td>InChI=1S/C23H22Cl2N4O3/c1-13(2)20-19-22(29(28-...</td>\n",
       "      <td>VQNCIRRXQQTXEL-UHFFFAOYSA-N</td>\n",
       "      <td>...</td>\n",
       "      <td>IC50</td>\n",
       "      <td>NaN</td>\n",
       "      <td>754.0</td>\n",
       "      <td>NaN</td>\n",
       "      <td>=</td>\n",
       "      <td>NaN</td>\n",
       "      <td>NaN</td>\n",
       "      <td>NaN</td>\n",
       "      <td>18077363</td>\n",
       "      <td>NaN</td>\n",
       "    </tr>\n",
       "    <tr>\n",
       "      <th>glycogen synthase kinase 3 beta</th>\n",
       "      <td>2030</td>\n",
       "      <td>P49841</td>\n",
       "      <td>Human</td>\n",
       "      <td>Cdk1/5 inhibitor</td>\n",
       "      <td>5947</td>\n",
       "      <td>NaN</td>\n",
       "      <td>438981</td>\n",
       "      <td>Nc1[nH]nc2c1nc1ccccc1n2</td>\n",
       "      <td>InChI=1S/C9H7N5/c10-8-7-9(14-13-8)12-6-4-2-1-3...</td>\n",
       "      <td>DWHVZCLBMTZRQM-UHFFFAOYSA-N</td>\n",
       "      <td>...</td>\n",
       "      <td>IC50</td>\n",
       "      <td>NaN</td>\n",
       "      <td>1000.0</td>\n",
       "      <td>NaN</td>\n",
       "      <td>=</td>\n",
       "      <td>NaN</td>\n",
       "      <td>NaN</td>\n",
       "      <td>NaN</td>\n",
       "      <td>18077363</td>\n",
       "      <td>NaN</td>\n",
       "    </tr>\n",
       "  </tbody>\n",
       "</table>\n",
       "<p>5 rows × 30 columns</p>\n",
       "</div>"
      ],
      "text/plain": [
       "                                 target target_id target_uniprot  \\\n",
       "glycogen synthase kinase 3 beta    2030    P49841          Human   \n",
       "glycogen synthase kinase 3 beta    2030    P49841          Human   \n",
       "glycogen synthase kinase 3 beta    2030    P49841          Human   \n",
       "glycogen synthase kinase 3 beta    2030    P49841          Human   \n",
       "glycogen synthase kinase 3 beta    2030    P49841          Human   \n",
       "\n",
       "                                              target_species  ligand  \\\n",
       "glycogen synthase kinase 3 beta               Li<sup>+</sup>    5212   \n",
       "glycogen synthase kinase 3 beta               alsterpaullone    5925   \n",
       "glycogen synthase kinase 3 beta  alsterpaullone 2-cyanoethyl    5926   \n",
       "glycogen synthase kinase 3 beta            Cdk/Crk inhibitor    5943   \n",
       "glycogen synthase kinase 3 beta             Cdk1/5 inhibitor    5947   \n",
       "\n",
       "                                 ligand_id  ligand_species  \\\n",
       "glycogen synthase kinase 3 beta        NaN         3028194   \n",
       "glycogen synthase kinase 3 beta        NaN         5005498   \n",
       "glycogen synthase kinase 3 beta        NaN        16760286   \n",
       "glycogen synthase kinase 3 beta        NaN       135473382   \n",
       "glycogen synthase kinase 3 beta        NaN          438981   \n",
       "\n",
       "                                                                ligand_pubchem_cid  \\\n",
       "glycogen synthase kinase 3 beta                                                NaN   \n",
       "glycogen synthase kinase 3 beta    O=C1Nc2ccccc2c2c(C1)c1cc(ccc1[nH]2)[N+](=O)[O-]   \n",
       "glycogen synthase kinase 3 beta  N#CCCc1ccc2c(c1)c1[nH]c3c(c1CC(=O)N2)cc(cc3)[N...   \n",
       "glycogen synthase kinase 3 beta  OCCOc1ccc(cc1)Cc1nc(=O)c2c(n1)n([nH]c2C(C)C)c1...   \n",
       "glycogen synthase kinase 3 beta                            Nc1[nH]nc2c1nc1ccccc1n2   \n",
       "\n",
       "                                                                            smiles  \\\n",
       "glycogen synthase kinase 3 beta                                                NaN   \n",
       "glycogen synthase kinase 3 beta  InChI=1S/C16H11N3O3/c20-15-8-12-11-7-9(19(21)2...   \n",
       "glycogen synthase kinase 3 beta  InChI=1S/C19H14N4O3/c20-7-1-2-11-3-5-17-15(8-1...   \n",
       "glycogen synthase kinase 3 beta  InChI=1S/C23H22Cl2N4O3/c1-13(2)20-19-22(29(28-...   \n",
       "glycogen synthase kinase 3 beta  InChI=1S/C9H7N5/c10-8-7-9(14-13-8)12-6-4-2-1-3...   \n",
       "\n",
       "                                                       inchi  ...  \\\n",
       "glycogen synthase kinase 3 beta                          NaN  ...   \n",
       "glycogen synthase kinase 3 beta  OLUKILHGKRVDCT-UHFFFAOYSA-N  ...   \n",
       "glycogen synthase kinase 3 beta  UBLFSMURWWWWMH-UHFFFAOYSA-N  ...   \n",
       "glycogen synthase kinase 3 beta  VQNCIRRXQQTXEL-UHFFFAOYSA-N  ...   \n",
       "glycogen synthase kinase 3 beta  DWHVZCLBMTZRQM-UHFFFAOYSA-N  ...   \n",
       "\n",
       "                                affinity_low original_affinity_units  \\\n",
       "glycogen synthase kinase 3 beta         IC50                     NaN   \n",
       "glycogen synthase kinase 3 beta         IC50                     NaN   \n",
       "glycogen synthase kinase 3 beta         IC50                     NaN   \n",
       "glycogen synthase kinase 3 beta         IC50                     NaN   \n",
       "glycogen synthase kinase 3 beta         IC50                     NaN   \n",
       "\n",
       "                                original_affinity_low_nm  \\\n",
       "glycogen synthase kinase 3 beta                2500000.0   \n",
       "glycogen synthase kinase 3 beta                      4.0   \n",
       "glycogen synthase kinase 3 beta                      0.8   \n",
       "glycogen synthase kinase 3 beta                    754.0   \n",
       "glycogen synthase kinase 3 beta                   1000.0   \n",
       "\n",
       "                                 original_affinity_median_nm  \\\n",
       "glycogen synthase kinase 3 beta                          NaN   \n",
       "glycogen synthase kinase 3 beta                          NaN   \n",
       "glycogen synthase kinase 3 beta                          NaN   \n",
       "glycogen synthase kinase 3 beta                          NaN   \n",
       "glycogen synthase kinase 3 beta                          NaN   \n",
       "\n",
       "                                original_affinity_high_nm  \\\n",
       "glycogen synthase kinase 3 beta                         =   \n",
       "glycogen synthase kinase 3 beta                         =   \n",
       "glycogen synthase kinase 3 beta                         =   \n",
       "glycogen synthase kinase 3 beta                         =   \n",
       "glycogen synthase kinase 3 beta                         =   \n",
       "\n",
       "                                 original_affinity_relation assay_description  \\\n",
       "glycogen synthase kinase 3 beta                         NaN               NaN   \n",
       "glycogen synthase kinase 3 beta                         NaN               NaN   \n",
       "glycogen synthase kinase 3 beta                         NaN               NaN   \n",
       "glycogen synthase kinase 3 beta                         NaN               NaN   \n",
       "glycogen synthase kinase 3 beta                         NaN               NaN   \n",
       "\n",
       "                                 receptor_site  ligand_context  pubmed_id  \n",
       "glycogen synthase kinase 3 beta            NaN        11162580        NaN  \n",
       "glycogen synthase kinase 3 beta            NaN        10998059        NaN  \n",
       "glycogen synthase kinase 3 beta            NaN        18077363        NaN  \n",
       "glycogen synthase kinase 3 beta            NaN        18077363        NaN  \n",
       "glycogen synthase kinase 3 beta            NaN        18077363        NaN  \n",
       "\n",
       "[5 rows x 30 columns]"
      ]
     },
     "execution_count": 1,
     "metadata": {},
     "output_type": "execute_result"
    }
   ],
   "source": [
    "import pandas as pd\n",
    "# Download csv file of small molecule interactions to /workspace/assets/test-files/GSK3B_inhibitor.csv\n",
    "!wget -O /workspace/assets/test-files/GSK3B_inhibitor.csv https://www.guidetopharmacology.org/GRAC/SARFileDownload?objectId=2030\n",
    "gsk3b_inhibitor_df = pd.read_csv(\"/workspace/assets/test-files/GSK3B_inhibitor.csv\")\n",
    "gsk3b_inhibitor_df.head(5)"
   ]
  },
  {
   "cell_type": "markdown",
   "id": "d0b70779",
   "metadata": {},
   "source": [
    "Now we will create a YAML file to model the binding of GSK3B to each of the known inhibitors that target Human GSK3B. The general structure of the YAML file is as follows:\n",
    "\n",
    "```yaml\n",
    "version: 1\n",
    "sequences:\n",
    "    # GSK3B\n",
    "    - protein:\n",
    "        id: A \n",
    "        sequence: MSGRPRTTSFAESCKPVQQPSAFGSMKVSRDKDGSKVTTVVATPGQGPDRPQEVSYTDTKVIGNGSFGVVYQAKLCDSGELVAIKKVLQDKRFKNRELQIMRKLDHCNIVRLRYFFYSSGEKKDEVYLNLVLDYVPETVYRVARHYSRAKQTLPVIYVKLYMYQLFRSLAYIHSFGICHRDIKPQNLLLDPDTAVLKLCDFGSAKQLVRGEPNVSYICSRYYRAPELIFGATDYTSSIDVWSAGCVLAELLLGQPIFPGDSGVDQLVEIIKVLGTPTREQIREMNPNYTEFKFPQIKAHPWTKVFRPRTPPEAIALCSRLLEYTPTARLTPLEACAHSFFDELRDPNVKLPNGRDTPALFNFTTQELSSNPPLATILIPPHARIQAAASTPTNATAASDANTGDRGQTNNAASASASNST\n",
    "    # GSK3B inhibitor\n",
    "    - ligand:\n",
    "      id: B\n",
    "      smiles: 'INHIBITOR-SMILES'\n",
    "```"
   ]
  },
  {
   "cell_type": "code",
   "execution_count": 2,
   "id": "6c4dd727",
   "metadata": {},
   "outputs": [
    {
     "name": "stdout",
     "output_type": "stream",
     "text": [
      "Generated YAML for 5925\n",
      "Generated YAML for 5926\n",
      "Generated YAML for 5943\n",
      "Generated YAML for 5947\n",
      "Generated YAML for 5955\n",
      "Generated YAML for 5976\n",
      "Generated YAML for 5977\n",
      "Generated YAML for 5978\n",
      "Generated YAML for 5979\n",
      "Generated YAML for 5980\n",
      "Generated YAML for 5989\n",
      "Generated YAML for 5991\n",
      "Generated YAML for 6000\n",
      "Generated YAML for 6929\n",
      "Generated YAML for 7744\n",
      "Generated YAML for 7819\n",
      "Generated YAML for 7907\n",
      "Generated YAML for 7958\n",
      "Generated YAML for 8006\n",
      "Generated YAML for 8007\n",
      "Generated YAML for 8014\n",
      "Generated YAML for 8015\n",
      "Generated YAML for 8016\n",
      "Generated YAML for 8017\n",
      "Generated YAML for 8018\n",
      "Generated YAML for 8019\n",
      "Generated YAML for 8114\n",
      "Generated YAML for 8115\n",
      "Generated YAML for 8171\n",
      "Generated YAML for 8478\n",
      "Generated YAML for 9198\n",
      "Generated YAML for 9810\n",
      "Generated YAML for 9811\n",
      "Generated YAML for 9923\n",
      "Generated YAML for 10108\n",
      "Generated YAML for 10688\n",
      "Generated YAML for 11407\n",
      "Generated YAML for 11412\n",
      "Generated YAML for 11548\n",
      "Generated YAML for 13774\n"
     ]
    }
   ],
   "source": [
    "for _, row in gsk3b_inhibitor_df.dropna(subset=[\"ligand_pubchem_cid\"]).iterrows():\n",
    "    if row[\"ligand_pubchem_cid\"] != \"nan\" and row[\"target_uniprot\"] == \"Human\":\n",
    "        yaml_str = f\"\"\"# This is a comment\n",
    "version: 1\n",
    "sequences:\n",
    "    # GSK3B\n",
    "    - protein:\n",
    "        id: A \n",
    "        sequence: MSGRPRTTSFAESCKPVQQPSAFGSMKVSRDKDGSKVTTVVATPGQGPDRPQEVSYTDTKVIGNGSFGVVYQAKLCDSGELVAIKKVLQDKRFKNRELQIMRKLDHCNIVRLRYFFYSSGEKKDEVYLNLVLDYVPETVYRVARHYSRAKQTLPVIYVKLYMYQLFRSLAYIHSFGICHRDIKPQNLLLDPDTAVLKLCDFGSAKQLVRGEPNVSYICSRYYRAPELIFGATDYTSSIDVWSAGCVLAELLLGQPIFPGDSGVDQLVEIIKVLGTPTREQIREMNPNYTEFKFPQIKAHPWTKVFRPRTPPEAIALCSRLLEYTPTARLTPLEACAHSFFDELRDPNVKLPNGRDTPALFNFTTQELSSNPPLATILIPPHARIQAAASTPTNATAASDANTGDRGQTNNAASASASNST\n",
    "    # GSK3B inhibitor\n",
    "    - ligand:\n",
    "        id: B\n",
    "        smiles: '{row[\"ligand_pubchem_cid\"]}'\n",
    "\"\"\"\n",
    "        with open(f\"/workspace/assets/test-files/boltz/GSK3B_inhibitor_{row['ligand']}.yaml\", \"w\") as f:\n",
    "            f.write(yaml_str)\n",
    "        print(f\"Generated YAML for {row['ligand']}\")"
   ]
  },
  {
   "cell_type": "code",
   "execution_count": 3,
   "id": "67d79b63",
   "metadata": {},
   "outputs": [
    {
     "name": "stdout",
     "output_type": "stream",
     "text": [
      "Checking input data.\n",
      "Running predictions for 1 structure\n",
      "Processing input data.\n"
     ]
    },
    {
     "name": "stderr",
     "output_type": "stream",
     "text": [
      "  0%|          | 0/1 [00:00<?, ?it/s]\n",
      "  0%|          | 0/150 [elapsed: 00:00 remaining: ?]\u001b[A\n",
      "SUBMIT:   0%|          | 0/150 [elapsed: 00:00 remaining: ?]\u001b[A"
     ]
    },
    {
     "name": "stdout",
     "output_type": "stream",
     "text": [
      "Generating MSA for /workspace/assets/test-files/boltz/GSK3B_inhibitor_5925.yaml with 1 protein entities.\n"
     ]
    },
    {
     "name": "stderr",
     "output_type": "stream",
     "text": [
      "\n",
      "COMPLETE:   0%|          | 0/150 [elapsed: 00:00 remaining: ?]\u001b[A\n",
      "COMPLETE: 100%|██████████| 150/150 [elapsed: 00:02 remaining: 00:00]\u001b[A\n",
      "100%|██████████| 1/1 [00:03<00:00,  3.13s/it]\n",
      "GPU available: True (cuda), used: True\n",
      "TPU available: False, using: 0 TPU cores\n",
      "HPU available: False, using: 0 HPUs\n",
      "/usr/local/lib/python3.10/dist-packages/pytorch_lightning/trainer/connectors/logger_connector/logger_connector.py:75: Starting from v1.9.0, `tensorboardX` has been removed as a dependency of the `pytorch_lightning` package, due to potential conflicts with other packages in the ML ecosystem. For this reason, `logger=True` will use `CSVLogger` as the default logger, unless the `tensorboard` or `tensorboardX` packages are found. Please `pip install lightning[extra]` or one of them to enable TensorBoard support by default\n",
      "You are using a CUDA device ('NVIDIA L40S') that has Tensor Cores. To properly utilize them, you should set `torch.set_float32_matmul_precision('medium' | 'high')` which will trade-off precision for performance. For more details, read https://pytorch.org/docs/stable/generated/torch.set_float32_matmul_precision.html#torch.set_float32_matmul_precision\n",
      "LOCAL_RANK: 0 - CUDA_VISIBLE_DEVICES: [0]\n"
     ]
    },
    {
     "name": "stdout",
     "output_type": "stream",
     "text": [
      "Predicting DataLoader 0: 100%|██████████| 1/1 [22:13<00:00,  0.00it/s]Number of failed examples: 0\n",
      "Predicting DataLoader 0: 100%|██████████| 1/1 [22:13<00:00,  0.00it/s]\n",
      "Checking input data.\n",
      "Running predictions for 1 structure\n",
      "Processing input data.\n"
     ]
    },
    {
     "name": "stderr",
     "output_type": "stream",
     "text": [
      "  0%|          | 0/1 [00:00<?, ?it/s]\n",
      "  0%|          | 0/150 [elapsed: 00:00 remaining: ?]\u001b[A\n",
      "SUBMIT:   0%|          | 0/150 [elapsed: 00:00 remaining: ?]\u001b[A"
     ]
    },
    {
     "name": "stdout",
     "output_type": "stream",
     "text": [
      "Generating MSA for /workspace/assets/test-files/boltz/GSK3B_inhibitor_5926.yaml with 1 protein entities.\n"
     ]
    },
    {
     "name": "stderr",
     "output_type": "stream",
     "text": [
      "\n",
      "COMPLETE:   0%|          | 0/150 [elapsed: 00:00 remaining: ?]\u001b[A\n",
      "COMPLETE: 100%|██████████| 150/150 [elapsed: 00:02 remaining: 00:00]\u001b[A\n",
      "100%|██████████| 1/1 [00:03<00:00,  3.35s/it]\n",
      "GPU available: True (cuda), used: True\n",
      "TPU available: False, using: 0 TPU cores\n",
      "HPU available: False, using: 0 HPUs\n",
      "/usr/local/lib/python3.10/dist-packages/pytorch_lightning/trainer/connectors/logger_connector/logger_connector.py:75: Starting from v1.9.0, `tensorboardX` has been removed as a dependency of the `pytorch_lightning` package, due to potential conflicts with other packages in the ML ecosystem. For this reason, `logger=True` will use `CSVLogger` as the default logger, unless the `tensorboard` or `tensorboardX` packages are found. Please `pip install lightning[extra]` or one of them to enable TensorBoard support by default\n",
      "You are using a CUDA device ('NVIDIA L40S') that has Tensor Cores. To properly utilize them, you should set `torch.set_float32_matmul_precision('medium' | 'high')` which will trade-off precision for performance. For more details, read https://pytorch.org/docs/stable/generated/torch.set_float32_matmul_precision.html#torch.set_float32_matmul_precision\n",
      "LOCAL_RANK: 0 - CUDA_VISIBLE_DEVICES: [0]\n"
     ]
    },
    {
     "name": "stdout",
     "output_type": "stream",
     "text": [
      "Predicting DataLoader 0: 100%|██████████| 1/1 [24:02<00:00,  0.00it/s]Number of failed examples: 0\n",
      "Predicting DataLoader 0: 100%|██████████| 1/1 [24:02<00:00,  0.00it/s]\n",
      "Checking input data.\n",
      "Running predictions for 1 structure\n",
      "Processing input data.\n"
     ]
    },
    {
     "name": "stderr",
     "output_type": "stream",
     "text": [
      "  0%|          | 0/1 [00:00<?, ?it/s]\n",
      "  0%|          | 0/150 [elapsed: 00:00 remaining: ?]\u001b[A\n",
      "SUBMIT:   0%|          | 0/150 [elapsed: 00:00 remaining: ?]\u001b[A"
     ]
    },
    {
     "name": "stdout",
     "output_type": "stream",
     "text": [
      "Generating MSA for /workspace/assets/test-files/boltz/GSK3B_inhibitor_5943.yaml with 1 protein entities.\n"
     ]
    },
    {
     "name": "stderr",
     "output_type": "stream",
     "text": [
      "\n",
      "COMPLETE:   0%|          | 0/150 [elapsed: 00:00 remaining: ?]\u001b[A\n",
      "COMPLETE: 100%|██████████| 150/150 [elapsed: 00:01 remaining: 00:00]\u001b[A\n",
      "100%|██████████| 1/1 [00:01<00:00,  1.74s/it]\n",
      "GPU available: True (cuda), used: True\n",
      "TPU available: False, using: 0 TPU cores\n",
      "HPU available: False, using: 0 HPUs\n",
      "/usr/local/lib/python3.10/dist-packages/pytorch_lightning/trainer/connectors/logger_connector/logger_connector.py:75: Starting from v1.9.0, `tensorboardX` has been removed as a dependency of the `pytorch_lightning` package, due to potential conflicts with other packages in the ML ecosystem. For this reason, `logger=True` will use `CSVLogger` as the default logger, unless the `tensorboard` or `tensorboardX` packages are found. Please `pip install lightning[extra]` or one of them to enable TensorBoard support by default\n",
      "You are using a CUDA device ('NVIDIA L40S') that has Tensor Cores. To properly utilize them, you should set `torch.set_float32_matmul_precision('medium' | 'high')` which will trade-off precision for performance. For more details, read https://pytorch.org/docs/stable/generated/torch.set_float32_matmul_precision.html#torch.set_float32_matmul_precision\n",
      "LOCAL_RANK: 0 - CUDA_VISIBLE_DEVICES: [0]\n"
     ]
    },
    {
     "name": "stdout",
     "output_type": "stream",
     "text": [
      "Predicting DataLoader 0: 100%|██████████| 1/1 [24:34<00:00,  0.00it/s]Number of failed examples: 0\n",
      "Predicting DataLoader 0: 100%|██████████| 1/1 [24:34<00:00,  0.00it/s]\n",
      "Checking input data.\n",
      "Running predictions for 1 structure\n",
      "Processing input data.\n"
     ]
    },
    {
     "name": "stderr",
     "output_type": "stream",
     "text": [
      "  0%|          | 0/1 [00:00<?, ?it/s]\n",
      "  0%|          | 0/150 [elapsed: 00:00 remaining: ?]\u001b[A\n",
      "SUBMIT:   0%|          | 0/150 [elapsed: 00:00 remaining: ?]\u001b[A"
     ]
    },
    {
     "name": "stdout",
     "output_type": "stream",
     "text": [
      "Generating MSA for /workspace/assets/test-files/boltz/GSK3B_inhibitor_5947.yaml with 1 protein entities.\n"
     ]
    },
    {
     "name": "stderr",
     "output_type": "stream",
     "text": [
      "\n",
      "COMPLETE:   0%|          | 0/150 [elapsed: 00:00 remaining: ?]\u001b[A\n",
      "COMPLETE: 100%|██████████| 150/150 [elapsed: 00:02 remaining: 00:00]\u001b[A\n",
      "100%|██████████| 1/1 [00:02<00:00,  2.42s/it]\n",
      "GPU available: True (cuda), used: True\n",
      "TPU available: False, using: 0 TPU cores\n",
      "HPU available: False, using: 0 HPUs\n",
      "/usr/local/lib/python3.10/dist-packages/pytorch_lightning/trainer/connectors/logger_connector/logger_connector.py:75: Starting from v1.9.0, `tensorboardX` has been removed as a dependency of the `pytorch_lightning` package, due to potential conflicts with other packages in the ML ecosystem. For this reason, `logger=True` will use `CSVLogger` as the default logger, unless the `tensorboard` or `tensorboardX` packages are found. Please `pip install lightning[extra]` or one of them to enable TensorBoard support by default\n",
      "You are using a CUDA device ('NVIDIA L40S') that has Tensor Cores. To properly utilize them, you should set `torch.set_float32_matmul_precision('medium' | 'high')` which will trade-off precision for performance. For more details, read https://pytorch.org/docs/stable/generated/torch.set_float32_matmul_precision.html#torch.set_float32_matmul_precision\n",
      "LOCAL_RANK: 0 - CUDA_VISIBLE_DEVICES: [0]\n"
     ]
    },
    {
     "name": "stdout",
     "output_type": "stream",
     "text": [
      "Predicting DataLoader 0: 100%|██████████| 1/1 [23:14<00:00,  0.00it/s]Number of failed examples: 0\n",
      "Predicting DataLoader 0: 100%|██████████| 1/1 [23:14<00:00,  0.00it/s]\n",
      "Checking input data.\n",
      "Running predictions for 1 structure\n",
      "Processing input data.\n"
     ]
    },
    {
     "name": "stderr",
     "output_type": "stream",
     "text": [
      "  0%|          | 0/1 [00:00<?, ?it/s]\n",
      "  0%|          | 0/150 [elapsed: 00:00 remaining: ?]\u001b[A\n",
      "SUBMIT:   0%|          | 0/150 [elapsed: 00:00 remaining: ?]\u001b[A"
     ]
    },
    {
     "name": "stdout",
     "output_type": "stream",
     "text": [
      "Generating MSA for /workspace/assets/test-files/boltz/GSK3B_inhibitor_5955.yaml with 1 protein entities.\n"
     ]
    },
    {
     "name": "stderr",
     "output_type": "stream",
     "text": [
      "\n",
      "COMPLETE:   0%|          | 0/150 [elapsed: 00:00 remaining: ?]\u001b[A\n",
      "COMPLETE: 100%|██████████| 150/150 [elapsed: 00:01 remaining: 00:00]\u001b[A\n",
      "100%|██████████| 1/1 [00:01<00:00,  1.84s/it]\n",
      "GPU available: True (cuda), used: True\n",
      "TPU available: False, using: 0 TPU cores\n",
      "HPU available: False, using: 0 HPUs\n",
      "/usr/local/lib/python3.10/dist-packages/pytorch_lightning/trainer/connectors/logger_connector/logger_connector.py:75: Starting from v1.9.0, `tensorboardX` has been removed as a dependency of the `pytorch_lightning` package, due to potential conflicts with other packages in the ML ecosystem. For this reason, `logger=True` will use `CSVLogger` as the default logger, unless the `tensorboard` or `tensorboardX` packages are found. Please `pip install lightning[extra]` or one of them to enable TensorBoard support by default\n",
      "You are using a CUDA device ('NVIDIA L40S') that has Tensor Cores. To properly utilize them, you should set `torch.set_float32_matmul_precision('medium' | 'high')` which will trade-off precision for performance. For more details, read https://pytorch.org/docs/stable/generated/torch.set_float32_matmul_precision.html#torch.set_float32_matmul_precision\n",
      "LOCAL_RANK: 0 - CUDA_VISIBLE_DEVICES: [0]\n"
     ]
    },
    {
     "name": "stdout",
     "output_type": "stream",
     "text": [
      "Predicting DataLoader 0: 100%|██████████| 1/1 [23:49<00:00,  0.00it/s]Number of failed examples: 0\n",
      "Predicting DataLoader 0: 100%|██████████| 1/1 [23:49<00:00,  0.00it/s]\n",
      "Checking input data.\n",
      "Running predictions for 1 structure\n",
      "Processing input data.\n"
     ]
    },
    {
     "name": "stderr",
     "output_type": "stream",
     "text": [
      "  0%|          | 0/1 [00:00<?, ?it/s]\n",
      "  0%|          | 0/150 [elapsed: 00:00 remaining: ?]\u001b[A\n",
      "SUBMIT:   0%|          | 0/150 [elapsed: 00:00 remaining: ?]\u001b[A"
     ]
    },
    {
     "name": "stdout",
     "output_type": "stream",
     "text": [
      "Generating MSA for /workspace/assets/test-files/boltz/GSK3B_inhibitor_5976.yaml with 1 protein entities.\n"
     ]
    },
    {
     "name": "stderr",
     "output_type": "stream",
     "text": [
      "\n",
      "COMPLETE:   0%|          | 0/150 [elapsed: 00:00 remaining: ?]\u001b[A\n",
      "COMPLETE: 100%|██████████| 150/150 [elapsed: 00:01 remaining: 00:00]\u001b[A\n",
      "100%|██████████| 1/1 [00:02<00:00,  2.34s/it]\n",
      "GPU available: True (cuda), used: True\n",
      "TPU available: False, using: 0 TPU cores\n",
      "HPU available: False, using: 0 HPUs\n",
      "/usr/local/lib/python3.10/dist-packages/pytorch_lightning/trainer/connectors/logger_connector/logger_connector.py:75: Starting from v1.9.0, `tensorboardX` has been removed as a dependency of the `pytorch_lightning` package, due to potential conflicts with other packages in the ML ecosystem. For this reason, `logger=True` will use `CSVLogger` as the default logger, unless the `tensorboard` or `tensorboardX` packages are found. Please `pip install lightning[extra]` or one of them to enable TensorBoard support by default\n",
      "You are using a CUDA device ('NVIDIA L40S') that has Tensor Cores. To properly utilize them, you should set `torch.set_float32_matmul_precision('medium' | 'high')` which will trade-off precision for performance. For more details, read https://pytorch.org/docs/stable/generated/torch.set_float32_matmul_precision.html#torch.set_float32_matmul_precision\n",
      "LOCAL_RANK: 0 - CUDA_VISIBLE_DEVICES: [0]\n"
     ]
    },
    {
     "name": "stdout",
     "output_type": "stream",
     "text": [
      "Predicting DataLoader 0: 100%|██████████| 1/1 [23:45<00:00,  0.00it/s]Number of failed examples: 0\n",
      "Predicting DataLoader 0: 100%|██████████| 1/1 [23:45<00:00,  0.00it/s]\n",
      "Checking input data.\n",
      "Running predictions for 1 structure\n",
      "Processing input data.\n"
     ]
    },
    {
     "name": "stderr",
     "output_type": "stream",
     "text": [
      "  0%|          | 0/1 [00:00<?, ?it/s]\n",
      "  0%|          | 0/150 [elapsed: 00:00 remaining: ?]\u001b[A\n",
      "SUBMIT:   0%|          | 0/150 [elapsed: 00:00 remaining: ?]\u001b[A"
     ]
    },
    {
     "name": "stdout",
     "output_type": "stream",
     "text": [
      "Generating MSA for /workspace/assets/test-files/boltz/GSK3B_inhibitor_5977.yaml with 1 protein entities.\n"
     ]
    },
    {
     "name": "stderr",
     "output_type": "stream",
     "text": [
      "\n",
      "COMPLETE:   0%|          | 0/150 [elapsed: 00:00 remaining: ?]\u001b[A\n",
      "COMPLETE: 100%|██████████| 150/150 [elapsed: 00:01 remaining: 00:00]\u001b[A\n",
      "100%|██████████| 1/1 [00:01<00:00,  1.73s/it]\n",
      "GPU available: True (cuda), used: True\n",
      "TPU available: False, using: 0 TPU cores\n",
      "HPU available: False, using: 0 HPUs\n",
      "/usr/local/lib/python3.10/dist-packages/pytorch_lightning/trainer/connectors/logger_connector/logger_connector.py:75: Starting from v1.9.0, `tensorboardX` has been removed as a dependency of the `pytorch_lightning` package, due to potential conflicts with other packages in the ML ecosystem. For this reason, `logger=True` will use `CSVLogger` as the default logger, unless the `tensorboard` or `tensorboardX` packages are found. Please `pip install lightning[extra]` or one of them to enable TensorBoard support by default\n",
      "You are using a CUDA device ('NVIDIA L40S') that has Tensor Cores. To properly utilize them, you should set `torch.set_float32_matmul_precision('medium' | 'high')` which will trade-off precision for performance. For more details, read https://pytorch.org/docs/stable/generated/torch.set_float32_matmul_precision.html#torch.set_float32_matmul_precision\n",
      "LOCAL_RANK: 0 - CUDA_VISIBLE_DEVICES: [0]\n"
     ]
    },
    {
     "name": "stdout",
     "output_type": "stream",
     "text": [
      "Predicting DataLoader 0: 100%|██████████| 1/1 [23:04<00:00,  0.00it/s]Number of failed examples: 0\n",
      "Predicting DataLoader 0: 100%|██████████| 1/1 [23:04<00:00,  0.00it/s]\n",
      "Checking input data.\n",
      "Running predictions for 1 structure\n",
      "Processing input data.\n"
     ]
    },
    {
     "name": "stderr",
     "output_type": "stream",
     "text": [
      "  0%|          | 0/1 [00:00<?, ?it/s]\n",
      "  0%|          | 0/150 [elapsed: 00:00 remaining: ?]\u001b[A\n",
      "SUBMIT:   0%|          | 0/150 [elapsed: 00:00 remaining: ?]\u001b[A"
     ]
    },
    {
     "name": "stdout",
     "output_type": "stream",
     "text": [
      "Generating MSA for /workspace/assets/test-files/boltz/GSK3B_inhibitor_5978.yaml with 1 protein entities.\n"
     ]
    },
    {
     "name": "stderr",
     "output_type": "stream",
     "text": [
      "\n",
      "COMPLETE:   0%|          | 0/150 [elapsed: 00:00 remaining: ?]\u001b[A\n",
      "COMPLETE: 100%|██████████| 150/150 [elapsed: 00:02 remaining: 00:00]\u001b[A\n",
      "100%|██████████| 1/1 [00:02<00:00,  2.40s/it]\n",
      "GPU available: True (cuda), used: True\n",
      "TPU available: False, using: 0 TPU cores\n",
      "HPU available: False, using: 0 HPUs\n",
      "/usr/local/lib/python3.10/dist-packages/pytorch_lightning/trainer/connectors/logger_connector/logger_connector.py:75: Starting from v1.9.0, `tensorboardX` has been removed as a dependency of the `pytorch_lightning` package, due to potential conflicts with other packages in the ML ecosystem. For this reason, `logger=True` will use `CSVLogger` as the default logger, unless the `tensorboard` or `tensorboardX` packages are found. Please `pip install lightning[extra]` or one of them to enable TensorBoard support by default\n",
      "You are using a CUDA device ('NVIDIA L40S') that has Tensor Cores. To properly utilize them, you should set `torch.set_float32_matmul_precision('medium' | 'high')` which will trade-off precision for performance. For more details, read https://pytorch.org/docs/stable/generated/torch.set_float32_matmul_precision.html#torch.set_float32_matmul_precision\n",
      "LOCAL_RANK: 0 - CUDA_VISIBLE_DEVICES: [0]\n"
     ]
    },
    {
     "name": "stdout",
     "output_type": "stream",
     "text": [
      "Predicting DataLoader 0: 100%|██████████| 1/1 [23:26<00:00,  0.00it/s]Number of failed examples: 0\n",
      "Predicting DataLoader 0: 100%|██████████| 1/1 [23:26<00:00,  0.00it/s]\n",
      "Checking input data.\n",
      "Running predictions for 1 structure\n",
      "Processing input data.\n"
     ]
    },
    {
     "name": "stderr",
     "output_type": "stream",
     "text": [
      "  0%|          | 0/1 [00:00<?, ?it/s]\n",
      "  0%|          | 0/150 [elapsed: 00:00 remaining: ?]\u001b[A\n",
      "SUBMIT:   0%|          | 0/150 [elapsed: 00:00 remaining: ?]\u001b[A"
     ]
    },
    {
     "name": "stdout",
     "output_type": "stream",
     "text": [
      "Generating MSA for /workspace/assets/test-files/boltz/GSK3B_inhibitor_5979.yaml with 1 protein entities.\n"
     ]
    },
    {
     "name": "stderr",
     "output_type": "stream",
     "text": [
      "\n",
      "COMPLETE:   0%|          | 0/150 [elapsed: 00:00 remaining: ?]\u001b[A\n",
      "COMPLETE: 100%|██████████| 150/150 [elapsed: 00:01 remaining: 00:00]\u001b[A\n",
      "100%|██████████| 1/1 [00:02<00:00,  2.36s/it]\n",
      "GPU available: True (cuda), used: True\n",
      "TPU available: False, using: 0 TPU cores\n",
      "HPU available: False, using: 0 HPUs\n",
      "/usr/local/lib/python3.10/dist-packages/pytorch_lightning/trainer/connectors/logger_connector/logger_connector.py:75: Starting from v1.9.0, `tensorboardX` has been removed as a dependency of the `pytorch_lightning` package, due to potential conflicts with other packages in the ML ecosystem. For this reason, `logger=True` will use `CSVLogger` as the default logger, unless the `tensorboard` or `tensorboardX` packages are found. Please `pip install lightning[extra]` or one of them to enable TensorBoard support by default\n",
      "You are using a CUDA device ('NVIDIA L40S') that has Tensor Cores. To properly utilize them, you should set `torch.set_float32_matmul_precision('medium' | 'high')` which will trade-off precision for performance. For more details, read https://pytorch.org/docs/stable/generated/torch.set_float32_matmul_precision.html#torch.set_float32_matmul_precision\n",
      "LOCAL_RANK: 0 - CUDA_VISIBLE_DEVICES: [0]\n"
     ]
    },
    {
     "name": "stdout",
     "output_type": "stream",
     "text": [
      "Predicting DataLoader 0: 100%|██████████| 1/1 [23:42<00:00,  0.00it/s]Number of failed examples: 0\n",
      "Predicting DataLoader 0: 100%|██████████| 1/1 [23:42<00:00,  0.00it/s]\n",
      "Checking input data.\n",
      "Running predictions for 1 structure\n",
      "Processing input data.\n"
     ]
    },
    {
     "name": "stderr",
     "output_type": "stream",
     "text": [
      "  0%|          | 0/1 [00:00<?, ?it/s]\n",
      "  0%|          | 0/150 [elapsed: 00:00 remaining: ?]\u001b[A\n",
      "SUBMIT:   0%|          | 0/150 [elapsed: 00:00 remaining: ?]\u001b[A"
     ]
    },
    {
     "name": "stdout",
     "output_type": "stream",
     "text": [
      "Generating MSA for /workspace/assets/test-files/boltz/GSK3B_inhibitor_5980.yaml with 1 protein entities.\n"
     ]
    },
    {
     "name": "stderr",
     "output_type": "stream",
     "text": [
      "\n",
      "COMPLETE:   0%|          | 0/150 [elapsed: 00:00 remaining: ?]\u001b[A\n",
      "COMPLETE: 100%|██████████| 150/150 [elapsed: 00:01 remaining: 00:00]\u001b[A\n",
      "100%|██████████| 1/1 [00:02<00:00,  2.48s/it]\n",
      "GPU available: True (cuda), used: True\n",
      "TPU available: False, using: 0 TPU cores\n",
      "HPU available: False, using: 0 HPUs\n",
      "/usr/local/lib/python3.10/dist-packages/pytorch_lightning/trainer/connectors/logger_connector/logger_connector.py:75: Starting from v1.9.0, `tensorboardX` has been removed as a dependency of the `pytorch_lightning` package, due to potential conflicts with other packages in the ML ecosystem. For this reason, `logger=True` will use `CSVLogger` as the default logger, unless the `tensorboard` or `tensorboardX` packages are found. Please `pip install lightning[extra]` or one of them to enable TensorBoard support by default\n",
      "You are using a CUDA device ('NVIDIA L40S') that has Tensor Cores. To properly utilize them, you should set `torch.set_float32_matmul_precision('medium' | 'high')` which will trade-off precision for performance. For more details, read https://pytorch.org/docs/stable/generated/torch.set_float32_matmul_precision.html#torch.set_float32_matmul_precision\n",
      "LOCAL_RANK: 0 - CUDA_VISIBLE_DEVICES: [0]\n"
     ]
    },
    {
     "name": "stdout",
     "output_type": "stream",
     "text": [
      "Predicting DataLoader 0: 100%|██████████| 1/1 [23:45<00:00,  0.00it/s]Number of failed examples: 0\n",
      "Predicting DataLoader 0: 100%|██████████| 1/1 [23:45<00:00,  0.00it/s]\n",
      "Checking input data.\n",
      "Running predictions for 1 structure\n",
      "Processing input data.\n"
     ]
    },
    {
     "name": "stderr",
     "output_type": "stream",
     "text": [
      "  0%|          | 0/1 [00:00<?, ?it/s]\n",
      "  0%|          | 0/150 [elapsed: 00:00 remaining: ?]\u001b[A\n",
      "SUBMIT:   0%|          | 0/150 [elapsed: 00:00 remaining: ?]\u001b[A"
     ]
    },
    {
     "name": "stdout",
     "output_type": "stream",
     "text": [
      "Generating MSA for /workspace/assets/test-files/boltz/GSK3B_inhibitor_5989.yaml with 1 protein entities.\n"
     ]
    },
    {
     "name": "stderr",
     "output_type": "stream",
     "text": [
      "\n",
      "COMPLETE:   0%|          | 0/150 [elapsed: 00:00 remaining: ?]\u001b[A\n",
      "COMPLETE: 100%|██████████| 150/150 [elapsed: 00:01 remaining: 00:00]\u001b[A\n",
      "100%|██████████| 1/1 [00:02<00:00,  2.36s/it]\n",
      "GPU available: True (cuda), used: True\n",
      "TPU available: False, using: 0 TPU cores\n",
      "HPU available: False, using: 0 HPUs\n",
      "/usr/local/lib/python3.10/dist-packages/pytorch_lightning/trainer/connectors/logger_connector/logger_connector.py:75: Starting from v1.9.0, `tensorboardX` has been removed as a dependency of the `pytorch_lightning` package, due to potential conflicts with other packages in the ML ecosystem. For this reason, `logger=True` will use `CSVLogger` as the default logger, unless the `tensorboard` or `tensorboardX` packages are found. Please `pip install lightning[extra]` or one of them to enable TensorBoard support by default\n",
      "You are using a CUDA device ('NVIDIA L40S') that has Tensor Cores. To properly utilize them, you should set `torch.set_float32_matmul_precision('medium' | 'high')` which will trade-off precision for performance. For more details, read https://pytorch.org/docs/stable/generated/torch.set_float32_matmul_precision.html#torch.set_float32_matmul_precision\n",
      "LOCAL_RANK: 0 - CUDA_VISIBLE_DEVICES: [0]\n"
     ]
    },
    {
     "name": "stdout",
     "output_type": "stream",
     "text": [
      "Predicting DataLoader 0: 100%|██████████| 1/1 [23:41<00:00,  0.00it/s]Number of failed examples: 0\n",
      "Predicting DataLoader 0: 100%|██████████| 1/1 [23:41<00:00,  0.00it/s]\n",
      "Checking input data.\n",
      "Running predictions for 1 structure\n",
      "Processing input data.\n"
     ]
    },
    {
     "name": "stderr",
     "output_type": "stream",
     "text": [
      "  0%|          | 0/1 [00:00<?, ?it/s]\n",
      "  0%|          | 0/150 [elapsed: 00:00 remaining: ?]\u001b[A\n",
      "SUBMIT:   0%|          | 0/150 [elapsed: 00:00 remaining: ?]\u001b[A"
     ]
    },
    {
     "name": "stdout",
     "output_type": "stream",
     "text": [
      "Generating MSA for /workspace/assets/test-files/boltz/GSK3B_inhibitor_5991.yaml with 1 protein entities.\n"
     ]
    },
    {
     "name": "stderr",
     "output_type": "stream",
     "text": [
      "\n",
      "COMPLETE:   0%|          | 0/150 [elapsed: 00:00 remaining: ?]\u001b[A\n",
      "COMPLETE: 100%|██████████| 150/150 [elapsed: 00:01 remaining: 00:00]\u001b[A\n",
      "100%|██████████| 1/1 [00:02<00:00,  2.26s/it]\n",
      "GPU available: True (cuda), used: True\n",
      "TPU available: False, using: 0 TPU cores\n",
      "HPU available: False, using: 0 HPUs\n",
      "/usr/local/lib/python3.10/dist-packages/pytorch_lightning/trainer/connectors/logger_connector/logger_connector.py:75: Starting from v1.9.0, `tensorboardX` has been removed as a dependency of the `pytorch_lightning` package, due to potential conflicts with other packages in the ML ecosystem. For this reason, `logger=True` will use `CSVLogger` as the default logger, unless the `tensorboard` or `tensorboardX` packages are found. Please `pip install lightning[extra]` or one of them to enable TensorBoard support by default\n",
      "You are using a CUDA device ('NVIDIA L40S') that has Tensor Cores. To properly utilize them, you should set `torch.set_float32_matmul_precision('medium' | 'high')` which will trade-off precision for performance. For more details, read https://pytorch.org/docs/stable/generated/torch.set_float32_matmul_precision.html#torch.set_float32_matmul_precision\n",
      "LOCAL_RANK: 0 - CUDA_VISIBLE_DEVICES: [0]\n"
     ]
    },
    {
     "name": "stdout",
     "output_type": "stream",
     "text": [
      "Predicting DataLoader 0: 100%|██████████| 1/1 [23:43<00:00,  0.00it/s]Number of failed examples: 0\n",
      "Predicting DataLoader 0: 100%|██████████| 1/1 [23:43<00:00,  0.00it/s]\n",
      "Checking input data.\n",
      "Running predictions for 1 structure\n",
      "Processing input data.\n"
     ]
    },
    {
     "name": "stderr",
     "output_type": "stream",
     "text": [
      "  0%|          | 0/1 [00:00<?, ?it/s]\n",
      "  0%|          | 0/150 [elapsed: 00:00 remaining: ?]\u001b[A\n",
      "SUBMIT:   0%|          | 0/150 [elapsed: 00:00 remaining: ?]\u001b[A"
     ]
    },
    {
     "name": "stdout",
     "output_type": "stream",
     "text": [
      "Generating MSA for /workspace/assets/test-files/boltz/GSK3B_inhibitor_6000.yaml with 1 protein entities.\n"
     ]
    },
    {
     "name": "stderr",
     "output_type": "stream",
     "text": [
      "\n",
      "COMPLETE:   0%|          | 0/150 [elapsed: 00:00 remaining: ?]\u001b[A\n",
      "COMPLETE: 100%|██████████| 150/150 [elapsed: 00:01 remaining: 00:00]\u001b[A\n",
      "100%|██████████| 1/1 [00:01<00:00,  1.71s/it]\n",
      "GPU available: True (cuda), used: True\n",
      "TPU available: False, using: 0 TPU cores\n",
      "HPU available: False, using: 0 HPUs\n",
      "/usr/local/lib/python3.10/dist-packages/pytorch_lightning/trainer/connectors/logger_connector/logger_connector.py:75: Starting from v1.9.0, `tensorboardX` has been removed as a dependency of the `pytorch_lightning` package, due to potential conflicts with other packages in the ML ecosystem. For this reason, `logger=True` will use `CSVLogger` as the default logger, unless the `tensorboard` or `tensorboardX` packages are found. Please `pip install lightning[extra]` or one of them to enable TensorBoard support by default\n",
      "You are using a CUDA device ('NVIDIA L40S') that has Tensor Cores. To properly utilize them, you should set `torch.set_float32_matmul_precision('medium' | 'high')` which will trade-off precision for performance. For more details, read https://pytorch.org/docs/stable/generated/torch.set_float32_matmul_precision.html#torch.set_float32_matmul_precision\n",
      "LOCAL_RANK: 0 - CUDA_VISIBLE_DEVICES: [0]\n"
     ]
    },
    {
     "name": "stdout",
     "output_type": "stream",
     "text": [
      "Predicting DataLoader 0: 100%|██████████| 1/1 [23:28<00:00,  0.00it/s]Number of failed examples: 0\n",
      "Predicting DataLoader 0: 100%|██████████| 1/1 [23:28<00:00,  0.00it/s]\n",
      "Checking input data.\n",
      "Running predictions for 1 structure\n",
      "Processing input data.\n"
     ]
    },
    {
     "name": "stderr",
     "output_type": "stream",
     "text": [
      "  0%|          | 0/1 [00:00<?, ?it/s]\n",
      "  0%|          | 0/150 [elapsed: 00:00 remaining: ?]\u001b[A\n",
      "SUBMIT:   0%|          | 0/150 [elapsed: 00:00 remaining: ?]\u001b[A"
     ]
    },
    {
     "name": "stdout",
     "output_type": "stream",
     "text": [
      "Generating MSA for /workspace/assets/test-files/boltz/GSK3B_inhibitor_6929.yaml with 1 protein entities.\n"
     ]
    },
    {
     "name": "stderr",
     "output_type": "stream",
     "text": [
      "\n",
      "COMPLETE:   0%|          | 0/150 [elapsed: 00:00 remaining: ?]\u001b[A\n",
      "COMPLETE: 100%|██████████| 150/150 [elapsed: 00:02 remaining: 00:00]\u001b[A\n",
      "100%|██████████| 1/1 [00:02<00:00,  2.45s/it]\n",
      "GPU available: True (cuda), used: True\n",
      "TPU available: False, using: 0 TPU cores\n",
      "HPU available: False, using: 0 HPUs\n",
      "/usr/local/lib/python3.10/dist-packages/pytorch_lightning/trainer/connectors/logger_connector/logger_connector.py:75: Starting from v1.9.0, `tensorboardX` has been removed as a dependency of the `pytorch_lightning` package, due to potential conflicts with other packages in the ML ecosystem. For this reason, `logger=True` will use `CSVLogger` as the default logger, unless the `tensorboard` or `tensorboardX` packages are found. Please `pip install lightning[extra]` or one of them to enable TensorBoard support by default\n",
      "You are using a CUDA device ('NVIDIA L40S') that has Tensor Cores. To properly utilize them, you should set `torch.set_float32_matmul_precision('medium' | 'high')` which will trade-off precision for performance. For more details, read https://pytorch.org/docs/stable/generated/torch.set_float32_matmul_precision.html#torch.set_float32_matmul_precision\n",
      "LOCAL_RANK: 0 - CUDA_VISIBLE_DEVICES: [0]\n"
     ]
    },
    {
     "name": "stdout",
     "output_type": "stream",
     "text": [
      "Predicting DataLoader 0: 100%|██████████| 1/1 [23:48<00:00,  0.00it/s]Number of failed examples: 0\n",
      "Predicting DataLoader 0: 100%|██████████| 1/1 [23:48<00:00,  0.00it/s]\n",
      "Checking input data.\n",
      "Running predictions for 1 structure\n",
      "Processing input data.\n"
     ]
    },
    {
     "name": "stderr",
     "output_type": "stream",
     "text": [
      "  0%|          | 0/1 [00:00<?, ?it/s]\n",
      "  0%|          | 0/150 [elapsed: 00:00 remaining: ?]\u001b[A\n",
      "SUBMIT:   0%|          | 0/150 [elapsed: 00:00 remaining: ?]\u001b[A"
     ]
    },
    {
     "name": "stdout",
     "output_type": "stream",
     "text": [
      "Generating MSA for /workspace/assets/test-files/boltz/GSK3B_inhibitor_7744.yaml with 1 protein entities.\n"
     ]
    },
    {
     "name": "stderr",
     "output_type": "stream",
     "text": [
      "\n",
      "COMPLETE:   0%|          | 0/150 [elapsed: 00:00 remaining: ?]\u001b[A\n",
      "COMPLETE: 100%|██████████| 150/150 [elapsed: 00:01 remaining: 00:00]\u001b[A\n",
      "100%|██████████| 1/1 [00:02<00:00,  2.59s/it]\n",
      "GPU available: True (cuda), used: True\n",
      "TPU available: False, using: 0 TPU cores\n",
      "HPU available: False, using: 0 HPUs\n",
      "/usr/local/lib/python3.10/dist-packages/pytorch_lightning/trainer/connectors/logger_connector/logger_connector.py:75: Starting from v1.9.0, `tensorboardX` has been removed as a dependency of the `pytorch_lightning` package, due to potential conflicts with other packages in the ML ecosystem. For this reason, `logger=True` will use `CSVLogger` as the default logger, unless the `tensorboard` or `tensorboardX` packages are found. Please `pip install lightning[extra]` or one of them to enable TensorBoard support by default\n",
      "You are using a CUDA device ('NVIDIA L40S') that has Tensor Cores. To properly utilize them, you should set `torch.set_float32_matmul_precision('medium' | 'high')` which will trade-off precision for performance. For more details, read https://pytorch.org/docs/stable/generated/torch.set_float32_matmul_precision.html#torch.set_float32_matmul_precision\n",
      "LOCAL_RANK: 0 - CUDA_VISIBLE_DEVICES: [0]\n"
     ]
    },
    {
     "name": "stdout",
     "output_type": "stream",
     "text": [
      "Predicting DataLoader 0: 100%|██████████| 1/1 [24:55<00:00,  0.00it/s]Number of failed examples: 0\n",
      "Predicting DataLoader 0: 100%|██████████| 1/1 [24:55<00:00,  0.00it/s]\n",
      "Checking input data.\n",
      "Running predictions for 1 structure\n",
      "Processing input data.\n"
     ]
    },
    {
     "name": "stderr",
     "output_type": "stream",
     "text": [
      "  0%|          | 0/1 [00:00<?, ?it/s]\n",
      "  0%|          | 0/150 [elapsed: 00:00 remaining: ?]\u001b[A\n",
      "SUBMIT:   0%|          | 0/150 [elapsed: 00:00 remaining: ?]\u001b[A"
     ]
    },
    {
     "name": "stdout",
     "output_type": "stream",
     "text": [
      "Generating MSA for /workspace/assets/test-files/boltz/GSK3B_inhibitor_7819.yaml with 1 protein entities.\n"
     ]
    },
    {
     "name": "stderr",
     "output_type": "stream",
     "text": [
      "\n",
      "COMPLETE:   0%|          | 0/150 [elapsed: 00:00 remaining: ?]\u001b[A\n",
      "COMPLETE: 100%|██████████| 150/150 [elapsed: 00:01 remaining: 00:00]\u001b[A\n",
      "100%|██████████| 1/1 [00:02<00:00,  2.29s/it]\n",
      "GPU available: True (cuda), used: True\n",
      "TPU available: False, using: 0 TPU cores\n",
      "HPU available: False, using: 0 HPUs\n",
      "/usr/local/lib/python3.10/dist-packages/pytorch_lightning/trainer/connectors/logger_connector/logger_connector.py:75: Starting from v1.9.0, `tensorboardX` has been removed as a dependency of the `pytorch_lightning` package, due to potential conflicts with other packages in the ML ecosystem. For this reason, `logger=True` will use `CSVLogger` as the default logger, unless the `tensorboard` or `tensorboardX` packages are found. Please `pip install lightning[extra]` or one of them to enable TensorBoard support by default\n",
      "You are using a CUDA device ('NVIDIA L40S') that has Tensor Cores. To properly utilize them, you should set `torch.set_float32_matmul_precision('medium' | 'high')` which will trade-off precision for performance. For more details, read https://pytorch.org/docs/stable/generated/torch.set_float32_matmul_precision.html#torch.set_float32_matmul_precision\n",
      "LOCAL_RANK: 0 - CUDA_VISIBLE_DEVICES: [0]\n"
     ]
    },
    {
     "name": "stdout",
     "output_type": "stream",
     "text": [
      "Predicting DataLoader 0: 100%|██████████| 1/1 [24:02<00:00,  0.00it/s]Number of failed examples: 0\n",
      "Predicting DataLoader 0: 100%|██████████| 1/1 [24:02<00:00,  0.00it/s]\n",
      "Checking input data.\n",
      "Running predictions for 1 structure\n",
      "Processing input data.\n"
     ]
    },
    {
     "name": "stderr",
     "output_type": "stream",
     "text": [
      "  0%|          | 0/1 [00:00<?, ?it/s]\n",
      "  0%|          | 0/150 [elapsed: 00:00 remaining: ?]\u001b[A\n",
      "SUBMIT:   0%|          | 0/150 [elapsed: 00:00 remaining: ?]\u001b[A"
     ]
    },
    {
     "name": "stdout",
     "output_type": "stream",
     "text": [
      "Generating MSA for /workspace/assets/test-files/boltz/GSK3B_inhibitor_7907.yaml with 1 protein entities.\n"
     ]
    },
    {
     "name": "stderr",
     "output_type": "stream",
     "text": [
      "\n",
      "COMPLETE:   0%|          | 0/150 [elapsed: 00:00 remaining: ?]\u001b[A\n",
      "COMPLETE: 100%|██████████| 150/150 [elapsed: 00:01 remaining: 00:00]\u001b[A\n",
      "100%|██████████| 1/1 [00:01<00:00,  1.86s/it]\n",
      "GPU available: True (cuda), used: True\n",
      "TPU available: False, using: 0 TPU cores\n",
      "HPU available: False, using: 0 HPUs\n",
      "/usr/local/lib/python3.10/dist-packages/pytorch_lightning/trainer/connectors/logger_connector/logger_connector.py:75: Starting from v1.9.0, `tensorboardX` has been removed as a dependency of the `pytorch_lightning` package, due to potential conflicts with other packages in the ML ecosystem. For this reason, `logger=True` will use `CSVLogger` as the default logger, unless the `tensorboard` or `tensorboardX` packages are found. Please `pip install lightning[extra]` or one of them to enable TensorBoard support by default\n",
      "You are using a CUDA device ('NVIDIA L40S') that has Tensor Cores. To properly utilize them, you should set `torch.set_float32_matmul_precision('medium' | 'high')` which will trade-off precision for performance. For more details, read https://pytorch.org/docs/stable/generated/torch.set_float32_matmul_precision.html#torch.set_float32_matmul_precision\n",
      "LOCAL_RANK: 0 - CUDA_VISIBLE_DEVICES: [0]\n"
     ]
    },
    {
     "name": "stdout",
     "output_type": "stream",
     "text": [
      "Predicting DataLoader 0: 100%|██████████| 1/1 [24:38<00:00,  0.00it/s]Number of failed examples: 0\n",
      "Predicting DataLoader 0: 100%|██████████| 1/1 [24:38<00:00,  0.00it/s]\n",
      "Checking input data.\n",
      "Running predictions for 1 structure\n",
      "Processing input data.\n"
     ]
    },
    {
     "name": "stderr",
     "output_type": "stream",
     "text": [
      "  0%|          | 0/1 [00:00<?, ?it/s]\n",
      "  0%|          | 0/150 [elapsed: 00:00 remaining: ?]\u001b[A\n",
      "SUBMIT:   0%|          | 0/150 [elapsed: 00:00 remaining: ?]\u001b[A"
     ]
    },
    {
     "name": "stdout",
     "output_type": "stream",
     "text": [
      "Generating MSA for /workspace/assets/test-files/boltz/GSK3B_inhibitor_7958.yaml with 1 protein entities.\n"
     ]
    },
    {
     "name": "stderr",
     "output_type": "stream",
     "text": [
      "\n",
      "COMPLETE:   0%|          | 0/150 [elapsed: 00:00 remaining: ?]\u001b[A\n",
      "COMPLETE: 100%|██████████| 150/150 [elapsed: 00:01 remaining: 00:00]\u001b[A\n",
      "100%|██████████| 1/1 [00:02<00:00,  2.31s/it]\n",
      "GPU available: True (cuda), used: True\n",
      "TPU available: False, using: 0 TPU cores\n",
      "HPU available: False, using: 0 HPUs\n",
      "/usr/local/lib/python3.10/dist-packages/pytorch_lightning/trainer/connectors/logger_connector/logger_connector.py:75: Starting from v1.9.0, `tensorboardX` has been removed as a dependency of the `pytorch_lightning` package, due to potential conflicts with other packages in the ML ecosystem. For this reason, `logger=True` will use `CSVLogger` as the default logger, unless the `tensorboard` or `tensorboardX` packages are found. Please `pip install lightning[extra]` or one of them to enable TensorBoard support by default\n",
      "You are using a CUDA device ('NVIDIA L40S') that has Tensor Cores. To properly utilize them, you should set `torch.set_float32_matmul_precision('medium' | 'high')` which will trade-off precision for performance. For more details, read https://pytorch.org/docs/stable/generated/torch.set_float32_matmul_precision.html#torch.set_float32_matmul_precision\n",
      "LOCAL_RANK: 0 - CUDA_VISIBLE_DEVICES: [0]\n"
     ]
    },
    {
     "name": "stdout",
     "output_type": "stream",
     "text": [
      "Predicting DataLoader 0: 100%|██████████| 1/1 [24:41<00:00,  0.00it/s]Number of failed examples: 0\n",
      "Predicting DataLoader 0: 100%|██████████| 1/1 [24:41<00:00,  0.00it/s]\n",
      "Checking input data.\n",
      "Running predictions for 1 structure\n",
      "Processing input data.\n"
     ]
    },
    {
     "name": "stderr",
     "output_type": "stream",
     "text": [
      "  0%|          | 0/1 [00:00<?, ?it/s]\n",
      "  0%|          | 0/150 [elapsed: 00:00 remaining: ?]\u001b[A\n",
      "SUBMIT:   0%|          | 0/150 [elapsed: 00:00 remaining: ?]\u001b[A"
     ]
    },
    {
     "name": "stdout",
     "output_type": "stream",
     "text": [
      "Generating MSA for /workspace/assets/test-files/boltz/GSK3B_inhibitor_8006.yaml with 1 protein entities.\n"
     ]
    },
    {
     "name": "stderr",
     "output_type": "stream",
     "text": [
      "\n",
      "COMPLETE:   0%|          | 0/150 [elapsed: 00:00 remaining: ?]\u001b[A\n",
      "COMPLETE: 100%|██████████| 150/150 [elapsed: 00:01 remaining: 00:00]\u001b[A\n",
      "100%|██████████| 1/1 [00:02<00:00,  2.50s/it]\n",
      "GPU available: True (cuda), used: True\n",
      "TPU available: False, using: 0 TPU cores\n",
      "HPU available: False, using: 0 HPUs\n",
      "/usr/local/lib/python3.10/dist-packages/pytorch_lightning/trainer/connectors/logger_connector/logger_connector.py:75: Starting from v1.9.0, `tensorboardX` has been removed as a dependency of the `pytorch_lightning` package, due to potential conflicts with other packages in the ML ecosystem. For this reason, `logger=True` will use `CSVLogger` as the default logger, unless the `tensorboard` or `tensorboardX` packages are found. Please `pip install lightning[extra]` or one of them to enable TensorBoard support by default\n",
      "You are using a CUDA device ('NVIDIA L40S') that has Tensor Cores. To properly utilize them, you should set `torch.set_float32_matmul_precision('medium' | 'high')` which will trade-off precision for performance. For more details, read https://pytorch.org/docs/stable/generated/torch.set_float32_matmul_precision.html#torch.set_float32_matmul_precision\n",
      "LOCAL_RANK: 0 - CUDA_VISIBLE_DEVICES: [0]\n"
     ]
    },
    {
     "name": "stdout",
     "output_type": "stream",
     "text": [
      "Predicting DataLoader 0: 100%|██████████| 1/1 [24:22<00:00,  0.00it/s]Number of failed examples: 0\n",
      "Predicting DataLoader 0: 100%|██████████| 1/1 [24:22<00:00,  0.00it/s]\n",
      "Checking input data.\n",
      "Running predictions for 1 structure\n",
      "Processing input data.\n"
     ]
    },
    {
     "name": "stderr",
     "output_type": "stream",
     "text": [
      "  0%|          | 0/1 [00:00<?, ?it/s]\n",
      "  0%|          | 0/150 [elapsed: 00:00 remaining: ?]\u001b[A\n",
      "SUBMIT:   0%|          | 0/150 [elapsed: 00:00 remaining: ?]\u001b[A"
     ]
    },
    {
     "name": "stdout",
     "output_type": "stream",
     "text": [
      "Generating MSA for /workspace/assets/test-files/boltz/GSK3B_inhibitor_8007.yaml with 1 protein entities.\n"
     ]
    },
    {
     "name": "stderr",
     "output_type": "stream",
     "text": [
      "\n",
      "COMPLETE:   0%|          | 0/150 [elapsed: 00:00 remaining: ?]\u001b[A\n",
      "COMPLETE: 100%|██████████| 150/150 [elapsed: 00:01 remaining: 00:00]\u001b[A\n",
      "100%|██████████| 1/1 [00:02<00:00,  2.40s/it]\n",
      "GPU available: True (cuda), used: True\n",
      "TPU available: False, using: 0 TPU cores\n",
      "HPU available: False, using: 0 HPUs\n",
      "/usr/local/lib/python3.10/dist-packages/pytorch_lightning/trainer/connectors/logger_connector/logger_connector.py:75: Starting from v1.9.0, `tensorboardX` has been removed as a dependency of the `pytorch_lightning` package, due to potential conflicts with other packages in the ML ecosystem. For this reason, `logger=True` will use `CSVLogger` as the default logger, unless the `tensorboard` or `tensorboardX` packages are found. Please `pip install lightning[extra]` or one of them to enable TensorBoard support by default\n",
      "You are using a CUDA device ('NVIDIA L40S') that has Tensor Cores. To properly utilize them, you should set `torch.set_float32_matmul_precision('medium' | 'high')` which will trade-off precision for performance. For more details, read https://pytorch.org/docs/stable/generated/torch.set_float32_matmul_precision.html#torch.set_float32_matmul_precision\n",
      "LOCAL_RANK: 0 - CUDA_VISIBLE_DEVICES: [0]\n"
     ]
    },
    {
     "name": "stdout",
     "output_type": "stream",
     "text": [
      "Predicting DataLoader 0: 100%|██████████| 1/1 [24:02<00:00,  0.00it/s]Number of failed examples: 0\n",
      "Predicting DataLoader 0: 100%|██████████| 1/1 [24:02<00:00,  0.00it/s]\n",
      "Checking input data.\n",
      "Running predictions for 1 structure\n",
      "Processing input data.\n"
     ]
    },
    {
     "name": "stderr",
     "output_type": "stream",
     "text": [
      "  0%|          | 0/1 [00:00<?, ?it/s]\n",
      "  0%|          | 0/150 [elapsed: 00:00 remaining: ?]\u001b[A\n",
      "SUBMIT:   0%|          | 0/150 [elapsed: 00:00 remaining: ?]\u001b[A"
     ]
    },
    {
     "name": "stdout",
     "output_type": "stream",
     "text": [
      "Generating MSA for /workspace/assets/test-files/boltz/GSK3B_inhibitor_8014.yaml with 1 protein entities.\n"
     ]
    },
    {
     "name": "stderr",
     "output_type": "stream",
     "text": [
      "\n",
      "COMPLETE:   0%|          | 0/150 [elapsed: 00:00 remaining: ?]\u001b[A\n",
      "COMPLETE: 100%|██████████| 150/150 [elapsed: 00:01 remaining: 00:00]\u001b[A\n",
      "100%|██████████| 1/1 [00:02<00:00,  2.13s/it]\n",
      "GPU available: True (cuda), used: True\n",
      "TPU available: False, using: 0 TPU cores\n",
      "HPU available: False, using: 0 HPUs\n",
      "/usr/local/lib/python3.10/dist-packages/pytorch_lightning/trainer/connectors/logger_connector/logger_connector.py:75: Starting from v1.9.0, `tensorboardX` has been removed as a dependency of the `pytorch_lightning` package, due to potential conflicts with other packages in the ML ecosystem. For this reason, `logger=True` will use `CSVLogger` as the default logger, unless the `tensorboard` or `tensorboardX` packages are found. Please `pip install lightning[extra]` or one of them to enable TensorBoard support by default\n",
      "You are using a CUDA device ('NVIDIA L40S') that has Tensor Cores. To properly utilize them, you should set `torch.set_float32_matmul_precision('medium' | 'high')` which will trade-off precision for performance. For more details, read https://pytorch.org/docs/stable/generated/torch.set_float32_matmul_precision.html#torch.set_float32_matmul_precision\n",
      "LOCAL_RANK: 0 - CUDA_VISIBLE_DEVICES: [0]\n"
     ]
    },
    {
     "name": "stdout",
     "output_type": "stream",
     "text": [
      "Predicting DataLoader 0: 100%|██████████| 1/1 [24:16<00:00,  0.00it/s]Number of failed examples: 0\n",
      "Predicting DataLoader 0: 100%|██████████| 1/1 [24:16<00:00,  0.00it/s]\n",
      "Checking input data.\n",
      "Running predictions for 1 structure\n",
      "Processing input data.\n"
     ]
    },
    {
     "name": "stderr",
     "output_type": "stream",
     "text": [
      "  0%|          | 0/1 [00:00<?, ?it/s]\n",
      "  0%|          | 0/150 [elapsed: 00:00 remaining: ?]\u001b[A\n",
      "SUBMIT:   0%|          | 0/150 [elapsed: 00:00 remaining: ?]\u001b[A"
     ]
    },
    {
     "name": "stdout",
     "output_type": "stream",
     "text": [
      "Generating MSA for /workspace/assets/test-files/boltz/GSK3B_inhibitor_8015.yaml with 1 protein entities.\n"
     ]
    },
    {
     "name": "stderr",
     "output_type": "stream",
     "text": [
      "\n",
      "COMPLETE:   0%|          | 0/150 [elapsed: 00:00 remaining: ?]\u001b[A\n",
      "COMPLETE: 100%|██████████| 150/150 [elapsed: 00:01 remaining: 00:00]\u001b[A\n",
      "100%|██████████| 1/1 [00:02<00:00,  2.37s/it]\n",
      "GPU available: True (cuda), used: True\n",
      "TPU available: False, using: 0 TPU cores\n",
      "HPU available: False, using: 0 HPUs\n",
      "/usr/local/lib/python3.10/dist-packages/pytorch_lightning/trainer/connectors/logger_connector/logger_connector.py:75: Starting from v1.9.0, `tensorboardX` has been removed as a dependency of the `pytorch_lightning` package, due to potential conflicts with other packages in the ML ecosystem. For this reason, `logger=True` will use `CSVLogger` as the default logger, unless the `tensorboard` or `tensorboardX` packages are found. Please `pip install lightning[extra]` or one of them to enable TensorBoard support by default\n",
      "You are using a CUDA device ('NVIDIA L40S') that has Tensor Cores. To properly utilize them, you should set `torch.set_float32_matmul_precision('medium' | 'high')` which will trade-off precision for performance. For more details, read https://pytorch.org/docs/stable/generated/torch.set_float32_matmul_precision.html#torch.set_float32_matmul_precision\n",
      "LOCAL_RANK: 0 - CUDA_VISIBLE_DEVICES: [0]\n"
     ]
    },
    {
     "name": "stdout",
     "output_type": "stream",
     "text": [
      "Predicting DataLoader 0: 100%|██████████| 1/1 [24:09<00:00,  0.00it/s]Number of failed examples: 0\n",
      "Predicting DataLoader 0: 100%|██████████| 1/1 [24:09<00:00,  0.00it/s]\n",
      "Checking input data.\n",
      "Running predictions for 1 structure\n",
      "Processing input data.\n"
     ]
    },
    {
     "name": "stderr",
     "output_type": "stream",
     "text": [
      "  0%|          | 0/1 [00:00<?, ?it/s]\n",
      "  0%|          | 0/150 [elapsed: 00:00 remaining: ?]\u001b[A\n",
      "SUBMIT:   0%|          | 0/150 [elapsed: 00:00 remaining: ?]\u001b[A"
     ]
    },
    {
     "name": "stdout",
     "output_type": "stream",
     "text": [
      "Generating MSA for /workspace/assets/test-files/boltz/GSK3B_inhibitor_8016.yaml with 1 protein entities.\n"
     ]
    },
    {
     "name": "stderr",
     "output_type": "stream",
     "text": [
      "\n",
      "COMPLETE:   0%|          | 0/150 [elapsed: 00:00 remaining: ?]\u001b[A\n",
      "COMPLETE: 100%|██████████| 150/150 [elapsed: 00:01 remaining: 00:00]\u001b[A\n",
      "100%|██████████| 1/1 [00:02<00:00,  2.40s/it]\n",
      "GPU available: True (cuda), used: True\n",
      "TPU available: False, using: 0 TPU cores\n",
      "HPU available: False, using: 0 HPUs\n",
      "/usr/local/lib/python3.10/dist-packages/pytorch_lightning/trainer/connectors/logger_connector/logger_connector.py:75: Starting from v1.9.0, `tensorboardX` has been removed as a dependency of the `pytorch_lightning` package, due to potential conflicts with other packages in the ML ecosystem. For this reason, `logger=True` will use `CSVLogger` as the default logger, unless the `tensorboard` or `tensorboardX` packages are found. Please `pip install lightning[extra]` or one of them to enable TensorBoard support by default\n",
      "You are using a CUDA device ('NVIDIA L40S') that has Tensor Cores. To properly utilize them, you should set `torch.set_float32_matmul_precision('medium' | 'high')` which will trade-off precision for performance. For more details, read https://pytorch.org/docs/stable/generated/torch.set_float32_matmul_precision.html#torch.set_float32_matmul_precision\n",
      "LOCAL_RANK: 0 - CUDA_VISIBLE_DEVICES: [0]\n"
     ]
    },
    {
     "name": "stdout",
     "output_type": "stream",
     "text": [
      "Predicting DataLoader 0: 100%|██████████| 1/1 [24:54<00:00,  0.00it/s]Number of failed examples: 0\n",
      "Predicting DataLoader 0: 100%|██████████| 1/1 [24:54<00:00,  0.00it/s]\n",
      "Checking input data.\n",
      "Running predictions for 1 structure\n",
      "Processing input data.\n"
     ]
    },
    {
     "name": "stderr",
     "output_type": "stream",
     "text": [
      "  0%|          | 0/1 [00:00<?, ?it/s]\n",
      "  0%|          | 0/150 [elapsed: 00:00 remaining: ?]\u001b[A\n",
      "SUBMIT:   0%|          | 0/150 [elapsed: 00:00 remaining: ?]\u001b[A"
     ]
    },
    {
     "name": "stdout",
     "output_type": "stream",
     "text": [
      "Generating MSA for /workspace/assets/test-files/boltz/GSK3B_inhibitor_8017.yaml with 1 protein entities.\n"
     ]
    },
    {
     "name": "stderr",
     "output_type": "stream",
     "text": [
      "\n",
      "COMPLETE:   0%|          | 0/150 [elapsed: 00:00 remaining: ?]\u001b[A\n",
      "COMPLETE: 100%|██████████| 150/150 [elapsed: 00:01 remaining: 00:00]\u001b[A\n",
      "100%|██████████| 1/1 [00:02<00:00,  2.39s/it]\n",
      "GPU available: True (cuda), used: True\n",
      "TPU available: False, using: 0 TPU cores\n",
      "HPU available: False, using: 0 HPUs\n",
      "/usr/local/lib/python3.10/dist-packages/pytorch_lightning/trainer/connectors/logger_connector/logger_connector.py:75: Starting from v1.9.0, `tensorboardX` has been removed as a dependency of the `pytorch_lightning` package, due to potential conflicts with other packages in the ML ecosystem. For this reason, `logger=True` will use `CSVLogger` as the default logger, unless the `tensorboard` or `tensorboardX` packages are found. Please `pip install lightning[extra]` or one of them to enable TensorBoard support by default\n",
      "You are using a CUDA device ('NVIDIA L40S') that has Tensor Cores. To properly utilize them, you should set `torch.set_float32_matmul_precision('medium' | 'high')` which will trade-off precision for performance. For more details, read https://pytorch.org/docs/stable/generated/torch.set_float32_matmul_precision.html#torch.set_float32_matmul_precision\n",
      "LOCAL_RANK: 0 - CUDA_VISIBLE_DEVICES: [0]\n"
     ]
    },
    {
     "name": "stdout",
     "output_type": "stream",
     "text": [
      "Predicting DataLoader 0: 100%|██████████| 1/1 [24:21<00:00,  0.00it/s]Number of failed examples: 0\n",
      "Predicting DataLoader 0: 100%|██████████| 1/1 [24:21<00:00,  0.00it/s]\n",
      "Checking input data.\n",
      "Running predictions for 1 structure\n",
      "Processing input data.\n"
     ]
    },
    {
     "name": "stderr",
     "output_type": "stream",
     "text": [
      "  0%|          | 0/1 [00:00<?, ?it/s]\n",
      "  0%|          | 0/150 [elapsed: 00:00 remaining: ?]\u001b[A\n",
      "SUBMIT:   0%|          | 0/150 [elapsed: 00:00 remaining: ?]\u001b[A"
     ]
    },
    {
     "name": "stdout",
     "output_type": "stream",
     "text": [
      "Generating MSA for /workspace/assets/test-files/boltz/GSK3B_inhibitor_8018.yaml with 1 protein entities.\n"
     ]
    },
    {
     "name": "stderr",
     "output_type": "stream",
     "text": [
      "\n",
      "COMPLETE:   0%|          | 0/150 [elapsed: 00:00 remaining: ?]\u001b[A\n",
      "COMPLETE: 100%|██████████| 150/150 [elapsed: 00:01 remaining: 00:00]\u001b[A\n",
      "100%|██████████| 1/1 [00:01<00:00,  1.71s/it]\n",
      "GPU available: True (cuda), used: True\n",
      "TPU available: False, using: 0 TPU cores\n",
      "HPU available: False, using: 0 HPUs\n",
      "/usr/local/lib/python3.10/dist-packages/pytorch_lightning/trainer/connectors/logger_connector/logger_connector.py:75: Starting from v1.9.0, `tensorboardX` has been removed as a dependency of the `pytorch_lightning` package, due to potential conflicts with other packages in the ML ecosystem. For this reason, `logger=True` will use `CSVLogger` as the default logger, unless the `tensorboard` or `tensorboardX` packages are found. Please `pip install lightning[extra]` or one of them to enable TensorBoard support by default\n",
      "You are using a CUDA device ('NVIDIA L40S') that has Tensor Cores. To properly utilize them, you should set `torch.set_float32_matmul_precision('medium' | 'high')` which will trade-off precision for performance. For more details, read https://pytorch.org/docs/stable/generated/torch.set_float32_matmul_precision.html#torch.set_float32_matmul_precision\n",
      "LOCAL_RANK: 0 - CUDA_VISIBLE_DEVICES: [0]\n"
     ]
    },
    {
     "name": "stdout",
     "output_type": "stream",
     "text": [
      "Predicting DataLoader 0: 100%|██████████| 1/1 [23:59<00:00,  0.00it/s]Number of failed examples: 0\n",
      "Predicting DataLoader 0: 100%|██████████| 1/1 [23:59<00:00,  0.00it/s]\n",
      "Checking input data.\n",
      "Running predictions for 1 structure\n",
      "Processing input data.\n"
     ]
    },
    {
     "name": "stderr",
     "output_type": "stream",
     "text": [
      "  0%|          | 0/1 [00:00<?, ?it/s]\n",
      "  0%|          | 0/150 [elapsed: 00:00 remaining: ?]\u001b[A\n",
      "SUBMIT:   0%|          | 0/150 [elapsed: 00:00 remaining: ?]\u001b[A"
     ]
    },
    {
     "name": "stdout",
     "output_type": "stream",
     "text": [
      "Generating MSA for /workspace/assets/test-files/boltz/GSK3B_inhibitor_8019.yaml with 1 protein entities.\n"
     ]
    },
    {
     "name": "stderr",
     "output_type": "stream",
     "text": [
      "\n",
      "COMPLETE:   0%|          | 0/150 [elapsed: 00:00 remaining: ?]\u001b[A\n",
      "COMPLETE: 100%|██████████| 150/150 [elapsed: 00:03 remaining: 00:00]\u001b[A\n",
      "100%|██████████| 1/1 [00:03<00:00,  3.82s/it]\n",
      "GPU available: True (cuda), used: True\n",
      "TPU available: False, using: 0 TPU cores\n",
      "HPU available: False, using: 0 HPUs\n",
      "/usr/local/lib/python3.10/dist-packages/pytorch_lightning/trainer/connectors/logger_connector/logger_connector.py:75: Starting from v1.9.0, `tensorboardX` has been removed as a dependency of the `pytorch_lightning` package, due to potential conflicts with other packages in the ML ecosystem. For this reason, `logger=True` will use `CSVLogger` as the default logger, unless the `tensorboard` or `tensorboardX` packages are found. Please `pip install lightning[extra]` or one of them to enable TensorBoard support by default\n",
      "You are using a CUDA device ('NVIDIA L40S') that has Tensor Cores. To properly utilize them, you should set `torch.set_float32_matmul_precision('medium' | 'high')` which will trade-off precision for performance. For more details, read https://pytorch.org/docs/stable/generated/torch.set_float32_matmul_precision.html#torch.set_float32_matmul_precision\n",
      "LOCAL_RANK: 0 - CUDA_VISIBLE_DEVICES: [0]\n"
     ]
    },
    {
     "name": "stdout",
     "output_type": "stream",
     "text": [
      "Predicting DataLoader 0: 100%|██████████| 1/1 [24:26<00:00,  0.00it/s]Number of failed examples: 0\n",
      "Predicting DataLoader 0: 100%|██████████| 1/1 [24:26<00:00,  0.00it/s]\n",
      "Checking input data.\n",
      "Running predictions for 1 structure\n",
      "Processing input data.\n"
     ]
    },
    {
     "name": "stderr",
     "output_type": "stream",
     "text": [
      "  0%|          | 0/1 [00:00<?, ?it/s]\n",
      "  0%|          | 0/150 [elapsed: 00:00 remaining: ?]\u001b[A\n",
      "SUBMIT:   0%|          | 0/150 [elapsed: 00:00 remaining: ?]\u001b[A"
     ]
    },
    {
     "name": "stdout",
     "output_type": "stream",
     "text": [
      "Generating MSA for /workspace/assets/test-files/boltz/GSK3B_inhibitor_8114.yaml with 1 protein entities.\n"
     ]
    },
    {
     "name": "stderr",
     "output_type": "stream",
     "text": [
      "\n",
      "COMPLETE:   0%|          | 0/150 [elapsed: 00:00 remaining: ?]\u001b[A\n",
      "COMPLETE: 100%|██████████| 150/150 [elapsed: 00:02 remaining: 00:00]\u001b[A\n",
      "100%|██████████| 1/1 [00:02<00:00,  2.88s/it]\n",
      "GPU available: True (cuda), used: True\n",
      "TPU available: False, using: 0 TPU cores\n",
      "HPU available: False, using: 0 HPUs\n",
      "/usr/local/lib/python3.10/dist-packages/pytorch_lightning/trainer/connectors/logger_connector/logger_connector.py:75: Starting from v1.9.0, `tensorboardX` has been removed as a dependency of the `pytorch_lightning` package, due to potential conflicts with other packages in the ML ecosystem. For this reason, `logger=True` will use `CSVLogger` as the default logger, unless the `tensorboard` or `tensorboardX` packages are found. Please `pip install lightning[extra]` or one of them to enable TensorBoard support by default\n",
      "You are using a CUDA device ('NVIDIA L40S') that has Tensor Cores. To properly utilize them, you should set `torch.set_float32_matmul_precision('medium' | 'high')` which will trade-off precision for performance. For more details, read https://pytorch.org/docs/stable/generated/torch.set_float32_matmul_precision.html#torch.set_float32_matmul_precision\n",
      "LOCAL_RANK: 0 - CUDA_VISIBLE_DEVICES: [0]\n"
     ]
    },
    {
     "name": "stdout",
     "output_type": "stream",
     "text": [
      "Predicting DataLoader 0: 100%|██████████| 1/1 [24:00<00:00,  0.00it/s]Number of failed examples: 0\n",
      "Predicting DataLoader 0: 100%|██████████| 1/1 [24:00<00:00,  0.00it/s]\n",
      "Checking input data.\n",
      "Running predictions for 1 structure\n",
      "Processing input data.\n"
     ]
    },
    {
     "name": "stderr",
     "output_type": "stream",
     "text": [
      "  0%|          | 0/1 [00:00<?, ?it/s]\n",
      "  0%|          | 0/150 [elapsed: 00:00 remaining: ?]\u001b[A\n",
      "SUBMIT:   0%|          | 0/150 [elapsed: 00:00 remaining: ?]\u001b[A"
     ]
    },
    {
     "name": "stdout",
     "output_type": "stream",
     "text": [
      "Generating MSA for /workspace/assets/test-files/boltz/GSK3B_inhibitor_8115.yaml with 1 protein entities.\n"
     ]
    },
    {
     "name": "stderr",
     "output_type": "stream",
     "text": [
      "\n",
      "COMPLETE:   0%|          | 0/150 [elapsed: 00:00 remaining: ?]\u001b[A\n",
      "COMPLETE: 100%|██████████| 150/150 [elapsed: 00:01 remaining: 00:00]\u001b[A\n",
      "100%|██████████| 1/1 [00:01<00:00,  1.89s/it]\n",
      "GPU available: True (cuda), used: True\n",
      "TPU available: False, using: 0 TPU cores\n",
      "HPU available: False, using: 0 HPUs\n",
      "/usr/local/lib/python3.10/dist-packages/pytorch_lightning/trainer/connectors/logger_connector/logger_connector.py:75: Starting from v1.9.0, `tensorboardX` has been removed as a dependency of the `pytorch_lightning` package, due to potential conflicts with other packages in the ML ecosystem. For this reason, `logger=True` will use `CSVLogger` as the default logger, unless the `tensorboard` or `tensorboardX` packages are found. Please `pip install lightning[extra]` or one of them to enable TensorBoard support by default\n",
      "You are using a CUDA device ('NVIDIA L40S') that has Tensor Cores. To properly utilize them, you should set `torch.set_float32_matmul_precision('medium' | 'high')` which will trade-off precision for performance. For more details, read https://pytorch.org/docs/stable/generated/torch.set_float32_matmul_precision.html#torch.set_float32_matmul_precision\n",
      "LOCAL_RANK: 0 - CUDA_VISIBLE_DEVICES: [0]\n"
     ]
    },
    {
     "name": "stdout",
     "output_type": "stream",
     "text": [
      "Predicting DataLoader 0: 100%|██████████| 1/1 [24:05<00:00,  0.00it/s]Number of failed examples: 0\n",
      "Predicting DataLoader 0: 100%|██████████| 1/1 [24:05<00:00,  0.00it/s]\n",
      "Checking input data.\n",
      "Running predictions for 1 structure\n",
      "Processing input data.\n"
     ]
    },
    {
     "name": "stderr",
     "output_type": "stream",
     "text": [
      "  0%|          | 0/1 [00:00<?, ?it/s]\n",
      "  0%|          | 0/150 [elapsed: 00:00 remaining: ?]\u001b[A\n",
      "SUBMIT:   0%|          | 0/150 [elapsed: 00:00 remaining: ?]\u001b[A"
     ]
    },
    {
     "name": "stdout",
     "output_type": "stream",
     "text": [
      "Generating MSA for /workspace/assets/test-files/boltz/GSK3B_inhibitor_8171.yaml with 1 protein entities.\n"
     ]
    },
    {
     "name": "stderr",
     "output_type": "stream",
     "text": [
      "\n",
      "COMPLETE:   0%|          | 0/150 [elapsed: 00:00 remaining: ?]\u001b[A\n",
      "COMPLETE: 100%|██████████| 150/150 [elapsed: 00:02 remaining: 00:00]\u001b[A\n",
      "100%|██████████| 1/1 [00:02<00:00,  2.55s/it]\n",
      "GPU available: True (cuda), used: True\n",
      "TPU available: False, using: 0 TPU cores\n",
      "HPU available: False, using: 0 HPUs\n",
      "/usr/local/lib/python3.10/dist-packages/pytorch_lightning/trainer/connectors/logger_connector/logger_connector.py:75: Starting from v1.9.0, `tensorboardX` has been removed as a dependency of the `pytorch_lightning` package, due to potential conflicts with other packages in the ML ecosystem. For this reason, `logger=True` will use `CSVLogger` as the default logger, unless the `tensorboard` or `tensorboardX` packages are found. Please `pip install lightning[extra]` or one of them to enable TensorBoard support by default\n",
      "You are using a CUDA device ('NVIDIA L40S') that has Tensor Cores. To properly utilize them, you should set `torch.set_float32_matmul_precision('medium' | 'high')` which will trade-off precision for performance. For more details, read https://pytorch.org/docs/stable/generated/torch.set_float32_matmul_precision.html#torch.set_float32_matmul_precision\n",
      "LOCAL_RANK: 0 - CUDA_VISIBLE_DEVICES: [0]\n"
     ]
    },
    {
     "name": "stdout",
     "output_type": "stream",
     "text": [
      "Predicting DataLoader 0: 100%|██████████| 1/1 [24:11<00:00,  0.00it/s]Number of failed examples: 0\n",
      "Predicting DataLoader 0: 100%|██████████| 1/1 [24:11<00:00,  0.00it/s]\n",
      "Checking input data.\n",
      "Running predictions for 1 structure\n",
      "Processing input data.\n"
     ]
    },
    {
     "name": "stderr",
     "output_type": "stream",
     "text": [
      "  0%|          | 0/1 [00:00<?, ?it/s]\n",
      "  0%|          | 0/150 [elapsed: 00:00 remaining: ?]\u001b[A\n",
      "SUBMIT:   0%|          | 0/150 [elapsed: 00:00 remaining: ?]\u001b[A"
     ]
    },
    {
     "name": "stdout",
     "output_type": "stream",
     "text": [
      "Generating MSA for /workspace/assets/test-files/boltz/GSK3B_inhibitor_8478.yaml with 1 protein entities.\n"
     ]
    },
    {
     "name": "stderr",
     "output_type": "stream",
     "text": [
      "\n",
      "COMPLETE:   0%|          | 0/150 [elapsed: 00:00 remaining: ?]\u001b[A\n",
      "COMPLETE: 100%|██████████| 150/150 [elapsed: 00:01 remaining: 00:00]\u001b[A\n",
      "100%|██████████| 1/1 [00:02<00:00,  2.39s/it]\n",
      "GPU available: True (cuda), used: True\n",
      "TPU available: False, using: 0 TPU cores\n",
      "HPU available: False, using: 0 HPUs\n",
      "/usr/local/lib/python3.10/dist-packages/pytorch_lightning/trainer/connectors/logger_connector/logger_connector.py:75: Starting from v1.9.0, `tensorboardX` has been removed as a dependency of the `pytorch_lightning` package, due to potential conflicts with other packages in the ML ecosystem. For this reason, `logger=True` will use `CSVLogger` as the default logger, unless the `tensorboard` or `tensorboardX` packages are found. Please `pip install lightning[extra]` or one of them to enable TensorBoard support by default\n",
      "You are using a CUDA device ('NVIDIA L40S') that has Tensor Cores. To properly utilize them, you should set `torch.set_float32_matmul_precision('medium' | 'high')` which will trade-off precision for performance. For more details, read https://pytorch.org/docs/stable/generated/torch.set_float32_matmul_precision.html#torch.set_float32_matmul_precision\n",
      "LOCAL_RANK: 0 - CUDA_VISIBLE_DEVICES: [0]\n"
     ]
    },
    {
     "name": "stdout",
     "output_type": "stream",
     "text": [
      "Predicting DataLoader 0: 100%|██████████| 1/1 [24:41<00:00,  0.00it/s]Number of failed examples: 0\n",
      "Predicting DataLoader 0: 100%|██████████| 1/1 [24:41<00:00,  0.00it/s]\n",
      "Checking input data.\n",
      "Running predictions for 1 structure\n",
      "Processing input data.\n"
     ]
    },
    {
     "name": "stderr",
     "output_type": "stream",
     "text": [
      "  0%|          | 0/1 [00:00<?, ?it/s]\n",
      "  0%|          | 0/150 [elapsed: 00:00 remaining: ?]\u001b[A\n",
      "SUBMIT:   0%|          | 0/150 [elapsed: 00:00 remaining: ?]\u001b[A"
     ]
    },
    {
     "name": "stdout",
     "output_type": "stream",
     "text": [
      "Generating MSA for /workspace/assets/test-files/boltz/GSK3B_inhibitor_9198.yaml with 1 protein entities.\n"
     ]
    },
    {
     "name": "stderr",
     "output_type": "stream",
     "text": [
      "\n",
      "COMPLETE:   0%|          | 0/150 [elapsed: 00:00 remaining: ?]\u001b[A\n",
      "COMPLETE: 100%|██████████| 150/150 [elapsed: 00:02 remaining: 00:00]\u001b[A\n",
      "100%|██████████| 1/1 [00:02<00:00,  2.47s/it]\n",
      "GPU available: True (cuda), used: True\n",
      "TPU available: False, using: 0 TPU cores\n",
      "HPU available: False, using: 0 HPUs\n",
      "/usr/local/lib/python3.10/dist-packages/pytorch_lightning/trainer/connectors/logger_connector/logger_connector.py:75: Starting from v1.9.0, `tensorboardX` has been removed as a dependency of the `pytorch_lightning` package, due to potential conflicts with other packages in the ML ecosystem. For this reason, `logger=True` will use `CSVLogger` as the default logger, unless the `tensorboard` or `tensorboardX` packages are found. Please `pip install lightning[extra]` or one of them to enable TensorBoard support by default\n",
      "You are using a CUDA device ('NVIDIA L40S') that has Tensor Cores. To properly utilize them, you should set `torch.set_float32_matmul_precision('medium' | 'high')` which will trade-off precision for performance. For more details, read https://pytorch.org/docs/stable/generated/torch.set_float32_matmul_precision.html#torch.set_float32_matmul_precision\n",
      "LOCAL_RANK: 0 - CUDA_VISIBLE_DEVICES: [0]\n"
     ]
    },
    {
     "name": "stdout",
     "output_type": "stream",
     "text": [
      "Predicting DataLoader 0: 100%|██████████| 1/1 [23:59<00:00,  0.00it/s]Number of failed examples: 0\n",
      "Predicting DataLoader 0: 100%|██████████| 1/1 [23:59<00:00,  0.00it/s]\n",
      "Checking input data.\n",
      "Running predictions for 1 structure\n",
      "Processing input data.\n"
     ]
    },
    {
     "name": "stderr",
     "output_type": "stream",
     "text": [
      "  0%|          | 0/1 [00:00<?, ?it/s]\n",
      "  0%|          | 0/150 [elapsed: 00:00 remaining: ?]\u001b[A\n",
      "SUBMIT:   0%|          | 0/150 [elapsed: 00:00 remaining: ?]\u001b[A"
     ]
    },
    {
     "name": "stdout",
     "output_type": "stream",
     "text": [
      "Generating MSA for /workspace/assets/test-files/boltz/GSK3B_inhibitor_9810.yaml with 1 protein entities.\n"
     ]
    },
    {
     "name": "stderr",
     "output_type": "stream",
     "text": [
      "\n",
      "COMPLETE:   0%|          | 0/150 [elapsed: 00:00 remaining: ?]\u001b[A\n",
      "COMPLETE: 100%|██████████| 150/150 [elapsed: 00:03 remaining: 00:00]\u001b[A\n",
      "100%|██████████| 1/1 [00:03<00:00,  3.59s/it]\n",
      "GPU available: True (cuda), used: True\n",
      "TPU available: False, using: 0 TPU cores\n",
      "HPU available: False, using: 0 HPUs\n",
      "/usr/local/lib/python3.10/dist-packages/pytorch_lightning/trainer/connectors/logger_connector/logger_connector.py:75: Starting from v1.9.0, `tensorboardX` has been removed as a dependency of the `pytorch_lightning` package, due to potential conflicts with other packages in the ML ecosystem. For this reason, `logger=True` will use `CSVLogger` as the default logger, unless the `tensorboard` or `tensorboardX` packages are found. Please `pip install lightning[extra]` or one of them to enable TensorBoard support by default\n",
      "You are using a CUDA device ('NVIDIA L40S') that has Tensor Cores. To properly utilize them, you should set `torch.set_float32_matmul_precision('medium' | 'high')` which will trade-off precision for performance. For more details, read https://pytorch.org/docs/stable/generated/torch.set_float32_matmul_precision.html#torch.set_float32_matmul_precision\n",
      "LOCAL_RANK: 0 - CUDA_VISIBLE_DEVICES: [0]\n"
     ]
    },
    {
     "name": "stdout",
     "output_type": "stream",
     "text": [
      "Predicting DataLoader 0: 100%|██████████| 1/1 [25:10<00:00,  0.00it/s]Number of failed examples: 0\n",
      "Predicting DataLoader 0: 100%|██████████| 1/1 [25:10<00:00,  0.00it/s]\n",
      "Checking input data.\n",
      "Running predictions for 1 structure\n",
      "Processing input data.\n"
     ]
    },
    {
     "name": "stderr",
     "output_type": "stream",
     "text": [
      "  0%|          | 0/1 [00:00<?, ?it/s]\n",
      "  0%|          | 0/150 [elapsed: 00:00 remaining: ?]\u001b[A\n",
      "SUBMIT:   0%|          | 0/150 [elapsed: 00:00 remaining: ?]\u001b[A"
     ]
    },
    {
     "name": "stdout",
     "output_type": "stream",
     "text": [
      "Generating MSA for /workspace/assets/test-files/boltz/GSK3B_inhibitor_9811.yaml with 1 protein entities.\n"
     ]
    },
    {
     "name": "stderr",
     "output_type": "stream",
     "text": [
      "\n",
      "COMPLETE:   0%|          | 0/150 [elapsed: 00:00 remaining: ?]\u001b[A\n",
      "COMPLETE: 100%|██████████| 150/150 [elapsed: 00:02 remaining: 00:00]\u001b[A\n",
      "100%|██████████| 1/1 [00:02<00:00,  2.59s/it]\n",
      "GPU available: True (cuda), used: True\n",
      "TPU available: False, using: 0 TPU cores\n",
      "HPU available: False, using: 0 HPUs\n",
      "/usr/local/lib/python3.10/dist-packages/pytorch_lightning/trainer/connectors/logger_connector/logger_connector.py:75: Starting from v1.9.0, `tensorboardX` has been removed as a dependency of the `pytorch_lightning` package, due to potential conflicts with other packages in the ML ecosystem. For this reason, `logger=True` will use `CSVLogger` as the default logger, unless the `tensorboard` or `tensorboardX` packages are found. Please `pip install lightning[extra]` or one of them to enable TensorBoard support by default\n",
      "You are using a CUDA device ('NVIDIA L40S') that has Tensor Cores. To properly utilize them, you should set `torch.set_float32_matmul_precision('medium' | 'high')` which will trade-off precision for performance. For more details, read https://pytorch.org/docs/stable/generated/torch.set_float32_matmul_precision.html#torch.set_float32_matmul_precision\n",
      "LOCAL_RANK: 0 - CUDA_VISIBLE_DEVICES: [0]\n"
     ]
    },
    {
     "name": "stdout",
     "output_type": "stream",
     "text": [
      "Predicting DataLoader 0: 100%|██████████| 1/1 [24:03<00:00,  0.00it/s]Number of failed examples: 0\n",
      "Predicting DataLoader 0: 100%|██████████| 1/1 [24:03<00:00,  0.00it/s]\n",
      "Checking input data.\n",
      "Running predictions for 1 structure\n",
      "Processing input data.\n"
     ]
    },
    {
     "name": "stderr",
     "output_type": "stream",
     "text": [
      "  0%|          | 0/1 [00:00<?, ?it/s]\n",
      "  0%|          | 0/150 [elapsed: 00:00 remaining: ?]\u001b[A\n",
      "SUBMIT:   0%|          | 0/150 [elapsed: 00:00 remaining: ?]\u001b[A"
     ]
    },
    {
     "name": "stdout",
     "output_type": "stream",
     "text": [
      "Generating MSA for /workspace/assets/test-files/boltz/GSK3B_inhibitor_9923.yaml with 1 protein entities.\n"
     ]
    },
    {
     "name": "stderr",
     "output_type": "stream",
     "text": [
      "\n",
      "COMPLETE:   0%|          | 0/150 [elapsed: 00:00 remaining: ?]\u001b[A\n",
      "COMPLETE: 100%|██████████| 150/150 [elapsed: 00:01 remaining: 00:00]\u001b[A\n",
      "100%|██████████| 1/1 [00:02<00:00,  2.42s/it]\n",
      "GPU available: True (cuda), used: True\n",
      "TPU available: False, using: 0 TPU cores\n",
      "HPU available: False, using: 0 HPUs\n",
      "/usr/local/lib/python3.10/dist-packages/pytorch_lightning/trainer/connectors/logger_connector/logger_connector.py:75: Starting from v1.9.0, `tensorboardX` has been removed as a dependency of the `pytorch_lightning` package, due to potential conflicts with other packages in the ML ecosystem. For this reason, `logger=True` will use `CSVLogger` as the default logger, unless the `tensorboard` or `tensorboardX` packages are found. Please `pip install lightning[extra]` or one of them to enable TensorBoard support by default\n",
      "You are using a CUDA device ('NVIDIA L40S') that has Tensor Cores. To properly utilize them, you should set `torch.set_float32_matmul_precision('medium' | 'high')` which will trade-off precision for performance. For more details, read https://pytorch.org/docs/stable/generated/torch.set_float32_matmul_precision.html#torch.set_float32_matmul_precision\n",
      "LOCAL_RANK: 0 - CUDA_VISIBLE_DEVICES: [0]\n"
     ]
    },
    {
     "name": "stdout",
     "output_type": "stream",
     "text": [
      "Predicting DataLoader 0: 100%|██████████| 1/1 [24:48<00:00,  0.00it/s]Number of failed examples: 0\n",
      "Predicting DataLoader 0: 100%|██████████| 1/1 [24:48<00:00,  0.00it/s]\n",
      "Checking input data.\n",
      "Running predictions for 1 structure\n",
      "Processing input data.\n"
     ]
    },
    {
     "name": "stderr",
     "output_type": "stream",
     "text": [
      "  0%|          | 0/1 [00:00<?, ?it/s]\n",
      "  0%|          | 0/150 [elapsed: 00:00 remaining: ?]\u001b[A\n",
      "SUBMIT:   0%|          | 0/150 [elapsed: 00:00 remaining: ?]\u001b[A"
     ]
    },
    {
     "name": "stdout",
     "output_type": "stream",
     "text": [
      "Generating MSA for /workspace/assets/test-files/boltz/GSK3B_inhibitor_10108.yaml with 1 protein entities.\n"
     ]
    },
    {
     "name": "stderr",
     "output_type": "stream",
     "text": [
      "\n",
      "COMPLETE:   0%|          | 0/150 [elapsed: 00:00 remaining: ?]\u001b[A\n",
      "COMPLETE: 100%|██████████| 150/150 [elapsed: 00:01 remaining: 00:00]\u001b[A\n",
      "100%|██████████| 1/1 [00:01<00:00,  1.80s/it]\n",
      "GPU available: True (cuda), used: True\n",
      "TPU available: False, using: 0 TPU cores\n",
      "HPU available: False, using: 0 HPUs\n",
      "/usr/local/lib/python3.10/dist-packages/pytorch_lightning/trainer/connectors/logger_connector/logger_connector.py:75: Starting from v1.9.0, `tensorboardX` has been removed as a dependency of the `pytorch_lightning` package, due to potential conflicts with other packages in the ML ecosystem. For this reason, `logger=True` will use `CSVLogger` as the default logger, unless the `tensorboard` or `tensorboardX` packages are found. Please `pip install lightning[extra]` or one of them to enable TensorBoard support by default\n",
      "You are using a CUDA device ('NVIDIA L40S') that has Tensor Cores. To properly utilize them, you should set `torch.set_float32_matmul_precision('medium' | 'high')` which will trade-off precision for performance. For more details, read https://pytorch.org/docs/stable/generated/torch.set_float32_matmul_precision.html#torch.set_float32_matmul_precision\n",
      "LOCAL_RANK: 0 - CUDA_VISIBLE_DEVICES: [0]\n"
     ]
    },
    {
     "name": "stdout",
     "output_type": "stream",
     "text": [
      "Predicting DataLoader 0: 100%|██████████| 1/1 [24:08<00:00,  0.00it/s]Number of failed examples: 0\n",
      "Predicting DataLoader 0: 100%|██████████| 1/1 [24:08<00:00,  0.00it/s]\n",
      "Checking input data.\n",
      "Running predictions for 1 structure\n",
      "Processing input data.\n"
     ]
    },
    {
     "name": "stderr",
     "output_type": "stream",
     "text": [
      "  0%|          | 0/1 [00:00<?, ?it/s]\n",
      "  0%|          | 0/150 [elapsed: 00:00 remaining: ?]\u001b[A\n",
      "SUBMIT:   0%|          | 0/150 [elapsed: 00:00 remaining: ?]\u001b[A"
     ]
    },
    {
     "name": "stdout",
     "output_type": "stream",
     "text": [
      "Generating MSA for /workspace/assets/test-files/boltz/GSK3B_inhibitor_10688.yaml with 1 protein entities.\n"
     ]
    },
    {
     "name": "stderr",
     "output_type": "stream",
     "text": [
      "\n",
      "COMPLETE:   0%|          | 0/150 [elapsed: 00:00 remaining: ?]\u001b[A\n",
      "COMPLETE: 100%|██████████| 150/150 [elapsed: 00:02 remaining: 00:00]\u001b[A\n",
      "100%|██████████| 1/1 [00:02<00:00,  2.59s/it]\n",
      "GPU available: True (cuda), used: True\n",
      "TPU available: False, using: 0 TPU cores\n",
      "HPU available: False, using: 0 HPUs\n",
      "/usr/local/lib/python3.10/dist-packages/pytorch_lightning/trainer/connectors/logger_connector/logger_connector.py:75: Starting from v1.9.0, `tensorboardX` has been removed as a dependency of the `pytorch_lightning` package, due to potential conflicts with other packages in the ML ecosystem. For this reason, `logger=True` will use `CSVLogger` as the default logger, unless the `tensorboard` or `tensorboardX` packages are found. Please `pip install lightning[extra]` or one of them to enable TensorBoard support by default\n",
      "You are using a CUDA device ('NVIDIA L40S') that has Tensor Cores. To properly utilize them, you should set `torch.set_float32_matmul_precision('medium' | 'high')` which will trade-off precision for performance. For more details, read https://pytorch.org/docs/stable/generated/torch.set_float32_matmul_precision.html#torch.set_float32_matmul_precision\n",
      "LOCAL_RANK: 0 - CUDA_VISIBLE_DEVICES: [0]\n"
     ]
    },
    {
     "name": "stdout",
     "output_type": "stream",
     "text": [
      "Predicting DataLoader 0: 100%|██████████| 1/1 [25:04<00:00,  0.00it/s]Number of failed examples: 0\n",
      "Predicting DataLoader 0: 100%|██████████| 1/1 [25:04<00:00,  0.00it/s]\n",
      "Checking input data.\n",
      "Running predictions for 1 structure\n",
      "Processing input data.\n"
     ]
    },
    {
     "name": "stderr",
     "output_type": "stream",
     "text": [
      "  0%|          | 0/1 [00:00<?, ?it/s]\n",
      "  0%|          | 0/150 [elapsed: 00:00 remaining: ?]\u001b[A\n",
      "SUBMIT:   0%|          | 0/150 [elapsed: 00:00 remaining: ?]\u001b[A"
     ]
    },
    {
     "name": "stdout",
     "output_type": "stream",
     "text": [
      "Generating MSA for /workspace/assets/test-files/boltz/GSK3B_inhibitor_11407.yaml with 1 protein entities.\n"
     ]
    },
    {
     "name": "stderr",
     "output_type": "stream",
     "text": [
      "\n",
      "COMPLETE:   0%|          | 0/150 [elapsed: 00:00 remaining: ?]\u001b[A\n",
      "COMPLETE: 100%|██████████| 150/150 [elapsed: 00:02 remaining: 00:00]\u001b[A\n",
      "100%|██████████| 1/1 [00:02<00:00,  2.52s/it]\n",
      "GPU available: True (cuda), used: True\n",
      "TPU available: False, using: 0 TPU cores\n",
      "HPU available: False, using: 0 HPUs\n",
      "/usr/local/lib/python3.10/dist-packages/pytorch_lightning/trainer/connectors/logger_connector/logger_connector.py:75: Starting from v1.9.0, `tensorboardX` has been removed as a dependency of the `pytorch_lightning` package, due to potential conflicts with other packages in the ML ecosystem. For this reason, `logger=True` will use `CSVLogger` as the default logger, unless the `tensorboard` or `tensorboardX` packages are found. Please `pip install lightning[extra]` or one of them to enable TensorBoard support by default\n",
      "You are using a CUDA device ('NVIDIA L40S') that has Tensor Cores. To properly utilize them, you should set `torch.set_float32_matmul_precision('medium' | 'high')` which will trade-off precision for performance. For more details, read https://pytorch.org/docs/stable/generated/torch.set_float32_matmul_precision.html#torch.set_float32_matmul_precision\n",
      "LOCAL_RANK: 0 - CUDA_VISIBLE_DEVICES: [0]\n"
     ]
    },
    {
     "name": "stdout",
     "output_type": "stream",
     "text": [
      "Predicting DataLoader 0: 100%|██████████| 1/1 [24:52<00:00,  0.00it/s]Number of failed examples: 0\n",
      "Predicting DataLoader 0: 100%|██████████| 1/1 [24:52<00:00,  0.00it/s]\n",
      "Checking input data.\n",
      "Running predictions for 1 structure\n",
      "Processing input data.\n"
     ]
    },
    {
     "name": "stderr",
     "output_type": "stream",
     "text": [
      "  0%|          | 0/1 [00:00<?, ?it/s]\n",
      "  0%|          | 0/150 [elapsed: 00:00 remaining: ?]\u001b[A\n",
      "SUBMIT:   0%|          | 0/150 [elapsed: 00:00 remaining: ?]\u001b[A"
     ]
    },
    {
     "name": "stdout",
     "output_type": "stream",
     "text": [
      "Generating MSA for /workspace/assets/test-files/boltz/GSK3B_inhibitor_11412.yaml with 1 protein entities.\n"
     ]
    },
    {
     "name": "stderr",
     "output_type": "stream",
     "text": [
      "\n",
      "COMPLETE:   0%|          | 0/150 [elapsed: 00:00 remaining: ?]\u001b[A\n",
      "COMPLETE: 100%|██████████| 150/150 [elapsed: 00:01 remaining: 00:00]\u001b[A\n",
      "100%|██████████| 1/1 [00:01<00:00,  1.91s/it]\n",
      "GPU available: True (cuda), used: True\n",
      "TPU available: False, using: 0 TPU cores\n",
      "HPU available: False, using: 0 HPUs\n",
      "/usr/local/lib/python3.10/dist-packages/pytorch_lightning/trainer/connectors/logger_connector/logger_connector.py:75: Starting from v1.9.0, `tensorboardX` has been removed as a dependency of the `pytorch_lightning` package, due to potential conflicts with other packages in the ML ecosystem. For this reason, `logger=True` will use `CSVLogger` as the default logger, unless the `tensorboard` or `tensorboardX` packages are found. Please `pip install lightning[extra]` or one of them to enable TensorBoard support by default\n",
      "You are using a CUDA device ('NVIDIA L40S') that has Tensor Cores. To properly utilize them, you should set `torch.set_float32_matmul_precision('medium' | 'high')` which will trade-off precision for performance. For more details, read https://pytorch.org/docs/stable/generated/torch.set_float32_matmul_precision.html#torch.set_float32_matmul_precision\n",
      "LOCAL_RANK: 0 - CUDA_VISIBLE_DEVICES: [0]\n"
     ]
    },
    {
     "name": "stdout",
     "output_type": "stream",
     "text": [
      "Predicting DataLoader 0: 100%|██████████| 1/1 [24:47<00:00,  0.00it/s]Number of failed examples: 0\n",
      "Predicting DataLoader 0: 100%|██████████| 1/1 [24:47<00:00,  0.00it/s]\n",
      "Checking input data.\n",
      "Running predictions for 1 structure\n",
      "Processing input data.\n"
     ]
    },
    {
     "name": "stderr",
     "output_type": "stream",
     "text": [
      "  0%|          | 0/1 [00:00<?, ?it/s]\n",
      "  0%|          | 0/150 [elapsed: 00:00 remaining: ?]\u001b[A\n",
      "SUBMIT:   0%|          | 0/150 [elapsed: 00:00 remaining: ?]\u001b[A"
     ]
    },
    {
     "name": "stdout",
     "output_type": "stream",
     "text": [
      "Generating MSA for /workspace/assets/test-files/boltz/GSK3B_inhibitor_11548.yaml with 1 protein entities.\n"
     ]
    },
    {
     "name": "stderr",
     "output_type": "stream",
     "text": [
      "\n",
      "COMPLETE:   0%|          | 0/150 [elapsed: 00:00 remaining: ?]\u001b[A\n",
      "COMPLETE: 100%|██████████| 150/150 [elapsed: 00:02 remaining: 00:00]\u001b[A\n",
      "100%|██████████| 1/1 [00:02<00:00,  2.56s/it]\n",
      "GPU available: True (cuda), used: True\n",
      "TPU available: False, using: 0 TPU cores\n",
      "HPU available: False, using: 0 HPUs\n",
      "/usr/local/lib/python3.10/dist-packages/pytorch_lightning/trainer/connectors/logger_connector/logger_connector.py:75: Starting from v1.9.0, `tensorboardX` has been removed as a dependency of the `pytorch_lightning` package, due to potential conflicts with other packages in the ML ecosystem. For this reason, `logger=True` will use `CSVLogger` as the default logger, unless the `tensorboard` or `tensorboardX` packages are found. Please `pip install lightning[extra]` or one of them to enable TensorBoard support by default\n",
      "You are using a CUDA device ('NVIDIA L40S') that has Tensor Cores. To properly utilize them, you should set `torch.set_float32_matmul_precision('medium' | 'high')` which will trade-off precision for performance. For more details, read https://pytorch.org/docs/stable/generated/torch.set_float32_matmul_precision.html#torch.set_float32_matmul_precision\n",
      "LOCAL_RANK: 0 - CUDA_VISIBLE_DEVICES: [0]\n"
     ]
    },
    {
     "name": "stdout",
     "output_type": "stream",
     "text": [
      "Predicting DataLoader 0: 100%|██████████| 1/1 [28:53<00:00,  0.00it/s]Number of failed examples: 0\n",
      "Predicting DataLoader 0: 100%|██████████| 1/1 [28:53<00:00,  0.00it/s]\n",
      "Checking input data.\n",
      "Running predictions for 1 structure\n",
      "Processing input data.\n"
     ]
    },
    {
     "name": "stderr",
     "output_type": "stream",
     "text": [
      "  0%|          | 0/1 [00:00<?, ?it/s]\n",
      "  0%|          | 0/150 [elapsed: 00:00 remaining: ?]\u001b[A\n",
      "SUBMIT:   0%|          | 0/150 [elapsed: 00:00 remaining: ?]\u001b[A"
     ]
    },
    {
     "name": "stdout",
     "output_type": "stream",
     "text": [
      "Generating MSA for /workspace/assets/test-files/boltz/GSK3B_inhibitor_13774.yaml with 1 protein entities.\n"
     ]
    },
    {
     "name": "stderr",
     "output_type": "stream",
     "text": [
      "\n",
      "COMPLETE:   0%|          | 0/150 [elapsed: 00:00 remaining: ?]\u001b[A\n",
      "COMPLETE: 100%|██████████| 150/150 [elapsed: 00:02 remaining: 00:00]\u001b[A\n",
      "100%|██████████| 1/1 [00:02<00:00,  2.59s/it]\n",
      "GPU available: True (cuda), used: True\n",
      "TPU available: False, using: 0 TPU cores\n",
      "HPU available: False, using: 0 HPUs\n",
      "/usr/local/lib/python3.10/dist-packages/pytorch_lightning/trainer/connectors/logger_connector/logger_connector.py:75: Starting from v1.9.0, `tensorboardX` has been removed as a dependency of the `pytorch_lightning` package, due to potential conflicts with other packages in the ML ecosystem. For this reason, `logger=True` will use `CSVLogger` as the default logger, unless the `tensorboard` or `tensorboardX` packages are found. Please `pip install lightning[extra]` or one of them to enable TensorBoard support by default\n",
      "You are using a CUDA device ('NVIDIA L40S') that has Tensor Cores. To properly utilize them, you should set `torch.set_float32_matmul_precision('medium' | 'high')` which will trade-off precision for performance. For more details, read https://pytorch.org/docs/stable/generated/torch.set_float32_matmul_precision.html#torch.set_float32_matmul_precision\n",
      "LOCAL_RANK: 0 - CUDA_VISIBLE_DEVICES: [0]\n"
     ]
    },
    {
     "name": "stdout",
     "output_type": "stream",
     "text": [
      "Predicting DataLoader 0: 100%|██████████| 1/1 [30:41<00:00,  0.00it/s]Number of failed examples: 0\n",
      "Predicting DataLoader 0: 100%|██████████| 1/1 [30:41<00:00,  0.00it/s]\n"
     ]
    }
   ],
   "source": [
    "import subprocess\n",
    "import os\n",
    "\n",
    "for _, row in gsk3b_inhibitor_df.dropna(subset=[\"ligand_pubchem_cid\"]).iterrows():\n",
    "    # Check if f\"/workspace/assets/test-files/boltz/GSK3B_inhibitor_{row['ligand']}.yaml\" exists\n",
    "    yaml_file = f\"/workspace/assets/test-files/boltz/GSK3B_inhibitor_{row['ligand']}.yaml\"\n",
    "    if os.path.exists(yaml_file):\n",
    "        # Run the command\n",
    "        command = [\n",
    "            \"boltz\", \"predict\", yaml_file,\n",
    "            \"--recycling_steps\", \"10\",\n",
    "            \"--diffusion_samples\", \"25\",\n",
    "            \"--accelerator\", \"gpu\",\n",
    "            \"--out_dir\", f\"/workspace/datasets/boltz1x/predict4/{row['ligand']}\",\n",
    "            \"--cache\", \"/workspace/datasets/boltz1x/cache\",\n",
    "            \"--use_msa_server\"\n",
    "        ]\n",
    "        subprocess.run(command)"
   ]
  },
  {
   "cell_type": "markdown",
   "id": "3281e96d",
   "metadata": {},
   "source": [
    "As an example of the output, let's take a look at GSK3B_inhibitor 5947. \n",
    "\n",
    "![image](../assets/images/GSK3B_inhibitor_5947.png)\n",
    "\n",
    "Lets analyse the interaction between GSK3B and the inhibitor in a more detailed manner using python function `analyze_protein_ligand_interactions`"
   ]
  },
  {
   "cell_type": "code",
   "execution_count": 2,
   "id": "8a07a841",
   "metadata": {},
   "outputs": [
    {
     "name": "stdout",
     "output_type": "stream",
     "text": [
      "Found 1 ligand residue(s): ['LIG']\n",
      "\n",
      "Protein-Ligand Interaction Summary:\n",
      "Total interacting residues: 18\n",
      "Electrostatic interactions: 3\n",
      "Hydrogen bond interactions: 1\n",
      "Hydrophobic interactions: 8\n",
      "Van der Waals contacts: 9\n",
      "Average interaction distance: 4.21 Å\n",
      "Closest interaction: 2.61 Å\n",
      "\n",
      "Top 5 strongest interactions:\n",
      "ASP133 - LIG: 2.61Å (Electrostatic;Hydrogen_Bond;Van_der_Waals)\n",
      "VAL135 - LIG: 3.26Å (Hydrophobic;Van_der_Waals)\n",
      "LEU188 - LIG: 3.40Å (Hydrophobic;Van_der_Waals)\n",
      "VAL110 - LIG: 3.47Å (Hydrophobic;Van_der_Waals)\n",
      "ALA83 - LIG: 3.55Å (Hydrophobic;Van_der_Waals)\n"
     ]
    },
    {
     "data": {
      "text/html": [
       "<div>\n",
       "<style scoped>\n",
       "    .dataframe tbody tr th:only-of-type {\n",
       "        vertical-align: middle;\n",
       "    }\n",
       "\n",
       "    .dataframe tbody tr th {\n",
       "        vertical-align: top;\n",
       "    }\n",
       "\n",
       "    .dataframe thead th {\n",
       "        text-align: right;\n",
       "    }\n",
       "</style>\n",
       "<table border=\"1\" class=\"dataframe\">\n",
       "  <thead>\n",
       "    <tr style=\"text-align: right;\">\n",
       "      <th></th>\n",
       "      <th>Protein_Residue</th>\n",
       "      <th>Protein_Position</th>\n",
       "      <th>Protein_ICode</th>\n",
       "      <th>Ligand_Name</th>\n",
       "      <th>Ligand_Chain</th>\n",
       "      <th>Ligand_Position</th>\n",
       "      <th>Ligand_ICode</th>\n",
       "      <th>Min_Distance_A</th>\n",
       "      <th>Closest_Atoms</th>\n",
       "      <th>Interaction_Types</th>\n",
       "      <th>...</th>\n",
       "      <th>Has_Electrostatic</th>\n",
       "      <th>Has_Hydrogen_Bond</th>\n",
       "      <th>Has_Hydrophobic</th>\n",
       "      <th>Has_VdW</th>\n",
       "      <th>Protein_Type</th>\n",
       "      <th>Electrostatic_Score</th>\n",
       "      <th>HBond_Score</th>\n",
       "      <th>Hydrophobic_Score</th>\n",
       "      <th>Avg_Distance</th>\n",
       "      <th>Contact_Count</th>\n",
       "    </tr>\n",
       "  </thead>\n",
       "  <tbody>\n",
       "    <tr>\n",
       "      <th>0</th>\n",
       "      <td>ASP</td>\n",
       "      <td>133</td>\n",
       "      <td></td>\n",
       "      <td>LIG</td>\n",
       "      <td>B</td>\n",
       "      <td>1</td>\n",
       "      <td></td>\n",
       "      <td>2.61</td>\n",
       "      <td>O-N20</td>\n",
       "      <td>Electrostatic;Hydrogen_Bond;Van_der_Waals</td>\n",
       "      <td>...</td>\n",
       "      <td>True</td>\n",
       "      <td>True</td>\n",
       "      <td>False</td>\n",
       "      <td>True</td>\n",
       "      <td>Negative</td>\n",
       "      <td>2.83</td>\n",
       "      <td>1.74</td>\n",
       "      <td>0.00</td>\n",
       "      <td>9.26</td>\n",
       "      <td>4</td>\n",
       "    </tr>\n",
       "    <tr>\n",
       "      <th>1</th>\n",
       "      <td>VAL</td>\n",
       "      <td>135</td>\n",
       "      <td></td>\n",
       "      <td>LIG</td>\n",
       "      <td>B</td>\n",
       "      <td>1</td>\n",
       "      <td></td>\n",
       "      <td>3.26</td>\n",
       "      <td>N-N21</td>\n",
       "      <td>Hydrophobic;Van_der_Waals</td>\n",
       "      <td>...</td>\n",
       "      <td>False</td>\n",
       "      <td>False</td>\n",
       "      <td>True</td>\n",
       "      <td>True</td>\n",
       "      <td>Hydrophobic</td>\n",
       "      <td>0.00</td>\n",
       "      <td>0.00</td>\n",
       "      <td>0.35</td>\n",
       "      <td>7.17</td>\n",
       "      <td>10</td>\n",
       "    </tr>\n",
       "    <tr>\n",
       "      <th>2</th>\n",
       "      <td>LEU</td>\n",
       "      <td>188</td>\n",
       "      <td></td>\n",
       "      <td>LIG</td>\n",
       "      <td>B</td>\n",
       "      <td>1</td>\n",
       "      <td></td>\n",
       "      <td>3.40</td>\n",
       "      <td>CD1-C15</td>\n",
       "      <td>Hydrophobic;Van_der_Waals</td>\n",
       "      <td>...</td>\n",
       "      <td>False</td>\n",
       "      <td>False</td>\n",
       "      <td>True</td>\n",
       "      <td>True</td>\n",
       "      <td>Hydrophobic</td>\n",
       "      <td>0.00</td>\n",
       "      <td>0.00</td>\n",
       "      <td>0.32</td>\n",
       "      <td>7.05</td>\n",
       "      <td>11</td>\n",
       "    </tr>\n",
       "    <tr>\n",
       "      <th>3</th>\n",
       "      <td>VAL</td>\n",
       "      <td>110</td>\n",
       "      <td></td>\n",
       "      <td>LIG</td>\n",
       "      <td>B</td>\n",
       "      <td>1</td>\n",
       "      <td></td>\n",
       "      <td>3.47</td>\n",
       "      <td>CG2-N20</td>\n",
       "      <td>Hydrophobic;Van_der_Waals</td>\n",
       "      <td>...</td>\n",
       "      <td>False</td>\n",
       "      <td>False</td>\n",
       "      <td>True</td>\n",
       "      <td>True</td>\n",
       "      <td>Hydrophobic</td>\n",
       "      <td>0.00</td>\n",
       "      <td>0.00</td>\n",
       "      <td>0.31</td>\n",
       "      <td>8.38</td>\n",
       "      <td>1</td>\n",
       "    </tr>\n",
       "    <tr>\n",
       "      <th>4</th>\n",
       "      <td>ALA</td>\n",
       "      <td>83</td>\n",
       "      <td></td>\n",
       "      <td>LIG</td>\n",
       "      <td>B</td>\n",
       "      <td>1</td>\n",
       "      <td></td>\n",
       "      <td>3.55</td>\n",
       "      <td>CB-N20</td>\n",
       "      <td>Hydrophobic;Van_der_Waals</td>\n",
       "      <td>...</td>\n",
       "      <td>False</td>\n",
       "      <td>False</td>\n",
       "      <td>True</td>\n",
       "      <td>True</td>\n",
       "      <td>Hydrophobic</td>\n",
       "      <td>0.00</td>\n",
       "      <td>0.00</td>\n",
       "      <td>0.29</td>\n",
       "      <td>6.88</td>\n",
       "      <td>5</td>\n",
       "    </tr>\n",
       "    <tr>\n",
       "      <th>5</th>\n",
       "      <td>ASP</td>\n",
       "      <td>200</td>\n",
       "      <td></td>\n",
       "      <td>LIG</td>\n",
       "      <td>B</td>\n",
       "      <td>1</td>\n",
       "      <td></td>\n",
       "      <td>4.06</td>\n",
       "      <td>CB-C12</td>\n",
       "      <td>Electrostatic</td>\n",
       "      <td>...</td>\n",
       "      <td>True</td>\n",
       "      <td>False</td>\n",
       "      <td>False</td>\n",
       "      <td>False</td>\n",
       "      <td>Negative</td>\n",
       "      <td>1.62</td>\n",
       "      <td>0.00</td>\n",
       "      <td>0.00</td>\n",
       "      <td>7.84</td>\n",
       "      <td>4</td>\n",
       "    </tr>\n",
       "    <tr>\n",
       "      <th>6</th>\n",
       "      <td>PHE</td>\n",
       "      <td>67</td>\n",
       "      <td></td>\n",
       "      <td>LIG</td>\n",
       "      <td>B</td>\n",
       "      <td>1</td>\n",
       "      <td></td>\n",
       "      <td>3.75</td>\n",
       "      <td>CZ-C11</td>\n",
       "      <td>Hydrophobic;Van_der_Waals</td>\n",
       "      <td>...</td>\n",
       "      <td>False</td>\n",
       "      <td>False</td>\n",
       "      <td>True</td>\n",
       "      <td>True</td>\n",
       "      <td>Aromatic</td>\n",
       "      <td>0.00</td>\n",
       "      <td>0.00</td>\n",
       "      <td>0.25</td>\n",
       "      <td>8.75</td>\n",
       "      <td>7</td>\n",
       "    </tr>\n",
       "    <tr>\n",
       "      <th>7</th>\n",
       "      <td>VAL</td>\n",
       "      <td>70</td>\n",
       "      <td></td>\n",
       "      <td>LIG</td>\n",
       "      <td>B</td>\n",
       "      <td>1</td>\n",
       "      <td></td>\n",
       "      <td>3.87</td>\n",
       "      <td>CG2-C11</td>\n",
       "      <td>Hydrophobic;Van_der_Waals</td>\n",
       "      <td>...</td>\n",
       "      <td>False</td>\n",
       "      <td>False</td>\n",
       "      <td>True</td>\n",
       "      <td>True</td>\n",
       "      <td>Hydrophobic</td>\n",
       "      <td>0.00</td>\n",
       "      <td>0.00</td>\n",
       "      <td>0.23</td>\n",
       "      <td>6.54</td>\n",
       "      <td>10</td>\n",
       "    </tr>\n",
       "    <tr>\n",
       "      <th>8</th>\n",
       "      <td>LYS</td>\n",
       "      <td>85</td>\n",
       "      <td></td>\n",
       "      <td>LIG</td>\n",
       "      <td>B</td>\n",
       "      <td>1</td>\n",
       "      <td></td>\n",
       "      <td>4.59</td>\n",
       "      <td>CD-C14</td>\n",
       "      <td>Electrostatic</td>\n",
       "      <td>...</td>\n",
       "      <td>True</td>\n",
       "      <td>False</td>\n",
       "      <td>False</td>\n",
       "      <td>False</td>\n",
       "      <td>Positive</td>\n",
       "      <td>1.17</td>\n",
       "      <td>0.00</td>\n",
       "      <td>0.00</td>\n",
       "      <td>7.94</td>\n",
       "      <td>0</td>\n",
       "    </tr>\n",
       "    <tr>\n",
       "      <th>9</th>\n",
       "      <td>LEU</td>\n",
       "      <td>132</td>\n",
       "      <td></td>\n",
       "      <td>LIG</td>\n",
       "      <td>B</td>\n",
       "      <td>1</td>\n",
       "      <td></td>\n",
       "      <td>4.02</td>\n",
       "      <td>CB-N20</td>\n",
       "      <td>Hydrophobic</td>\n",
       "      <td>...</td>\n",
       "      <td>False</td>\n",
       "      <td>False</td>\n",
       "      <td>True</td>\n",
       "      <td>False</td>\n",
       "      <td>Hydrophobic</td>\n",
       "      <td>0.00</td>\n",
       "      <td>0.00</td>\n",
       "      <td>0.20</td>\n",
       "      <td>7.72</td>\n",
       "      <td>1</td>\n",
       "    </tr>\n",
       "    <tr>\n",
       "      <th>10</th>\n",
       "      <td>ILE</td>\n",
       "      <td>62</td>\n",
       "      <td></td>\n",
       "      <td>LIG</td>\n",
       "      <td>B</td>\n",
       "      <td>1</td>\n",
       "      <td></td>\n",
       "      <td>4.07</td>\n",
       "      <td>CD1-N10</td>\n",
       "      <td>Hydrophobic</td>\n",
       "      <td>...</td>\n",
       "      <td>False</td>\n",
       "      <td>False</td>\n",
       "      <td>True</td>\n",
       "      <td>False</td>\n",
       "      <td>Hydrophobic</td>\n",
       "      <td>0.00</td>\n",
       "      <td>0.00</td>\n",
       "      <td>0.19</td>\n",
       "      <td>7.61</td>\n",
       "      <td>3</td>\n",
       "    </tr>\n",
       "    <tr>\n",
       "      <th>11</th>\n",
       "      <td>TYR</td>\n",
       "      <td>134</td>\n",
       "      <td></td>\n",
       "      <td>LIG</td>\n",
       "      <td>B</td>\n",
       "      <td>1</td>\n",
       "      <td></td>\n",
       "      <td>3.92</td>\n",
       "      <td>CD1-N21</td>\n",
       "      <td>Van_der_Waals</td>\n",
       "      <td>...</td>\n",
       "      <td>False</td>\n",
       "      <td>False</td>\n",
       "      <td>False</td>\n",
       "      <td>True</td>\n",
       "      <td>Aromatic</td>\n",
       "      <td>0.00</td>\n",
       "      <td>0.10</td>\n",
       "      <td>0.00</td>\n",
       "      <td>7.97</td>\n",
       "      <td>9</td>\n",
       "    </tr>\n",
       "    <tr>\n",
       "      <th>12</th>\n",
       "      <td>CYS</td>\n",
       "      <td>199</td>\n",
       "      <td></td>\n",
       "      <td>LIG</td>\n",
       "      <td>B</td>\n",
       "      <td>1</td>\n",
       "      <td></td>\n",
       "      <td>3.97</td>\n",
       "      <td>SG-C14</td>\n",
       "      <td>Van_der_Waals</td>\n",
       "      <td>...</td>\n",
       "      <td>False</td>\n",
       "      <td>False</td>\n",
       "      <td>False</td>\n",
       "      <td>True</td>\n",
       "      <td>Sulfur</td>\n",
       "      <td>0.00</td>\n",
       "      <td>0.04</td>\n",
       "      <td>0.00</td>\n",
       "      <td>6.65</td>\n",
       "      <td>7</td>\n",
       "    </tr>\n",
       "    <tr>\n",
       "      <th>13</th>\n",
       "      <td>ASN</td>\n",
       "      <td>186</td>\n",
       "      <td></td>\n",
       "      <td>LIG</td>\n",
       "      <td>B</td>\n",
       "      <td>1</td>\n",
       "      <td></td>\n",
       "      <td>5.14</td>\n",
       "      <td>OD1-C12</td>\n",
       "      <td>Van_der_Waals</td>\n",
       "      <td>...</td>\n",
       "      <td>False</td>\n",
       "      <td>False</td>\n",
       "      <td>False</td>\n",
       "      <td>False</td>\n",
       "      <td>Polar</td>\n",
       "      <td>0.00</td>\n",
       "      <td>0.00</td>\n",
       "      <td>0.00</td>\n",
       "      <td>8.33</td>\n",
       "      <td>0</td>\n",
       "    </tr>\n",
       "    <tr>\n",
       "      <th>14</th>\n",
       "      <td>GLY</td>\n",
       "      <td>63</td>\n",
       "      <td></td>\n",
       "      <td>LIG</td>\n",
       "      <td>B</td>\n",
       "      <td>1</td>\n",
       "      <td></td>\n",
       "      <td>5.42</td>\n",
       "      <td>CA-C13</td>\n",
       "      <td>Van_der_Waals</td>\n",
       "      <td>...</td>\n",
       "      <td>False</td>\n",
       "      <td>False</td>\n",
       "      <td>False</td>\n",
       "      <td>False</td>\n",
       "      <td>Flexible</td>\n",
       "      <td>0.00</td>\n",
       "      <td>0.00</td>\n",
       "      <td>0.00</td>\n",
       "      <td>8.04</td>\n",
       "      <td>0</td>\n",
       "    </tr>\n",
       "    <tr>\n",
       "      <th>15</th>\n",
       "      <td>GLN</td>\n",
       "      <td>185</td>\n",
       "      <td></td>\n",
       "      <td>LIG</td>\n",
       "      <td>B</td>\n",
       "      <td>1</td>\n",
       "      <td></td>\n",
       "      <td>5.42</td>\n",
       "      <td>O-C13</td>\n",
       "      <td>Van_der_Waals</td>\n",
       "      <td>...</td>\n",
       "      <td>False</td>\n",
       "      <td>False</td>\n",
       "      <td>False</td>\n",
       "      <td>False</td>\n",
       "      <td>Polar</td>\n",
       "      <td>0.00</td>\n",
       "      <td>0.00</td>\n",
       "      <td>0.00</td>\n",
       "      <td>10.11</td>\n",
       "      <td>0</td>\n",
       "    </tr>\n",
       "    <tr>\n",
       "      <th>16</th>\n",
       "      <td>PRO</td>\n",
       "      <td>136</td>\n",
       "      <td></td>\n",
       "      <td>LIG</td>\n",
       "      <td>B</td>\n",
       "      <td>1</td>\n",
       "      <td></td>\n",
       "      <td>5.45</td>\n",
       "      <td>N-N21</td>\n",
       "      <td>Van_der_Waals</td>\n",
       "      <td>...</td>\n",
       "      <td>False</td>\n",
       "      <td>False</td>\n",
       "      <td>False</td>\n",
       "      <td>False</td>\n",
       "      <td>Hydrophobic</td>\n",
       "      <td>0.00</td>\n",
       "      <td>0.00</td>\n",
       "      <td>0.00</td>\n",
       "      <td>9.31</td>\n",
       "      <td>0</td>\n",
       "    </tr>\n",
       "    <tr>\n",
       "      <th>17</th>\n",
       "      <td>THR</td>\n",
       "      <td>138</td>\n",
       "      <td></td>\n",
       "      <td>LIG</td>\n",
       "      <td>B</td>\n",
       "      <td>1</td>\n",
       "      <td></td>\n",
       "      <td>5.83</td>\n",
       "      <td>CG2-N8</td>\n",
       "      <td>Van_der_Waals</td>\n",
       "      <td>...</td>\n",
       "      <td>False</td>\n",
       "      <td>False</td>\n",
       "      <td>False</td>\n",
       "      <td>False</td>\n",
       "      <td>Polar</td>\n",
       "      <td>0.00</td>\n",
       "      <td>0.00</td>\n",
       "      <td>0.00</td>\n",
       "      <td>9.42</td>\n",
       "      <td>0</td>\n",
       "    </tr>\n",
       "  </tbody>\n",
       "</table>\n",
       "<p>18 rows × 21 columns</p>\n",
       "</div>"
      ],
      "text/plain": [
       "   Protein_Residue  Protein_Position Protein_ICode Ligand_Name Ligand_Chain  \\\n",
       "0              ASP               133                       LIG            B   \n",
       "1              VAL               135                       LIG            B   \n",
       "2              LEU               188                       LIG            B   \n",
       "3              VAL               110                       LIG            B   \n",
       "4              ALA                83                       LIG            B   \n",
       "5              ASP               200                       LIG            B   \n",
       "6              PHE                67                       LIG            B   \n",
       "7              VAL                70                       LIG            B   \n",
       "8              LYS                85                       LIG            B   \n",
       "9              LEU               132                       LIG            B   \n",
       "10             ILE                62                       LIG            B   \n",
       "11             TYR               134                       LIG            B   \n",
       "12             CYS               199                       LIG            B   \n",
       "13             ASN               186                       LIG            B   \n",
       "14             GLY                63                       LIG            B   \n",
       "15             GLN               185                       LIG            B   \n",
       "16             PRO               136                       LIG            B   \n",
       "17             THR               138                       LIG            B   \n",
       "\n",
       "    Ligand_Position Ligand_ICode  Min_Distance_A Closest_Atoms  \\\n",
       "0                 1                         2.61         O-N20   \n",
       "1                 1                         3.26         N-N21   \n",
       "2                 1                         3.40       CD1-C15   \n",
       "3                 1                         3.47       CG2-N20   \n",
       "4                 1                         3.55        CB-N20   \n",
       "5                 1                         4.06        CB-C12   \n",
       "6                 1                         3.75        CZ-C11   \n",
       "7                 1                         3.87       CG2-C11   \n",
       "8                 1                         4.59        CD-C14   \n",
       "9                 1                         4.02        CB-N20   \n",
       "10                1                         4.07       CD1-N10   \n",
       "11                1                         3.92       CD1-N21   \n",
       "12                1                         3.97        SG-C14   \n",
       "13                1                         5.14       OD1-C12   \n",
       "14                1                         5.42        CA-C13   \n",
       "15                1                         5.42         O-C13   \n",
       "16                1                         5.45         N-N21   \n",
       "17                1                         5.83        CG2-N8   \n",
       "\n",
       "                            Interaction_Types  ...  Has_Electrostatic  \\\n",
       "0   Electrostatic;Hydrogen_Bond;Van_der_Waals  ...               True   \n",
       "1                   Hydrophobic;Van_der_Waals  ...              False   \n",
       "2                   Hydrophobic;Van_der_Waals  ...              False   \n",
       "3                   Hydrophobic;Van_der_Waals  ...              False   \n",
       "4                   Hydrophobic;Van_der_Waals  ...              False   \n",
       "5                               Electrostatic  ...               True   \n",
       "6                   Hydrophobic;Van_der_Waals  ...              False   \n",
       "7                   Hydrophobic;Van_der_Waals  ...              False   \n",
       "8                               Electrostatic  ...               True   \n",
       "9                                 Hydrophobic  ...              False   \n",
       "10                                Hydrophobic  ...              False   \n",
       "11                              Van_der_Waals  ...              False   \n",
       "12                              Van_der_Waals  ...              False   \n",
       "13                              Van_der_Waals  ...              False   \n",
       "14                              Van_der_Waals  ...              False   \n",
       "15                              Van_der_Waals  ...              False   \n",
       "16                              Van_der_Waals  ...              False   \n",
       "17                              Van_der_Waals  ...              False   \n",
       "\n",
       "    Has_Hydrogen_Bond  Has_Hydrophobic  Has_VdW  Protein_Type  \\\n",
       "0                True            False     True      Negative   \n",
       "1               False             True     True   Hydrophobic   \n",
       "2               False             True     True   Hydrophobic   \n",
       "3               False             True     True   Hydrophobic   \n",
       "4               False             True     True   Hydrophobic   \n",
       "5               False            False    False      Negative   \n",
       "6               False             True     True      Aromatic   \n",
       "7               False             True     True   Hydrophobic   \n",
       "8               False            False    False      Positive   \n",
       "9               False             True    False   Hydrophobic   \n",
       "10              False             True    False   Hydrophobic   \n",
       "11              False            False     True      Aromatic   \n",
       "12              False            False     True        Sulfur   \n",
       "13              False            False    False         Polar   \n",
       "14              False            False    False      Flexible   \n",
       "15              False            False    False         Polar   \n",
       "16              False            False    False   Hydrophobic   \n",
       "17              False            False    False         Polar   \n",
       "\n",
       "   Electrostatic_Score  HBond_Score  Hydrophobic_Score  Avg_Distance  \\\n",
       "0                 2.83         1.74               0.00          9.26   \n",
       "1                 0.00         0.00               0.35          7.17   \n",
       "2                 0.00         0.00               0.32          7.05   \n",
       "3                 0.00         0.00               0.31          8.38   \n",
       "4                 0.00         0.00               0.29          6.88   \n",
       "5                 1.62         0.00               0.00          7.84   \n",
       "6                 0.00         0.00               0.25          8.75   \n",
       "7                 0.00         0.00               0.23          6.54   \n",
       "8                 1.17         0.00               0.00          7.94   \n",
       "9                 0.00         0.00               0.20          7.72   \n",
       "10                0.00         0.00               0.19          7.61   \n",
       "11                0.00         0.10               0.00          7.97   \n",
       "12                0.00         0.04               0.00          6.65   \n",
       "13                0.00         0.00               0.00          8.33   \n",
       "14                0.00         0.00               0.00          8.04   \n",
       "15                0.00         0.00               0.00         10.11   \n",
       "16                0.00         0.00               0.00          9.31   \n",
       "17                0.00         0.00               0.00          9.42   \n",
       "\n",
       "    Contact_Count  \n",
       "0               4  \n",
       "1              10  \n",
       "2              11  \n",
       "3               1  \n",
       "4               5  \n",
       "5               4  \n",
       "6               7  \n",
       "7              10  \n",
       "8               0  \n",
       "9               1  \n",
       "10              3  \n",
       "11              9  \n",
       "12              7  \n",
       "13              0  \n",
       "14              0  \n",
       "15              0  \n",
       "16              0  \n",
       "17              0  \n",
       "\n",
       "[18 rows x 21 columns]"
      ]
     },
     "execution_count": 2,
     "metadata": {},
     "output_type": "execute_result"
    }
   ],
   "source": [
    "import sys\n",
    "sys.path.append(\"/workspace\")\n",
    "from utils.protein_analysis import analyze_protein_ligand_interactions\n",
    "\n",
    "df = analyze_protein_ligand_interactions('../assets/test-files/boltz/GSK3B_inhibitor_5947_model_0.cif', ligand_name='LIG')\n",
    "df"
   ]
  },
  {
   "cell_type": "code",
   "execution_count": null,
   "id": "a8857beb",
   "metadata": {},
   "outputs": [
    {
     "data": {
      "text/html": [
       "<div>\n",
       "<style scoped>\n",
       "    .dataframe tbody tr th:only-of-type {\n",
       "        vertical-align: middle;\n",
       "    }\n",
       "\n",
       "    .dataframe tbody tr th {\n",
       "        vertical-align: top;\n",
       "    }\n",
       "\n",
       "    .dataframe thead th {\n",
       "        text-align: right;\n",
       "    }\n",
       "</style>\n",
       "<table border=\"1\" class=\"dataframe\">\n",
       "  <thead>\n",
       "    <tr style=\"text-align: right;\">\n",
       "      <th></th>\n",
       "      <th>Position</th>\n",
       "      <th>Count</th>\n",
       "      <th>ID</th>\n",
       "    </tr>\n",
       "  </thead>\n",
       "  <tbody>\n",
       "    <tr>\n",
       "      <th>0</th>\n",
       "      <td>133</td>\n",
       "      <td>1</td>\n",
       "      <td>5947</td>\n",
       "    </tr>\n",
       "    <tr>\n",
       "      <th>1</th>\n",
       "      <td>135</td>\n",
       "      <td>1</td>\n",
       "      <td>5947</td>\n",
       "    </tr>\n",
       "    <tr>\n",
       "      <th>2</th>\n",
       "      <td>188</td>\n",
       "      <td>1</td>\n",
       "      <td>5947</td>\n",
       "    </tr>\n",
       "    <tr>\n",
       "      <th>3</th>\n",
       "      <td>110</td>\n",
       "      <td>1</td>\n",
       "      <td>5947</td>\n",
       "    </tr>\n",
       "    <tr>\n",
       "      <th>4</th>\n",
       "      <td>83</td>\n",
       "      <td>1</td>\n",
       "      <td>5947</td>\n",
       "    </tr>\n",
       "    <tr>\n",
       "      <th>5</th>\n",
       "      <td>200</td>\n",
       "      <td>1</td>\n",
       "      <td>5947</td>\n",
       "    </tr>\n",
       "    <tr>\n",
       "      <th>6</th>\n",
       "      <td>67</td>\n",
       "      <td>1</td>\n",
       "      <td>5947</td>\n",
       "    </tr>\n",
       "    <tr>\n",
       "      <th>7</th>\n",
       "      <td>70</td>\n",
       "      <td>1</td>\n",
       "      <td>5947</td>\n",
       "    </tr>\n",
       "    <tr>\n",
       "      <th>8</th>\n",
       "      <td>85</td>\n",
       "      <td>1</td>\n",
       "      <td>5947</td>\n",
       "    </tr>\n",
       "    <tr>\n",
       "      <th>9</th>\n",
       "      <td>132</td>\n",
       "      <td>1</td>\n",
       "      <td>5947</td>\n",
       "    </tr>\n",
       "  </tbody>\n",
       "</table>\n",
       "</div>"
      ],
      "text/plain": [
       "   Position  Count    ID\n",
       "0       133      1  5947\n",
       "1       135      1  5947\n",
       "2       188      1  5947\n",
       "3       110      1  5947\n",
       "4        83      1  5947\n",
       "5       200      1  5947\n",
       "6        67      1  5947\n",
       "7        70      1  5947\n",
       "8        85      1  5947\n",
       "9       132      1  5947"
      ]
     },
     "execution_count": 6,
     "metadata": {},
     "output_type": "execute_result"
    }
   ],
   "source": [
    "counts = (\n",
    "    df\n",
    "    .loc[df[\"Interaction_Types\"] != \"None\", \"Protein_Position\"]\n",
    "    .value_counts()\n",
    ")\n",
    "# Convert to DataFrame\n",
    "interaction_counts = counts.reset_index()\n",
    "interaction_counts.columns = ['Position', 'Count']\n",
    "interaction_counts[\"ID\"] = 5947\n",
    "interaction_counts.sort_values(by='Count', ascending=False).head(10)"
   ]
  },
  {
   "cell_type": "markdown",
   "id": "ca4a14ee",
   "metadata": {},
   "source": [
    "Notice, none of the residues in the are the ones makign contact netween GSK3B and FRAT1. This is a good indication that the inhibitor is not binding to the same site as FRAT1. Lets go ahead and run the same analysis for all the inhibitors in the [GSK3B_inhibitors.csv](../assets/test-files/GSK3B_inhibitors.csv) file and see if any of them bind to the same site as FRAT1."
   ]
  },
  {
   "cell_type": "code",
   "execution_count": 12,
   "id": "3843d20a",
   "metadata": {},
   "outputs": [
    {
     "name": "stdout",
     "output_type": "stream",
     "text": [
      "Found 1 ligand residue(s): ['LIG']\n",
      "\n",
      "Protein-Ligand Interaction Summary:\n",
      "Total interacting residues: 23\n",
      "Electrostatic interactions: 6\n",
      "Hydrogen bond interactions: 3\n",
      "Hydrophobic interactions: 8\n",
      "Van der Waals contacts: 13\n",
      "Average interaction distance: 4.07 Å\n",
      "Closest interaction: 2.59 Å\n",
      "\n",
      "Top 5 strongest interactions:\n",
      "LYS85 - LIG: 3.15Å (Electrostatic;Hydrogen_Bond;Van_der_Waals)\n",
      "ASP200 - LIG: 3.15Å (Electrostatic;Hydrogen_Bond;Van_der_Waals)\n",
      "ASP133 - LIG: 3.71Å (Electrostatic;Van_der_Waals)\n",
      "VAL135 - LIG: 2.59Å (Hydrophobic;Van_der_Waals)\n",
      "TYR134 - LIG: 3.50Å (Hydrogen_Bond;Van_der_Waals)\n",
      "Found 1 ligand residue(s): ['LIG']\n",
      "\n",
      "Protein-Ligand Interaction Summary:\n",
      "Total interacting residues: 24\n",
      "Electrostatic interactions: 6\n",
      "Hydrogen bond interactions: 3\n",
      "Hydrophobic interactions: 8\n",
      "Van der Waals contacts: 14\n",
      "Average interaction distance: 4.09 Å\n",
      "Closest interaction: 2.69 Å\n",
      "\n",
      "Top 5 strongest interactions:\n",
      "LYS85 - LIG: 3.02Å (Electrostatic;Hydrogen_Bond;Van_der_Waals)\n",
      "ASP200 - LIG: 3.15Å (Electrostatic;Hydrogen_Bond;Van_der_Waals)\n",
      "ARG141 - LIG: 3.46Å (Electrostatic;Hydrogen_Bond;Van_der_Waals)\n",
      "ASP133 - LIG: 3.74Å (Electrostatic;Van_der_Waals)\n",
      "VAL135 - LIG: 2.69Å (Hydrophobic;Van_der_Waals)\n",
      "Found 1 ligand residue(s): ['LIG']\n",
      "\n",
      "Protein-Ligand Interaction Summary:\n",
      "Total interacting residues: 25\n",
      "Electrostatic interactions: 5\n",
      "Hydrogen bond interactions: 3\n",
      "Hydrophobic interactions: 10\n",
      "Van der Waals contacts: 17\n",
      "Average interaction distance: 3.97 Å\n",
      "Closest interaction: 2.49 Å\n",
      "\n",
      "Top 5 strongest interactions:\n",
      "ARG141 - LIG: 3.15Å (Electrostatic;Hydrogen_Bond;Van_der_Waals)\n",
      "CYS199 - LIG: 2.86Å (Hydrogen_Bond;Van_der_Waals)\n",
      "VAL135 - LIG: 2.49Å (Hydrophobic;Van_der_Waals)\n",
      "GLN185 - LIG: 3.07Å (Hydrogen_Bond;Van_der_Waals)\n",
      "ASP133 - LIG: 3.89Å (Electrostatic;Van_der_Waals)\n",
      "Found 1 ligand residue(s): ['LIG']\n",
      "\n",
      "Protein-Ligand Interaction Summary:\n",
      "Total interacting residues: 18\n",
      "Electrostatic interactions: 3\n",
      "Hydrogen bond interactions: 1\n",
      "Hydrophobic interactions: 8\n",
      "Van der Waals contacts: 9\n",
      "Average interaction distance: 4.21 Å\n",
      "Closest interaction: 2.61 Å\n",
      "\n",
      "Top 5 strongest interactions:\n",
      "ASP133 - LIG: 2.61Å (Electrostatic;Hydrogen_Bond;Van_der_Waals)\n",
      "VAL135 - LIG: 3.26Å (Hydrophobic;Van_der_Waals)\n",
      "LEU188 - LIG: 3.40Å (Hydrophobic;Van_der_Waals)\n",
      "VAL110 - LIG: 3.47Å (Hydrophobic;Van_der_Waals)\n",
      "ALA83 - LIG: 3.55Å (Hydrophobic;Van_der_Waals)\n",
      "Found 1 ligand residue(s): ['LIG']\n",
      "\n",
      "Protein-Ligand Interaction Summary:\n",
      "Total interacting residues: 23\n",
      "Electrostatic interactions: 5\n",
      "Hydrogen bond interactions: 1\n",
      "Hydrophobic interactions: 8\n",
      "Van der Waals contacts: 13\n",
      "Average interaction distance: 4.20 Å\n",
      "Closest interaction: 2.73 Å\n",
      "\n",
      "Top 5 strongest interactions:\n",
      "ASP133 - LIG: 3.12Å (Electrostatic;Hydrogen_Bond;Van_der_Waals)\n",
      "ARG141 - LIG: 3.69Å (Electrostatic;Van_der_Waals)\n",
      "GLU137 - LIG: 3.81Å (Electrostatic;Van_der_Waals)\n",
      "VAL135 - LIG: 2.73Å (Hydrophobic;Van_der_Waals)\n",
      "PRO136 - LIG: 3.30Å (Hydrophobic;Van_der_Waals)\n",
      "Error processing CIF file: [Errno 2] No such file or directory: '../datasets/boltz1x/predict4/5974/boltz_results_GSK3B_inhibitor_5974/predictions/GSK3B_inhibitor_5974/GSK3B_inhibitor_5974_model_0.cif'\n",
      "No interactions found for 5974\n",
      "Error processing CIF file: [Errno 2] No such file or directory: '../datasets/boltz1x/predict4/5975/boltz_results_GSK3B_inhibitor_5975/predictions/GSK3B_inhibitor_5975/GSK3B_inhibitor_5975_model_0.cif'\n",
      "No interactions found for 5975\n",
      "Found 1 ligand residue(s): ['LIG']\n",
      "\n",
      "Protein-Ligand Interaction Summary:\n",
      "Total interacting residues: 21\n",
      "Electrostatic interactions: 4\n",
      "Hydrogen bond interactions: 3\n",
      "Hydrophobic interactions: 9\n",
      "Van der Waals contacts: 15\n",
      "Average interaction distance: 3.81 Å\n",
      "Closest interaction: 2.62 Å\n",
      "\n",
      "Top 5 strongest interactions:\n",
      "ARG141 - LIG: 2.62Å (Electrostatic;Hydrogen_Bond;Van_der_Waals)\n",
      "ASP133 - LIG: 2.65Å (Electrostatic;Hydrogen_Bond;Van_der_Waals)\n",
      "VAL135 - LIG: 2.85Å (Hydrophobic;Van_der_Waals)\n",
      "TYR134 - LIG: 3.47Å (Hydrogen_Bond;Van_der_Waals)\n",
      "PRO136 - LIG: 3.20Å (Hydrophobic;Van_der_Waals)\n",
      "Found 1 ligand residue(s): ['LIG']\n",
      "\n",
      "Protein-Ligand Interaction Summary:\n",
      "Total interacting residues: 20\n",
      "Electrostatic interactions: 4\n",
      "Hydrogen bond interactions: 2\n",
      "Hydrophobic interactions: 6\n",
      "Van der Waals contacts: 9\n",
      "Average interaction distance: 4.12 Å\n",
      "Closest interaction: 3.18 Å\n",
      "\n",
      "Top 5 strongest interactions:\n",
      "ASP200 - LIG: 3.18Å (Electrostatic;Hydrogen_Bond;Van_der_Waals)\n",
      "ASP133 - LIG: 3.51Å (Electrostatic;Van_der_Waals)\n",
      "GLN185 - LIG: 3.24Å (Hydrogen_Bond;Van_der_Waals)\n",
      "LYS85 - LIG: 3.97Å (Electrostatic;Van_der_Waals)\n",
      "LEU132 - LIG: 3.32Å (Hydrophobic;Van_der_Waals)\n",
      "Found 1 ligand residue(s): ['LIG']\n",
      "\n",
      "Protein-Ligand Interaction Summary:\n",
      "Total interacting residues: 23\n",
      "Electrostatic interactions: 4\n",
      "Hydrogen bond interactions: 2\n",
      "Hydrophobic interactions: 8\n",
      "Van der Waals contacts: 14\n",
      "Average interaction distance: 4.10 Å\n",
      "Closest interaction: 2.86 Å\n",
      "\n",
      "Top 5 strongest interactions:\n",
      "ASP133 - LIG: 2.86Å (Electrostatic;Hydrogen_Bond;Van_der_Waals)\n",
      "ASP200 - LIG: 3.92Å (Electrostatic;Van_der_Waals)\n",
      "THR138 - LIG: 3.45Å (Hydrogen_Bond;Van_der_Waals)\n",
      "VAL135 - LIG: 3.14Å (Hydrophobic;Van_der_Waals)\n",
      "ALA83 - LIG: 3.47Å (Hydrophobic;Van_der_Waals)\n",
      "Found 1 ligand residue(s): ['LIG']\n",
      "\n",
      "Protein-Ligand Interaction Summary:\n",
      "Total interacting residues: 18\n",
      "Electrostatic interactions: 3\n",
      "Hydrogen bond interactions: 1\n",
      "Hydrophobic interactions: 8\n",
      "Van der Waals contacts: 11\n",
      "Average interaction distance: 3.93 Å\n",
      "Closest interaction: 2.56 Å\n",
      "\n",
      "Top 5 strongest interactions:\n",
      "ASP133 - LIG: 3.20Å (Electrostatic;Hydrogen_Bond;Van_der_Waals)\n",
      "VAL135 - LIG: 2.56Å (Hydrophobic;Van_der_Waals)\n",
      "ILE62 - LIG: 3.13Å (Hydrophobic;Van_der_Waals)\n",
      "LEU132 - LIG: 3.19Å (Hydrophobic;Van_der_Waals)\n",
      "LEU188 - LIG: 3.36Å (Hydrophobic;Van_der_Waals)\n",
      "Found 1 ligand residue(s): ['LIG']\n",
      "\n",
      "Protein-Ligand Interaction Summary:\n",
      "Total interacting residues: 22\n",
      "Electrostatic interactions: 6\n",
      "Hydrogen bond interactions: 4\n",
      "Hydrophobic interactions: 9\n",
      "Van der Waals contacts: 16\n",
      "Average interaction distance: 3.80 Å\n",
      "Closest interaction: 2.54 Å\n",
      "\n",
      "Top 5 strongest interactions:\n",
      "ASP200 - LIG: 2.54Å (Electrostatic;Hydrogen_Bond;Van_der_Waals)\n",
      "ASP133 - LIG: 3.19Å (Electrostatic;Hydrogen_Bond;Van_der_Waals)\n",
      "ARG141 - LIG: 3.25Å (Electrostatic;Hydrogen_Bond;Van_der_Waals)\n",
      "LYS85 - LIG: 3.30Å (Electrostatic;Hydrogen_Bond;Van_der_Waals)\n",
      "GLU97 - LIG: 3.55Å (Electrostatic;Van_der_Waals)\n",
      "Error processing CIF file: [Errno 2] No such file or directory: '../datasets/boltz1x/predict4/5981/boltz_results_GSK3B_inhibitor_5981/predictions/GSK3B_inhibitor_5981/GSK3B_inhibitor_5981_model_0.cif'\n",
      "No interactions found for 5981\n",
      "Found 1 ligand residue(s): ['LIG']\n",
      "\n",
      "Protein-Ligand Interaction Summary:\n",
      "Total interacting residues: 18\n",
      "Electrostatic interactions: 5\n",
      "Hydrogen bond interactions: 3\n",
      "Hydrophobic interactions: 8\n",
      "Van der Waals contacts: 11\n",
      "Average interaction distance: 3.77 Å\n",
      "Closest interaction: 2.69 Å\n",
      "\n",
      "Top 5 strongest interactions:\n",
      "ASP133 - LIG: 2.80Å (Electrostatic;Hydrogen_Bond;Van_der_Waals)\n",
      "ARG141 - LIG: 3.04Å (Electrostatic;Hydrogen_Bond;Van_der_Waals)\n",
      "VAL135 - LIG: 2.69Å (Hydrophobic;Van_der_Waals)\n",
      "TYR134 - LIG: 3.32Å (Hydrogen_Bond;Van_der_Waals)\n",
      "ALA83 - LIG: 3.30Å (Hydrophobic;Van_der_Waals)\n",
      "Found 1 ligand residue(s): ['LIG']\n",
      "\n",
      "Protein-Ligand Interaction Summary:\n",
      "Total interacting residues: 21\n",
      "Electrostatic interactions: 3\n",
      "Hydrogen bond interactions: 1\n",
      "Hydrophobic interactions: 9\n",
      "Van der Waals contacts: 11\n",
      "Average interaction distance: 4.16 Å\n",
      "Closest interaction: 2.98 Å\n",
      "\n",
      "Top 5 strongest interactions:\n",
      "ASP133 - LIG: 2.98Å (Electrostatic;Hydrogen_Bond;Van_der_Waals)\n",
      "ASP200 - LIG: 3.80Å (Electrostatic;Van_der_Waals)\n",
      "LEU132 - LIG: 3.00Å (Hydrophobic;Van_der_Waals)\n",
      "VAL135 - LIG: 3.14Å (Hydrophobic;Van_der_Waals)\n",
      "LEU188 - LIG: 3.35Å (Hydrophobic;Van_der_Waals)\n",
      "Found 1 ligand residue(s): ['LIG']\n",
      "\n",
      "Protein-Ligand Interaction Summary:\n",
      "Total interacting residues: 22\n",
      "Electrostatic interactions: 6\n",
      "Hydrogen bond interactions: 1\n",
      "Hydrophobic interactions: 8\n",
      "Van der Waals contacts: 12\n",
      "Average interaction distance: 4.09 Å\n",
      "Closest interaction: 2.59 Å\n",
      "\n",
      "Top 5 strongest interactions:\n",
      "LYS85 - LIG: 3.49Å (Electrostatic;Hydrogen_Bond;Van_der_Waals)\n",
      "ASP200 - LIG: 3.63Å (Electrostatic;Van_der_Waals)\n",
      "ASP133 - LIG: 3.82Å (Electrostatic;Van_der_Waals)\n",
      "VAL135 - LIG: 2.59Å (Hydrophobic;Van_der_Waals)\n",
      "PRO136 - LIG: 3.50Å (Hydrophobic;Van_der_Waals)\n",
      "Found 1 ligand residue(s): ['LIG']\n",
      "\n",
      "Protein-Ligand Interaction Summary:\n",
      "Total interacting residues: 24\n",
      "Electrostatic interactions: 6\n",
      "Hydrogen bond interactions: 6\n",
      "Hydrophobic interactions: 8\n",
      "Van der Waals contacts: 13\n",
      "Average interaction distance: 4.01 Å\n",
      "Closest interaction: 2.68 Å\n",
      "\n",
      "Top 5 strongest interactions:\n",
      "ARG141 - LIG: 2.68Å (Electrostatic;Hydrogen_Bond;Van_der_Waals)\n",
      "LYS85 - LIG: 3.22Å (Electrostatic;Hydrogen_Bond;Van_der_Waals)\n",
      "ASP200 - LIG: 3.39Å (Electrostatic;Hydrogen_Bond;Van_der_Waals)\n",
      "ASP133 - LIG: 3.50Å (Electrostatic;Hydrogen_Bond;Van_der_Waals)\n",
      "THR138 - LIG: 3.21Å (Hydrogen_Bond;Van_der_Waals)\n",
      "Found 1 ligand residue(s): ['LIG']\n",
      "\n",
      "Protein-Ligand Interaction Summary:\n",
      "Total interacting residues: 30\n",
      "Electrostatic interactions: 7\n",
      "Hydrogen bond interactions: 4\n",
      "Hydrophobic interactions: 10\n",
      "Van der Waals contacts: 16\n",
      "Average interaction distance: 4.10 Å\n",
      "Closest interaction: 2.77 Å\n",
      "\n",
      "Top 5 strongest interactions:\n",
      "ASP200 - LIG: 2.98Å (Electrostatic;Hydrogen_Bond;Van_der_Waals)\n",
      "ASP133 - LIG: 3.09Å (Electrostatic;Hydrogen_Bond;Van_der_Waals)\n",
      "LYS85 - LIG: 3.19Å (Electrostatic;Hydrogen_Bond;Van_der_Waals)\n",
      "ARG141 - LIG: 3.68Å (Electrostatic;Van_der_Waals)\n",
      "VAL135 - LIG: 2.77Å (Hydrophobic;Van_der_Waals)\n",
      "Found 1 ligand residue(s): ['LIG']\n",
      "\n",
      "Protein-Ligand Interaction Summary:\n",
      "Total interacting residues: 26\n",
      "Electrostatic interactions: 5\n",
      "Hydrogen bond interactions: 3\n",
      "Hydrophobic interactions: 8\n",
      "Van der Waals contacts: 12\n",
      "Average interaction distance: 4.27 Å\n",
      "Closest interaction: 2.80 Å\n",
      "\n",
      "Top 5 strongest interactions:\n",
      "ASP133 - LIG: 2.80Å (Electrostatic;Hydrogen_Bond;Van_der_Waals)\n",
      "ASP200 - LIG: 3.33Å (Electrostatic;Hydrogen_Bond;Van_der_Waals)\n",
      "LYS85 - LIG: 3.58Å (Electrostatic;Van_der_Waals)\n",
      "TYR134 - LIG: 3.31Å (Hydrogen_Bond;Van_der_Waals)\n",
      "LEU188 - LIG: 2.82Å (Hydrophobic;Van_der_Waals)\n",
      "Found 1 ligand residue(s): ['LIG']\n",
      "\n",
      "Protein-Ligand Interaction Summary:\n",
      "Total interacting residues: 28\n",
      "Electrostatic interactions: 7\n",
      "Hydrogen bond interactions: 6\n",
      "Hydrophobic interactions: 9\n",
      "Van der Waals contacts: 18\n",
      "Average interaction distance: 3.88 Å\n",
      "Closest interaction: 2.58 Å\n",
      "\n",
      "Top 5 strongest interactions:\n",
      "ASP133 - LIG: 2.75Å (Electrostatic;Hydrogen_Bond;Van_der_Waals)\n",
      "ASP200 - LIG: 3.29Å (Electrostatic;Hydrogen_Bond;Van_der_Waals)\n",
      "LYS85 - LIG: 3.39Å (Electrostatic;Hydrogen_Bond;Van_der_Waals)\n",
      "GLN185 - LIG: 2.58Å (Hydrogen_Bond;Van_der_Waals)\n",
      "ARG141 - LIG: 3.51Å (Electrostatic;Van_der_Waals)\n",
      "Found 1 ligand residue(s): ['LIG']\n",
      "\n",
      "Protein-Ligand Interaction Summary:\n",
      "Total interacting residues: 23\n",
      "Electrostatic interactions: 5\n",
      "Hydrogen bond interactions: 5\n",
      "Hydrophobic interactions: 9\n",
      "Van der Waals contacts: 19\n",
      "Average interaction distance: 3.76 Å\n",
      "Closest interaction: 2.74 Å\n",
      "\n",
      "Top 5 strongest interactions:\n",
      "ASP133 - LIG: 2.77Å (Electrostatic;Hydrogen_Bond;Van_der_Waals)\n",
      "ASP200 - LIG: 3.79Å (Electrostatic;Van_der_Waals)\n",
      "ARG141 - LIG: 3.79Å (Electrostatic;Van_der_Waals)\n",
      "LYS85 - LIG: 3.82Å (Electrostatic;Van_der_Waals)\n",
      "VAL135 - LIG: 2.74Å (Hydrophobic;Van_der_Waals)\n",
      "Found 1 ligand residue(s): ['LIG']\n",
      "\n",
      "Protein-Ligand Interaction Summary:\n",
      "Total interacting residues: 26\n",
      "Electrostatic interactions: 5\n",
      "Hydrogen bond interactions: 5\n",
      "Hydrophobic interactions: 9\n",
      "Van der Waals contacts: 17\n",
      "Average interaction distance: 3.83 Å\n",
      "Closest interaction: 2.57 Å\n",
      "\n",
      "Top 5 strongest interactions:\n",
      "ARG141 - LIG: 2.70Å (Electrostatic;Hydrogen_Bond;Van_der_Waals)\n",
      "ASP133 - LIG: 3.27Å (Electrostatic;Hydrogen_Bond;Van_der_Waals)\n",
      "TYR134 - LIG: 2.66Å (Hydrogen_Bond;Van_der_Waals)\n",
      "LYS85 - LIG: 3.51Å (Electrostatic;Van_der_Waals)\n",
      "ASP200 - LIG: 3.59Å (Electrostatic;Van_der_Waals)\n",
      "Found 1 ligand residue(s): ['LIG']\n",
      "\n",
      "Protein-Ligand Interaction Summary:\n",
      "Total interacting residues: 22\n",
      "Electrostatic interactions: 6\n",
      "Hydrogen bond interactions: 4\n",
      "Hydrophobic interactions: 9\n",
      "Van der Waals contacts: 16\n",
      "Average interaction distance: 3.76 Å\n",
      "Closest interaction: 2.48 Å\n",
      "\n",
      "Top 5 strongest interactions:\n",
      "ASP133 - LIG: 3.18Å (Electrostatic;Hydrogen_Bond;Van_der_Waals)\n",
      "ASP200 - LIG: 3.26Å (Electrostatic;Hydrogen_Bond;Van_der_Waals)\n",
      "TYR134 - LIG: 2.77Å (Hydrogen_Bond;Van_der_Waals)\n",
      "ARG141 - LIG: 3.65Å (Electrostatic;Van_der_Waals)\n",
      "VAL135 - LIG: 2.48Å (Hydrophobic;Van_der_Waals)\n",
      "Found 1 ligand residue(s): ['LIG']\n",
      "\n",
      "Protein-Ligand Interaction Summary:\n",
      "Total interacting residues: 23\n",
      "Electrostatic interactions: 5\n",
      "Hydrogen bond interactions: 4\n",
      "Hydrophobic interactions: 9\n",
      "Van der Waals contacts: 18\n",
      "Average interaction distance: 3.83 Å\n",
      "Closest interaction: 2.62 Å\n",
      "\n",
      "Top 5 strongest interactions:\n",
      "ASP133 - LIG: 3.24Å (Electrostatic;Hydrogen_Bond;Van_der_Waals)\n",
      "ASP200 - LIG: 3.36Å (Electrostatic;Hydrogen_Bond;Van_der_Waals)\n",
      "ARG141 - LIG: 3.80Å (Electrostatic;Van_der_Waals)\n",
      "VAL135 - LIG: 2.62Å (Hydrophobic;Van_der_Waals)\n",
      "GLN185 - LIG: 3.38Å (Hydrogen_Bond;Van_der_Waals)\n",
      "Found 1 ligand residue(s): ['LIG']\n",
      "\n",
      "Protein-Ligand Interaction Summary:\n",
      "Total interacting residues: 23\n",
      "Electrostatic interactions: 4\n",
      "Hydrogen bond interactions: 4\n",
      "Hydrophobic interactions: 9\n",
      "Van der Waals contacts: 14\n",
      "Average interaction distance: 3.97 Å\n",
      "Closest interaction: 2.68 Å\n",
      "\n",
      "Top 5 strongest interactions:\n",
      "ASP133 - LIG: 2.70Å (Electrostatic;Hydrogen_Bond;Van_der_Waals)\n",
      "ASP200 - LIG: 3.22Å (Electrostatic;Hydrogen_Bond;Van_der_Waals)\n",
      "LYS85 - LIG: 3.76Å (Electrostatic;Van_der_Waals)\n",
      "VAL135 - LIG: 2.68Å (Hydrophobic;Van_der_Waals)\n",
      "TYR134 - LIG: 3.24Å (Hydrogen_Bond;Van_der_Waals)\n",
      "Found 1 ligand residue(s): ['LIG']\n",
      "\n",
      "Protein-Ligand Interaction Summary:\n",
      "Total interacting residues: 21\n",
      "Electrostatic interactions: 5\n",
      "Hydrogen bond interactions: 5\n",
      "Hydrophobic interactions: 9\n",
      "Van der Waals contacts: 18\n",
      "Average interaction distance: 3.56 Å\n",
      "Closest interaction: 2.51 Å\n",
      "\n",
      "Top 5 strongest interactions:\n",
      "ASP133 - LIG: 2.57Å (Electrostatic;Hydrogen_Bond;Van_der_Waals)\n",
      "ASP200 - LIG: 3.30Å (Electrostatic;Hydrogen_Bond;Van_der_Waals)\n",
      "ARG141 - LIG: 3.47Å (Electrostatic;Hydrogen_Bond;Van_der_Waals)\n",
      "VAL135 - LIG: 2.51Å (Hydrophobic;Van_der_Waals)\n",
      "GLN185 - LIG: 3.38Å (Hydrogen_Bond;Van_der_Waals)\n",
      "Found 1 ligand residue(s): ['LIG']\n",
      "\n",
      "Protein-Ligand Interaction Summary:\n",
      "Total interacting residues: 22\n",
      "Electrostatic interactions: 3\n",
      "Hydrogen bond interactions: 4\n",
      "Hydrophobic interactions: 8\n",
      "Van der Waals contacts: 11\n",
      "Average interaction distance: 3.97 Å\n",
      "Closest interaction: 2.84 Å\n",
      "\n",
      "Top 5 strongest interactions:\n",
      "ARG141 - LIG: 3.46Å (Electrostatic;Hydrogen_Bond;Van_der_Waals)\n",
      "ASP133 - LIG: 3.53Å (Electrostatic;Van_der_Waals)\n",
      "CYS199 - LIG: 2.97Å (Hydrogen_Bond;Van_der_Waals)\n",
      "GLN185 - LIG: 3.16Å (Hydrogen_Bond;Van_der_Waals)\n",
      "ILE62 - LIG: 2.84Å (Hydrophobic;Van_der_Waals)\n",
      "Found 1 ligand residue(s): ['LIG']\n",
      "\n",
      "Protein-Ligand Interaction Summary:\n",
      "Total interacting residues: 20\n",
      "Electrostatic interactions: 3\n",
      "Hydrogen bond interactions: 2\n",
      "Hydrophobic interactions: 8\n",
      "Van der Waals contacts: 10\n",
      "Average interaction distance: 4.17 Å\n",
      "Closest interaction: 2.84 Å\n",
      "\n",
      "Top 5 strongest interactions:\n",
      "ASP133 - LIG: 2.84Å (Electrostatic;Hydrogen_Bond;Van_der_Waals)\n",
      "ARG141 - LIG: 3.33Å (Electrostatic;Hydrogen_Bond;Van_der_Waals)\n",
      "VAL135 - LIG: 2.86Å (Hydrophobic;Van_der_Waals)\n",
      "LEU188 - LIG: 3.32Å (Hydrophobic;Van_der_Waals)\n",
      "PRO136 - LIG: 3.42Å (Hydrophobic;Van_der_Waals)\n",
      "Found 1 ligand residue(s): ['LIG']\n",
      "\n",
      "Protein-Ligand Interaction Summary:\n",
      "Total interacting residues: 23\n",
      "Electrostatic interactions: 5\n",
      "Hydrogen bond interactions: 4\n",
      "Hydrophobic interactions: 9\n",
      "Van der Waals contacts: 15\n",
      "Average interaction distance: 3.92 Å\n",
      "Closest interaction: 2.66 Å\n",
      "\n",
      "Top 5 strongest interactions:\n",
      "ASP133 - LIG: 2.98Å (Electrostatic;Hydrogen_Bond;Van_der_Waals)\n",
      "LYS85 - LIG: 3.80Å (Electrostatic;Van_der_Waals)\n",
      "LEU188 - LIG: 2.66Å (Hydrophobic;Van_der_Waals)\n",
      "TYR134 - LIG: 3.23Å (Hydrogen_Bond;Van_der_Waals)\n",
      "GLN185 - LIG: 3.29Å (Hydrogen_Bond;Van_der_Waals)\n",
      "Found 1 ligand residue(s): ['LIG']\n",
      "\n",
      "Protein-Ligand Interaction Summary:\n",
      "Total interacting residues: 24\n",
      "Electrostatic interactions: 4\n",
      "Hydrogen bond interactions: 3\n",
      "Hydrophobic interactions: 8\n",
      "Van der Waals contacts: 12\n",
      "Average interaction distance: 4.12 Å\n",
      "Closest interaction: 2.53 Å\n",
      "\n",
      "Top 5 strongest interactions:\n",
      "ASP133 - LIG: 2.93Å (Electrostatic;Hydrogen_Bond;Van_der_Waals)\n",
      "LYS85 - LIG: 3.07Å (Electrostatic;Hydrogen_Bond;Van_der_Waals)\n",
      "ASP200 - LIG: 3.13Å (Electrostatic;Hydrogen_Bond;Van_der_Waals)\n",
      "VAL135 - LIG: 2.53Å (Hydrophobic;Van_der_Waals)\n",
      "VAL70 - LIG: 3.29Å (Hydrophobic;Van_der_Waals)\n",
      "Found 1 ligand residue(s): ['LIG']\n",
      "\n",
      "Protein-Ligand Interaction Summary:\n",
      "Total interacting residues: 24\n",
      "Electrostatic interactions: 6\n",
      "Hydrogen bond interactions: 3\n",
      "Hydrophobic interactions: 8\n",
      "Van der Waals contacts: 14\n",
      "Average interaction distance: 4.14 Å\n",
      "Closest interaction: 2.81 Å\n",
      "\n",
      "Top 5 strongest interactions:\n",
      "LYS85 - LIG: 3.01Å (Electrostatic;Hydrogen_Bond;Van_der_Waals)\n",
      "ASP200 - LIG: 3.14Å (Electrostatic;Hydrogen_Bond;Van_der_Waals)\n",
      "ASP133 - LIG: 3.54Å (Electrostatic;Van_der_Waals)\n",
      "ARG141 - LIG: 3.60Å (Electrostatic;Van_der_Waals)\n",
      "VAL135 - LIG: 2.81Å (Hydrophobic;Van_der_Waals)\n",
      "Found 1 ligand residue(s): ['LIG']\n",
      "\n",
      "Protein-Ligand Interaction Summary:\n",
      "Total interacting residues: 21\n",
      "Electrostatic interactions: 4\n",
      "Hydrogen bond interactions: 1\n",
      "Hydrophobic interactions: 9\n",
      "Van der Waals contacts: 16\n",
      "Average interaction distance: 3.76 Å\n",
      "Closest interaction: 2.51 Å\n",
      "\n",
      "Top 5 strongest interactions:\n",
      "ASP133 - LIG: 2.99Å (Electrostatic;Hydrogen_Bond;Van_der_Waals)\n",
      "ARG141 - LIG: 3.66Å (Electrostatic;Van_der_Waals)\n",
      "ILE62 - LIG: 2.51Å (Hydrophobic;Van_der_Waals)\n",
      "GLU137 - LIG: 3.85Å (Electrostatic;Van_der_Waals)\n",
      "VAL135 - LIG: 2.91Å (Hydrophobic;Van_der_Waals)\n",
      "Found 1 ligand residue(s): ['LIG']\n",
      "\n",
      "Protein-Ligand Interaction Summary:\n",
      "Total interacting residues: 25\n",
      "Electrostatic interactions: 7\n",
      "Hydrogen bond interactions: 4\n",
      "Hydrophobic interactions: 9\n",
      "Van der Waals contacts: 15\n",
      "Average interaction distance: 4.09 Å\n",
      "Closest interaction: 2.52 Å\n",
      "\n",
      "Top 5 strongest interactions:\n",
      "ARG141 - LIG: 2.52Å (Electrostatic;Hydrogen_Bond;Van_der_Waals)\n",
      "ASP133 - LIG: 2.81Å (Electrostatic;Hydrogen_Bond;Van_der_Waals)\n",
      "ASP200 - LIG: 3.24Å (Electrostatic;Hydrogen_Bond;Van_der_Waals)\n",
      "LYS85 - LIG: 3.39Å (Electrostatic;Hydrogen_Bond;Van_der_Waals)\n",
      "VAL135 - LIG: 2.86Å (Hydrophobic;Van_der_Waals)\n",
      "Found 1 ligand residue(s): ['LIG']\n",
      "\n",
      "Protein-Ligand Interaction Summary:\n",
      "Total interacting residues: 22\n",
      "Electrostatic interactions: 4\n",
      "Hydrogen bond interactions: 4\n",
      "Hydrophobic interactions: 8\n",
      "Van der Waals contacts: 13\n",
      "Average interaction distance: 4.06 Å\n",
      "Closest interaction: 3.04 Å\n",
      "\n",
      "Top 5 strongest interactions:\n",
      "ASP200 - LIG: 3.14Å (Electrostatic;Hydrogen_Bond;Van_der_Waals)\n",
      "ASP133 - LIG: 3.34Å (Electrostatic;Hydrogen_Bond;Van_der_Waals)\n",
      "GLN185 - LIG: 3.04Å (Hydrogen_Bond;Van_der_Waals)\n",
      "LYS85 - LIG: 3.91Å (Electrostatic;Van_der_Waals)\n",
      "CYS199 - LIG: 3.42Å (Hydrogen_Bond;Van_der_Waals)\n",
      "Found 1 ligand residue(s): ['LIG']\n",
      "\n",
      "Protein-Ligand Interaction Summary:\n",
      "Total interacting residues: 28\n",
      "Electrostatic interactions: 6\n",
      "Hydrogen bond interactions: 4\n",
      "Hydrophobic interactions: 9\n",
      "Van der Waals contacts: 19\n",
      "Average interaction distance: 3.85 Å\n",
      "Closest interaction: 2.51 Å\n",
      "\n",
      "Top 5 strongest interactions:\n",
      "LYS85 - LIG: 2.83Å (Electrostatic;Hydrogen_Bond;Van_der_Waals)\n",
      "ASP200 - LIG: 2.94Å (Electrostatic;Hydrogen_Bond;Van_der_Waals)\n",
      "ARG141 - LIG: 2.95Å (Electrostatic;Hydrogen_Bond;Van_der_Waals)\n",
      "ASP133 - LIG: 3.18Å (Electrostatic;Hydrogen_Bond;Van_der_Waals)\n",
      "GLU137 - LIG: 3.76Å (Electrostatic;Van_der_Waals)\n",
      "Found 1 ligand residue(s): ['LIG']\n",
      "\n",
      "Protein-Ligand Interaction Summary:\n",
      "Total interacting residues: 24\n",
      "Electrostatic interactions: 6\n",
      "Hydrogen bond interactions: 4\n",
      "Hydrophobic interactions: 9\n",
      "Van der Waals contacts: 14\n",
      "Average interaction distance: 4.01 Å\n",
      "Closest interaction: 2.59 Å\n",
      "\n",
      "Top 5 strongest interactions:\n",
      "ASP200 - LIG: 3.08Å (Electrostatic;Hydrogen_Bond;Van_der_Waals)\n",
      "LYS85 - LIG: 3.12Å (Electrostatic;Hydrogen_Bond;Van_der_Waals)\n",
      "ARG141 - LIG: 3.16Å (Electrostatic;Hydrogen_Bond;Van_der_Waals)\n",
      "ASP133 - LIG: 3.20Å (Electrostatic;Hydrogen_Bond;Van_der_Waals)\n",
      "GLU137 - LIG: 3.77Å (Electrostatic;Van_der_Waals)\n",
      "Found 1 ligand residue(s): ['LIG']\n",
      "\n",
      "Protein-Ligand Interaction Summary:\n",
      "Total interacting residues: 26\n",
      "Electrostatic interactions: 5\n",
      "Hydrogen bond interactions: 7\n",
      "Hydrophobic interactions: 9\n",
      "Van der Waals contacts: 18\n",
      "Average interaction distance: 3.96 Å\n",
      "Closest interaction: 2.61 Å\n",
      "\n",
      "Top 5 strongest interactions:\n",
      "ARG141 - LIG: 2.61Å (Electrostatic;Hydrogen_Bond;Van_der_Waals)\n",
      "ASP133 - LIG: 2.70Å (Electrostatic;Hydrogen_Bond;Van_der_Waals)\n",
      "ASP200 - LIG: 3.11Å (Electrostatic;Hydrogen_Bond;Van_der_Waals)\n",
      "ASN186 - LIG: 2.73Å (Hydrogen_Bond;Van_der_Waals)\n",
      "GLN185 - LIG: 3.05Å (Hydrogen_Bond;Van_der_Waals)\n",
      "Found 1 ligand residue(s): ['LIG']\n",
      "\n",
      "Protein-Ligand Interaction Summary:\n",
      "Total interacting residues: 21\n",
      "Electrostatic interactions: 4\n",
      "Hydrogen bond interactions: 3\n",
      "Hydrophobic interactions: 9\n",
      "Van der Waals contacts: 15\n",
      "Average interaction distance: 3.76 Å\n",
      "Closest interaction: 2.96 Å\n",
      "\n",
      "Top 5 strongest interactions:\n",
      "ASP133 - LIG: 2.96Å (Electrostatic;Hydrogen_Bond;Van_der_Waals)\n",
      "ASP200 - LIG: 3.21Å (Electrostatic;Hydrogen_Bond;Van_der_Waals)\n",
      "ARG141 - LIG: 3.54Å (Electrostatic;Van_der_Waals)\n",
      "ASN186 - LIG: 3.12Å (Hydrogen_Bond;Van_der_Waals)\n",
      "VAL135 - LIG: 3.00Å (Hydrophobic;Van_der_Waals)\n",
      "Found 1 ligand residue(s): ['LIG']\n",
      "\n",
      "Protein-Ligand Interaction Summary:\n",
      "Total interacting residues: 25\n",
      "Electrostatic interactions: 6\n",
      "Hydrogen bond interactions: 6\n",
      "Hydrophobic interactions: 9\n",
      "Van der Waals contacts: 20\n",
      "Average interaction distance: 3.71 Å\n",
      "Closest interaction: 2.39 Å\n",
      "\n",
      "Top 5 strongest interactions:\n",
      "ASP133 - LIG: 2.83Å (Electrostatic;Hydrogen_Bond;Van_der_Waals)\n",
      "ARG141 - LIG: 3.05Å (Electrostatic;Hydrogen_Bond;Van_der_Waals)\n",
      "ASP200 - LIG: 3.18Å (Electrostatic;Hydrogen_Bond;Van_der_Waals)\n",
      "LYS85 - LIG: 3.33Å (Electrostatic;Hydrogen_Bond;Van_der_Waals)\n",
      "GLU137 - LIG: 3.42Å (Electrostatic;Hydrogen_Bond;Van_der_Waals)\n",
      "Found 1 ligand residue(s): ['LIG']\n",
      "\n",
      "Protein-Ligand Interaction Summary:\n",
      "Total interacting residues: 22\n",
      "Electrostatic interactions: 5\n",
      "Hydrogen bond interactions: 4\n",
      "Hydrophobic interactions: 9\n",
      "Van der Waals contacts: 18\n",
      "Average interaction distance: 3.69 Å\n",
      "Closest interaction: 2.72 Å\n",
      "\n",
      "Top 5 strongest interactions:\n",
      "ASP133 - LIG: 2.73Å (Electrostatic;Hydrogen_Bond;Van_der_Waals)\n",
      "ASP200 - LIG: 2.98Å (Electrostatic;Hydrogen_Bond;Van_der_Waals)\n",
      "LYS85 - LIG: 3.69Å (Electrostatic;Van_der_Waals)\n",
      "VAL135 - LIG: 2.72Å (Hydrophobic;Van_der_Waals)\n",
      "TYR134 - LIG: 3.29Å (Hydrogen_Bond;Van_der_Waals)\n",
      "Found 1 ligand residue(s): ['LIG']\n",
      "\n",
      "Protein-Ligand Interaction Summary:\n",
      "Total interacting residues: 23\n",
      "Electrostatic interactions: 4\n",
      "Hydrogen bond interactions: 4\n",
      "Hydrophobic interactions: 9\n",
      "Van der Waals contacts: 18\n",
      "Average interaction distance: 3.72 Å\n",
      "Closest interaction: 2.49 Å\n",
      "\n",
      "Top 5 strongest interactions:\n",
      "ASP133 - LIG: 2.71Å (Electrostatic;Hydrogen_Bond;Van_der_Waals)\n",
      "GLN185 - LIG: 2.49Å (Hydrogen_Bond;Van_der_Waals)\n",
      "ASP200 - LIG: 3.61Å (Electrostatic;Van_der_Waals)\n",
      "LYS85 - LIG: 3.64Å (Electrostatic;Van_der_Waals)\n",
      "VAL135 - LIG: 2.70Å (Hydrophobic;Van_der_Waals)\n",
      "Found 1 ligand residue(s): ['LIG']\n",
      "\n",
      "Protein-Ligand Interaction Summary:\n",
      "Total interacting residues: 21\n",
      "Electrostatic interactions: 5\n",
      "Hydrogen bond interactions: 3\n",
      "Hydrophobic interactions: 9\n",
      "Van der Waals contacts: 12\n",
      "Average interaction distance: 3.91 Å\n",
      "Closest interaction: 2.58 Å\n",
      "\n",
      "Top 5 strongest interactions:\n",
      "ARG141 - LIG: 2.58Å (Electrostatic;Hydrogen_Bond;Van_der_Waals)\n",
      "ASP133 - LIG: 3.08Å (Electrostatic;Hydrogen_Bond;Van_der_Waals)\n",
      "ASP200 - LIG: 3.33Å (Electrostatic;Hydrogen_Bond;Van_der_Waals)\n",
      "LEU188 - LIG: 3.17Å (Hydrophobic;Van_der_Waals)\n",
      "ILE62 - LIG: 3.23Å (Hydrophobic;Van_der_Waals)\n",
      "Found 1 ligand residue(s): ['LIG']\n",
      "\n",
      "Protein-Ligand Interaction Summary:\n",
      "Total interacting residues: 24\n",
      "Electrostatic interactions: 3\n",
      "Hydrogen bond interactions: 3\n",
      "Hydrophobic interactions: 9\n",
      "Van der Waals contacts: 16\n",
      "Average interaction distance: 3.96 Å\n",
      "Closest interaction: 2.62 Å\n",
      "\n",
      "Top 5 strongest interactions:\n",
      "ASP133 - LIG: 2.62Å (Electrostatic;Hydrogen_Bond;Van_der_Waals)\n",
      "ASP200 - LIG: 3.63Å (Electrostatic;Van_der_Waals)\n",
      "CYS199 - LIG: 2.94Å (Hydrogen_Bond;Van_der_Waals)\n",
      "PHE67 - LIG: 2.86Å (Hydrophobic;Van_der_Waals)\n",
      "GLN185 - LIG: 3.39Å (Hydrogen_Bond;Van_der_Waals)\n"
     ]
    },
    {
     "data": {
      "text/html": [
       "<div>\n",
       "<style scoped>\n",
       "    .dataframe tbody tr th:only-of-type {\n",
       "        vertical-align: middle;\n",
       "    }\n",
       "\n",
       "    .dataframe tbody tr th {\n",
       "        vertical-align: top;\n",
       "    }\n",
       "\n",
       "    .dataframe thead th {\n",
       "        text-align: right;\n",
       "    }\n",
       "</style>\n",
       "<table border=\"1\" class=\"dataframe\">\n",
       "  <thead>\n",
       "    <tr style=\"text-align: right;\">\n",
       "      <th></th>\n",
       "      <th>Position</th>\n",
       "      <th>Count</th>\n",
       "      <th>ID</th>\n",
       "    </tr>\n",
       "  </thead>\n",
       "  <tbody>\n",
       "    <tr>\n",
       "      <th>0</th>\n",
       "      <td>85</td>\n",
       "      <td>1</td>\n",
       "      <td>5925</td>\n",
       "    </tr>\n",
       "    <tr>\n",
       "      <th>1</th>\n",
       "      <td>200</td>\n",
       "      <td>1</td>\n",
       "      <td>5925</td>\n",
       "    </tr>\n",
       "    <tr>\n",
       "      <th>2</th>\n",
       "      <td>133</td>\n",
       "      <td>1</td>\n",
       "      <td>5925</td>\n",
       "    </tr>\n",
       "    <tr>\n",
       "      <th>3</th>\n",
       "      <td>135</td>\n",
       "      <td>1</td>\n",
       "      <td>5925</td>\n",
       "    </tr>\n",
       "    <tr>\n",
       "      <th>4</th>\n",
       "      <td>134</td>\n",
       "      <td>1</td>\n",
       "      <td>5925</td>\n",
       "    </tr>\n",
       "    <tr>\n",
       "      <th>5</th>\n",
       "      <td>132</td>\n",
       "      <td>1</td>\n",
       "      <td>5925</td>\n",
       "    </tr>\n",
       "    <tr>\n",
       "      <th>6</th>\n",
       "      <td>136</td>\n",
       "      <td>1</td>\n",
       "      <td>5925</td>\n",
       "    </tr>\n",
       "    <tr>\n",
       "      <th>7</th>\n",
       "      <td>188</td>\n",
       "      <td>1</td>\n",
       "      <td>5925</td>\n",
       "    </tr>\n",
       "    <tr>\n",
       "      <th>8</th>\n",
       "      <td>141</td>\n",
       "      <td>1</td>\n",
       "      <td>5925</td>\n",
       "    </tr>\n",
       "    <tr>\n",
       "      <th>9</th>\n",
       "      <td>137</td>\n",
       "      <td>1</td>\n",
       "      <td>5925</td>\n",
       "    </tr>\n",
       "  </tbody>\n",
       "</table>\n",
       "</div>"
      ],
      "text/plain": [
       "   Position  Count    ID\n",
       "0        85      1  5925\n",
       "1       200      1  5925\n",
       "2       133      1  5925\n",
       "3       135      1  5925\n",
       "4       134      1  5925\n",
       "5       132      1  5925\n",
       "6       136      1  5925\n",
       "7       188      1  5925\n",
       "8       141      1  5925\n",
       "9       137      1  5925"
      ]
     },
     "execution_count": 12,
     "metadata": {},
     "output_type": "execute_result"
    }
   ],
   "source": [
    "import pandas as pd\n",
    "import sys\n",
    "sys.path.append(\"/workspace\")\n",
    "from utils.protein_analysis import analyze_protein_ligand_interactions\n",
    "\n",
    "# Analyze interactions for all ligands in GSK3B_inhibitor.csv\n",
    "gsk3b_inhibitor_df = pd.read_csv(\"/workspace/assets/test-files/GSK3B_inhibitor.csv\")\n",
    "interaction_df = []\n",
    "for _, row in gsk3b_inhibitor_df.dropna(subset=[\"ligand_pubchem_cid\"]).iterrows():\n",
    "    # '../assets/test-files/boltz/GSK3B_inhibitor_5947_model_0.cif', ligand_name='LIG'\n",
    "    df = analyze_protein_ligand_interactions(f'../datasets/boltz1x/predict4/{row[\"ligand\"]}/boltz_results_GSK3B_inhibitor_{row[\"ligand\"]}/predictions/GSK3B_inhibitor_{row[\"ligand\"]}/GSK3B_inhibitor_{row[\"ligand\"]}_model_0.cif', ligand_name=\"LIG\")\n",
    "    if df is None or df.empty:\n",
    "        print(f\"No interactions found for {row['ligand']}\")\n",
    "        continue\n",
    "    counts = (\n",
    "        df\n",
    "        .loc[df[\"Interaction_Types\"] != \"None\", \"Protein_Position\"]\n",
    "        .value_counts()\n",
    "    )\n",
    "    # Convert to DataFrame\n",
    "    interaction_counts = counts.reset_index()\n",
    "    interaction_counts.columns = ['Position', 'Count']\n",
    "    interaction_counts[\"ID\"] = row[\"ligand\"]\n",
    "    interaction_df.append(interaction_counts)\n",
    "\n",
    "# Concatenate all DataFrames in interaction_df\n",
    "interaction_df = pd.concat(interaction_df, ignore_index=True)\n",
    "# Save to CSV\n",
    "interaction_df.to_csv('/workspace/assets/test-files/boltz/GSK3B_inhibitor_interactions.csv', index=False)\n",
    "# Display the top 10 interactions\n",
    "interaction_df.head(10)"
   ]
  },
  {
   "cell_type": "markdown",
   "id": "4f2e3897",
   "metadata": {},
   "source": [
    "Let see if any of the inhibitors bind to the same site as FRAT1. We will use the dataframe we just created analyzing all the inhibitors interactions."
   ]
  },
  {
   "cell_type": "code",
   "execution_count": 13,
   "id": "6ea54490",
   "metadata": {},
   "outputs": [
    {
     "data": {
      "text/plain": [
       "[]"
      ]
     },
     "execution_count": 13,
     "metadata": {},
     "output_type": "execute_result"
    }
   ],
   "source": [
    "gsk3b_frat_sites = [263,270,297,296,228,229,295,264,266,267,294,292]\n",
    "[row[\"ID\"] for i, row in interaction_df.iterrows() if row[\"Position\"] in gsk3b_frat_sites]"
   ]
  },
  {
   "cell_type": "markdown",
   "id": "02826a96",
   "metadata": {},
   "source": [
    "It looks like none of the inhibitors bind to the same site as FRAT1. This is a good indication that the inhibitors are not binding to the same site as FRAT1. However, that means that if we wanted to design a new inhibitor that binds to the same site as FRAT1, we would need to use a different approach.\n",
    "\n",
    "Let quickly look at where the inhbitors are binding to GSK3B. Below is the residue sites where the inhibitors are binding to GSK3B. Then we will also use a UMAP to see if we can categorize the inhibitors based on their binding sites."
   ]
  },
  {
   "cell_type": "code",
   "execution_count": 15,
   "id": "7ac8d5c8",
   "metadata": {},
   "outputs": [
    {
     "data": {
      "text/plain": [
       "Position\n",
       "200    40\n",
       "133    40\n",
       "188    40\n",
       "135    40\n",
       "134    40\n",
       "132    40\n",
       "138    40\n",
       "62     40\n",
       "83     40\n",
       "70     40\n",
       "Name: count, dtype: int64"
      ]
     },
     "execution_count": 15,
     "metadata": {},
     "output_type": "execute_result"
    }
   ],
   "source": [
    "interaction_df[\"Position\"].value_counts().head(10)"
   ]
  },
  {
   "cell_type": "code",
   "execution_count": 19,
   "id": "ac526f18",
   "metadata": {},
   "outputs": [
    {
     "data": {
      "text/html": [
       "<div>\n",
       "<style scoped>\n",
       "    .dataframe tbody tr th:only-of-type {\n",
       "        vertical-align: middle;\n",
       "    }\n",
       "\n",
       "    .dataframe tbody tr th {\n",
       "        vertical-align: top;\n",
       "    }\n",
       "\n",
       "    .dataframe thead th {\n",
       "        text-align: right;\n",
       "    }\n",
       "</style>\n",
       "<table border=\"1\" class=\"dataframe\">\n",
       "  <thead>\n",
       "    <tr style=\"text-align: right;\">\n",
       "      <th></th>\n",
       "      <th>0</th>\n",
       "      <th>1</th>\n",
       "      <th>2</th>\n",
       "      <th>3</th>\n",
       "      <th>4</th>\n",
       "      <th>5</th>\n",
       "      <th>6</th>\n",
       "      <th>7</th>\n",
       "      <th>8</th>\n",
       "      <th>9</th>\n",
       "      <th>...</th>\n",
       "      <th>192</th>\n",
       "      <th>193</th>\n",
       "      <th>194</th>\n",
       "      <th>195</th>\n",
       "      <th>196</th>\n",
       "      <th>197</th>\n",
       "      <th>198</th>\n",
       "      <th>199</th>\n",
       "      <th>200</th>\n",
       "      <th>201</th>\n",
       "    </tr>\n",
       "  </thead>\n",
       "  <tbody>\n",
       "    <tr>\n",
       "      <th>5925</th>\n",
       "      <td>0.0</td>\n",
       "      <td>0.0</td>\n",
       "      <td>0.0</td>\n",
       "      <td>0.0</td>\n",
       "      <td>0.0</td>\n",
       "      <td>0.0</td>\n",
       "      <td>0.0</td>\n",
       "      <td>0.0</td>\n",
       "      <td>0.0</td>\n",
       "      <td>0.0</td>\n",
       "      <td>...</td>\n",
       "      <td>0.0</td>\n",
       "      <td>0.0</td>\n",
       "      <td>0.0</td>\n",
       "      <td>0.0</td>\n",
       "      <td>0.0</td>\n",
       "      <td>0.0</td>\n",
       "      <td>1.0</td>\n",
       "      <td>1.0</td>\n",
       "      <td>1.0</td>\n",
       "      <td>1.0</td>\n",
       "    </tr>\n",
       "    <tr>\n",
       "      <th>5926</th>\n",
       "      <td>0.0</td>\n",
       "      <td>0.0</td>\n",
       "      <td>0.0</td>\n",
       "      <td>0.0</td>\n",
       "      <td>0.0</td>\n",
       "      <td>0.0</td>\n",
       "      <td>0.0</td>\n",
       "      <td>0.0</td>\n",
       "      <td>0.0</td>\n",
       "      <td>0.0</td>\n",
       "      <td>...</td>\n",
       "      <td>0.0</td>\n",
       "      <td>0.0</td>\n",
       "      <td>0.0</td>\n",
       "      <td>0.0</td>\n",
       "      <td>0.0</td>\n",
       "      <td>0.0</td>\n",
       "      <td>1.0</td>\n",
       "      <td>1.0</td>\n",
       "      <td>1.0</td>\n",
       "      <td>1.0</td>\n",
       "    </tr>\n",
       "    <tr>\n",
       "      <th>5943</th>\n",
       "      <td>0.0</td>\n",
       "      <td>0.0</td>\n",
       "      <td>0.0</td>\n",
       "      <td>0.0</td>\n",
       "      <td>0.0</td>\n",
       "      <td>0.0</td>\n",
       "      <td>0.0</td>\n",
       "      <td>0.0</td>\n",
       "      <td>0.0</td>\n",
       "      <td>0.0</td>\n",
       "      <td>...</td>\n",
       "      <td>0.0</td>\n",
       "      <td>0.0</td>\n",
       "      <td>0.0</td>\n",
       "      <td>0.0</td>\n",
       "      <td>0.0</td>\n",
       "      <td>0.0</td>\n",
       "      <td>1.0</td>\n",
       "      <td>1.0</td>\n",
       "      <td>0.0</td>\n",
       "      <td>0.0</td>\n",
       "    </tr>\n",
       "    <tr>\n",
       "      <th>5947</th>\n",
       "      <td>0.0</td>\n",
       "      <td>0.0</td>\n",
       "      <td>0.0</td>\n",
       "      <td>0.0</td>\n",
       "      <td>0.0</td>\n",
       "      <td>0.0</td>\n",
       "      <td>0.0</td>\n",
       "      <td>0.0</td>\n",
       "      <td>0.0</td>\n",
       "      <td>0.0</td>\n",
       "      <td>...</td>\n",
       "      <td>0.0</td>\n",
       "      <td>0.0</td>\n",
       "      <td>0.0</td>\n",
       "      <td>0.0</td>\n",
       "      <td>0.0</td>\n",
       "      <td>0.0</td>\n",
       "      <td>1.0</td>\n",
       "      <td>1.0</td>\n",
       "      <td>0.0</td>\n",
       "      <td>0.0</td>\n",
       "    </tr>\n",
       "    <tr>\n",
       "      <th>5955</th>\n",
       "      <td>0.0</td>\n",
       "      <td>0.0</td>\n",
       "      <td>0.0</td>\n",
       "      <td>0.0</td>\n",
       "      <td>0.0</td>\n",
       "      <td>0.0</td>\n",
       "      <td>0.0</td>\n",
       "      <td>0.0</td>\n",
       "      <td>0.0</td>\n",
       "      <td>0.0</td>\n",
       "      <td>...</td>\n",
       "      <td>0.0</td>\n",
       "      <td>0.0</td>\n",
       "      <td>0.0</td>\n",
       "      <td>0.0</td>\n",
       "      <td>0.0</td>\n",
       "      <td>0.0</td>\n",
       "      <td>1.0</td>\n",
       "      <td>1.0</td>\n",
       "      <td>0.0</td>\n",
       "      <td>0.0</td>\n",
       "    </tr>\n",
       "    <tr>\n",
       "      <th>5976</th>\n",
       "      <td>0.0</td>\n",
       "      <td>0.0</td>\n",
       "      <td>0.0</td>\n",
       "      <td>0.0</td>\n",
       "      <td>0.0</td>\n",
       "      <td>0.0</td>\n",
       "      <td>0.0</td>\n",
       "      <td>0.0</td>\n",
       "      <td>0.0</td>\n",
       "      <td>0.0</td>\n",
       "      <td>...</td>\n",
       "      <td>0.0</td>\n",
       "      <td>0.0</td>\n",
       "      <td>0.0</td>\n",
       "      <td>0.0</td>\n",
       "      <td>0.0</td>\n",
       "      <td>0.0</td>\n",
       "      <td>1.0</td>\n",
       "      <td>1.0</td>\n",
       "      <td>0.0</td>\n",
       "      <td>0.0</td>\n",
       "    </tr>\n",
       "    <tr>\n",
       "      <th>5977</th>\n",
       "      <td>0.0</td>\n",
       "      <td>0.0</td>\n",
       "      <td>0.0</td>\n",
       "      <td>0.0</td>\n",
       "      <td>0.0</td>\n",
       "      <td>0.0</td>\n",
       "      <td>0.0</td>\n",
       "      <td>0.0</td>\n",
       "      <td>0.0</td>\n",
       "      <td>0.0</td>\n",
       "      <td>...</td>\n",
       "      <td>0.0</td>\n",
       "      <td>0.0</td>\n",
       "      <td>0.0</td>\n",
       "      <td>0.0</td>\n",
       "      <td>0.0</td>\n",
       "      <td>0.0</td>\n",
       "      <td>1.0</td>\n",
       "      <td>1.0</td>\n",
       "      <td>1.0</td>\n",
       "      <td>0.0</td>\n",
       "    </tr>\n",
       "    <tr>\n",
       "      <th>5978</th>\n",
       "      <td>0.0</td>\n",
       "      <td>0.0</td>\n",
       "      <td>0.0</td>\n",
       "      <td>0.0</td>\n",
       "      <td>0.0</td>\n",
       "      <td>0.0</td>\n",
       "      <td>0.0</td>\n",
       "      <td>0.0</td>\n",
       "      <td>0.0</td>\n",
       "      <td>0.0</td>\n",
       "      <td>...</td>\n",
       "      <td>0.0</td>\n",
       "      <td>0.0</td>\n",
       "      <td>0.0</td>\n",
       "      <td>0.0</td>\n",
       "      <td>0.0</td>\n",
       "      <td>0.0</td>\n",
       "      <td>1.0</td>\n",
       "      <td>1.0</td>\n",
       "      <td>0.0</td>\n",
       "      <td>0.0</td>\n",
       "    </tr>\n",
       "    <tr>\n",
       "      <th>5979</th>\n",
       "      <td>0.0</td>\n",
       "      <td>0.0</td>\n",
       "      <td>0.0</td>\n",
       "      <td>0.0</td>\n",
       "      <td>0.0</td>\n",
       "      <td>0.0</td>\n",
       "      <td>0.0</td>\n",
       "      <td>0.0</td>\n",
       "      <td>0.0</td>\n",
       "      <td>0.0</td>\n",
       "      <td>...</td>\n",
       "      <td>0.0</td>\n",
       "      <td>0.0</td>\n",
       "      <td>0.0</td>\n",
       "      <td>0.0</td>\n",
       "      <td>0.0</td>\n",
       "      <td>0.0</td>\n",
       "      <td>1.0</td>\n",
       "      <td>1.0</td>\n",
       "      <td>0.0</td>\n",
       "      <td>0.0</td>\n",
       "    </tr>\n",
       "    <tr>\n",
       "      <th>5980</th>\n",
       "      <td>0.0</td>\n",
       "      <td>0.0</td>\n",
       "      <td>0.0</td>\n",
       "      <td>0.0</td>\n",
       "      <td>0.0</td>\n",
       "      <td>0.0</td>\n",
       "      <td>0.0</td>\n",
       "      <td>0.0</td>\n",
       "      <td>0.0</td>\n",
       "      <td>0.0</td>\n",
       "      <td>...</td>\n",
       "      <td>0.0</td>\n",
       "      <td>0.0</td>\n",
       "      <td>0.0</td>\n",
       "      <td>0.0</td>\n",
       "      <td>0.0</td>\n",
       "      <td>0.0</td>\n",
       "      <td>1.0</td>\n",
       "      <td>1.0</td>\n",
       "      <td>1.0</td>\n",
       "      <td>1.0</td>\n",
       "    </tr>\n",
       "  </tbody>\n",
       "</table>\n",
       "<p>10 rows × 202 columns</p>\n",
       "</div>"
      ],
      "text/plain": [
       "      0    1    2    3    4    5    6    7    8    9    ...  192  193  194  \\\n",
       "5925  0.0  0.0  0.0  0.0  0.0  0.0  0.0  0.0  0.0  0.0  ...  0.0  0.0  0.0   \n",
       "5926  0.0  0.0  0.0  0.0  0.0  0.0  0.0  0.0  0.0  0.0  ...  0.0  0.0  0.0   \n",
       "5943  0.0  0.0  0.0  0.0  0.0  0.0  0.0  0.0  0.0  0.0  ...  0.0  0.0  0.0   \n",
       "5947  0.0  0.0  0.0  0.0  0.0  0.0  0.0  0.0  0.0  0.0  ...  0.0  0.0  0.0   \n",
       "5955  0.0  0.0  0.0  0.0  0.0  0.0  0.0  0.0  0.0  0.0  ...  0.0  0.0  0.0   \n",
       "5976  0.0  0.0  0.0  0.0  0.0  0.0  0.0  0.0  0.0  0.0  ...  0.0  0.0  0.0   \n",
       "5977  0.0  0.0  0.0  0.0  0.0  0.0  0.0  0.0  0.0  0.0  ...  0.0  0.0  0.0   \n",
       "5978  0.0  0.0  0.0  0.0  0.0  0.0  0.0  0.0  0.0  0.0  ...  0.0  0.0  0.0   \n",
       "5979  0.0  0.0  0.0  0.0  0.0  0.0  0.0  0.0  0.0  0.0  ...  0.0  0.0  0.0   \n",
       "5980  0.0  0.0  0.0  0.0  0.0  0.0  0.0  0.0  0.0  0.0  ...  0.0  0.0  0.0   \n",
       "\n",
       "      195  196  197  198  199  200  201  \n",
       "5925  0.0  0.0  0.0  1.0  1.0  1.0  1.0  \n",
       "5926  0.0  0.0  0.0  1.0  1.0  1.0  1.0  \n",
       "5943  0.0  0.0  0.0  1.0  1.0  0.0  0.0  \n",
       "5947  0.0  0.0  0.0  1.0  1.0  0.0  0.0  \n",
       "5955  0.0  0.0  0.0  1.0  1.0  0.0  0.0  \n",
       "5976  0.0  0.0  0.0  1.0  1.0  0.0  0.0  \n",
       "5977  0.0  0.0  0.0  1.0  1.0  1.0  0.0  \n",
       "5978  0.0  0.0  0.0  1.0  1.0  0.0  0.0  \n",
       "5979  0.0  0.0  0.0  1.0  1.0  0.0  0.0  \n",
       "5980  0.0  0.0  0.0  1.0  1.0  1.0  1.0  \n",
       "\n",
       "[10 rows x 202 columns]"
      ]
     },
     "execution_count": 19,
     "metadata": {},
     "output_type": "execute_result"
    }
   ],
   "source": [
    "# Create a numpy array for each ligand, \n",
    "# where the index is the position and the value is the count\n",
    "import numpy as np\n",
    "ligand_counts = {}\n",
    "for _, row in interaction_df.iterrows():\n",
    "    if row[\"ID\"] not in ligand_counts:\n",
    "        # Find the maximum position to determine the size of the array\n",
    "        max_position = interaction_df[\"Position\"].max()\n",
    "        ligand_counts[row[\"ID\"]] = np.zeros(max_position)  # Assuming positions are 0-299\n",
    "    ligand_counts[row[\"ID\"]][row[\"Position\"]-1] = row[\"Count\"]\n",
    "# Convert to DataFrame for better visualization\n",
    "ligand_counts_df = pd.DataFrame.from_dict(ligand_counts, orient='index')\n",
    "ligand_counts_df.head(10)"
   ]
  },
  {
   "cell_type": "code",
   "execution_count": 20,
   "id": "5f9fe1c9",
   "metadata": {},
   "outputs": [
    {
     "name": "stdout",
     "output_type": "stream",
     "text": [
      "Collecting umap-learn\n",
      "  Downloading umap_learn-0.5.7-py3-none-any.whl (88 kB)\n",
      "\u001b[2K     \u001b[90m━━━━━━━━━━━━━━━━━━━━━━━━━━━━━━━━━━━━━━━━\u001b[0m \u001b[32m88.8/88.8 KB\u001b[0m \u001b[31m2.6 MB/s\u001b[0m eta \u001b[36m0:00:00\u001b[0ma \u001b[36m0:00:01\u001b[0m\n",
      "\u001b[?25hCollecting plotly\n",
      "  Downloading plotly-6.1.1-py3-none-any.whl (16.1 MB)\n",
      "\u001b[2K     \u001b[90m━━━━━━━━━━━━━━━━━━━━━━━━━━━━━━━━━━━━━━━━\u001b[0m \u001b[32m16.1/16.1 MB\u001b[0m \u001b[31m30.8 MB/s\u001b[0m eta \u001b[36m0:00:00\u001b[0m00:01\u001b[0m00:01\u001b[0m\n",
      "\u001b[?25hRequirement already satisfied: numba>=0.51.2 in /usr/local/lib/python3.10/dist-packages (from umap-learn) (0.61.0)\n",
      "Requirement already satisfied: tqdm in /usr/local/lib/python3.10/dist-packages (from umap-learn) (4.67.1)\n",
      "Requirement already satisfied: numpy>=1.17 in /usr/local/lib/python3.10/dist-packages (from umap-learn) (1.26.3)\n",
      "Requirement already satisfied: scipy>=1.3.1 in /usr/local/lib/python3.10/dist-packages (from umap-learn) (1.13.1)\n",
      "Collecting scikit-learn>=0.22\n",
      "  Downloading scikit_learn-1.6.1-cp310-cp310-manylinux_2_17_x86_64.manylinux2014_x86_64.whl (13.5 MB)\n",
      "\u001b[2K     \u001b[90m━━━━━━━━━━━━━━━━━━━━━━━━━━━━━━━━━━━━━━━━\u001b[0m \u001b[32m13.5/13.5 MB\u001b[0m \u001b[31m31.9 MB/s\u001b[0m eta \u001b[36m0:00:00\u001b[0m00:01\u001b[0m00:01\u001b[0m\n",
      "\u001b[?25hCollecting pynndescent>=0.5\n",
      "  Downloading pynndescent-0.5.13-py3-none-any.whl (56 kB)\n",
      "\u001b[2K     \u001b[90m━━━━━━━━━━━━━━━━━━━━━━━━━━━━━━━━━━━━━━━━\u001b[0m \u001b[32m56.9/56.9 KB\u001b[0m \u001b[31m4.2 MB/s\u001b[0m eta \u001b[36m0:00:00\u001b[0m\n",
      "\u001b[?25hRequirement already satisfied: packaging in /usr/local/lib/python3.10/dist-packages (from plotly) (25.0)\n",
      "Collecting narwhals>=1.15.1\n",
      "  Downloading narwhals-1.40.0-py3-none-any.whl (357 kB)\n",
      "\u001b[2K     \u001b[90m━━━━━━━━━━━━━━━━━━━━━━━━━━━━━━━━━━━━━━\u001b[0m \u001b[32m357.3/357.3 KB\u001b[0m \u001b[31m23.9 MB/s\u001b[0m eta \u001b[36m0:00:00\u001b[0m\n",
      "\u001b[?25hRequirement already satisfied: llvmlite<0.45,>=0.44.0dev0 in /usr/local/lib/python3.10/dist-packages (from numba>=0.51.2->umap-learn) (0.44.0)\n",
      "Collecting joblib>=0.11\n",
      "  Downloading joblib-1.5.1-py3-none-any.whl (307 kB)\n",
      "\u001b[2K     \u001b[90m━━━━━━━━━━━━━━━━━━━━━━━━━━━━━━━━━━━━━━\u001b[0m \u001b[32m307.7/307.7 KB\u001b[0m \u001b[31m25.3 MB/s\u001b[0m eta \u001b[36m0:00:00\u001b[0m\n",
      "\u001b[?25hCollecting threadpoolctl>=3.1.0\n",
      "  Downloading threadpoolctl-3.6.0-py3-none-any.whl (18 kB)\n",
      "Installing collected packages: threadpoolctl, narwhals, joblib, scikit-learn, plotly, pynndescent, umap-learn\n",
      "Successfully installed joblib-1.5.1 narwhals-1.40.0 plotly-6.1.1 pynndescent-0.5.13 scikit-learn-1.6.1 threadpoolctl-3.6.0 umap-learn-0.5.7\n",
      "\u001b[33mWARNING: Running pip as the 'root' user can result in broken permissions and conflicting behaviour with the system package manager. It is recommended to use a virtual environment instead: https://pip.pypa.io/warnings/venv\u001b[0m\u001b[33m\n",
      "\u001b[0m"
     ]
    },
    {
     "data": {
      "application/vnd.plotly.v1+json": {
       "config": {
        "plotlyServerURL": "https://plot.ly"
       },
       "data": [
        {
         "customdata": {
          "bdata": "JRcmFzcXOxdDF1gXWRdaF1sXXBdlF2cXcBcRG0Aeix7jHhYfRh9HH04fTx9QH1EfUh9TH7Ifsx/rHx4h7iNSJlMmwyZ8J8ApjyyULBwtzjU=",
          "dtype": "i2",
          "shape": "40, 1"
         },
         "hovertemplate": "UMAP1=%{x}<br>UMAP2=%{y}<br>Ligand=%{marker.color}<extra></extra>",
         "legendgroup": "",
         "marker": {
          "color": {
           "bdata": "JRcmFzcXOxdDF1gXWRdaF1sXXBdlF2cXcBcRG0Aeix7jHhYfRh9HH04fTx9QH1EfUh9TH7Ifsx/rHx4h7iNSJlMmwyZ8J8ApjyyULBwtzjU=",
           "dtype": "i2"
          },
          "coloraxis": "coloraxis",
          "symbol": "circle"
         },
         "mode": "markers",
         "name": "",
         "orientation": "v",
         "showlegend": false,
         "type": "scatter",
         "x": {
          "bdata": "DUQIQWGZAkH7/UlBDBQxQd+ISkH1ajxB2bQIQbYmK0GivzhB6hQNQSOSPkFMlCNBkGsWQZoAEkGahP1ATqoGQde+HkGLmypBSJolQUZlJkFPoEBBPb1IQYTKQkGKIUNB6jYuQVJbJkEUYAZBPPQCQaWEN0GsHgxBZNoLQVvwAUFHOwxBqhopQRc2PUFqUxRB2P4mQVKyNEFv0yRBJ4dLQQ==",
          "dtype": "f4"
         },
         "xaxis": "x",
         "y": {
          "bdata": "Qjn0QB4830ABsghBc8DqQLJR70C/AgRBr+APQSehD0FXg9VAsdDvQHmM3kALEOhACmzqQAnw2kAeswVB9hHTQCznEkFXugdBNW+9QNtjykAlMvVATBzzQLTvAEFKxQhB8rnjQHxmD0GwaQhBJyvsQIoN/EB/9stAtiQSQSS1CEGCtQVBD+oUQWAP70BE6wBBbpUCQS37DkEeSeNAORwGQQ==",
          "dtype": "f4"
         },
         "yaxis": "y"
        }
       ],
       "layout": {
        "coloraxis": {
         "colorbar": {
          "title": {
           "text": "Ligand"
          }
         },
         "colorscale": [
          [
           0,
           "#0d0887"
          ],
          [
           0.1111111111111111,
           "#46039f"
          ],
          [
           0.2222222222222222,
           "#7201a8"
          ],
          [
           0.3333333333333333,
           "#9c179e"
          ],
          [
           0.4444444444444444,
           "#bd3786"
          ],
          [
           0.5555555555555556,
           "#d8576b"
          ],
          [
           0.6666666666666666,
           "#ed7953"
          ],
          [
           0.7777777777777778,
           "#fb9f3a"
          ],
          [
           0.8888888888888888,
           "#fdca26"
          ],
          [
           1,
           "#f0f921"
          ]
         ]
        },
        "height": 600,
        "legend": {
         "tracegroupgap": 0
        },
        "template": {
         "data": {
          "bar": [
           {
            "error_x": {
             "color": "#2a3f5f"
            },
            "error_y": {
             "color": "#2a3f5f"
            },
            "marker": {
             "line": {
              "color": "#E5ECF6",
              "width": 0.5
             },
             "pattern": {
              "fillmode": "overlay",
              "size": 10,
              "solidity": 0.2
             }
            },
            "type": "bar"
           }
          ],
          "barpolar": [
           {
            "marker": {
             "line": {
              "color": "#E5ECF6",
              "width": 0.5
             },
             "pattern": {
              "fillmode": "overlay",
              "size": 10,
              "solidity": 0.2
             }
            },
            "type": "barpolar"
           }
          ],
          "carpet": [
           {
            "aaxis": {
             "endlinecolor": "#2a3f5f",
             "gridcolor": "white",
             "linecolor": "white",
             "minorgridcolor": "white",
             "startlinecolor": "#2a3f5f"
            },
            "baxis": {
             "endlinecolor": "#2a3f5f",
             "gridcolor": "white",
             "linecolor": "white",
             "minorgridcolor": "white",
             "startlinecolor": "#2a3f5f"
            },
            "type": "carpet"
           }
          ],
          "choropleth": [
           {
            "colorbar": {
             "outlinewidth": 0,
             "ticks": ""
            },
            "type": "choropleth"
           }
          ],
          "contour": [
           {
            "colorbar": {
             "outlinewidth": 0,
             "ticks": ""
            },
            "colorscale": [
             [
              0,
              "#0d0887"
             ],
             [
              0.1111111111111111,
              "#46039f"
             ],
             [
              0.2222222222222222,
              "#7201a8"
             ],
             [
              0.3333333333333333,
              "#9c179e"
             ],
             [
              0.4444444444444444,
              "#bd3786"
             ],
             [
              0.5555555555555556,
              "#d8576b"
             ],
             [
              0.6666666666666666,
              "#ed7953"
             ],
             [
              0.7777777777777778,
              "#fb9f3a"
             ],
             [
              0.8888888888888888,
              "#fdca26"
             ],
             [
              1,
              "#f0f921"
             ]
            ],
            "type": "contour"
           }
          ],
          "contourcarpet": [
           {
            "colorbar": {
             "outlinewidth": 0,
             "ticks": ""
            },
            "type": "contourcarpet"
           }
          ],
          "heatmap": [
           {
            "colorbar": {
             "outlinewidth": 0,
             "ticks": ""
            },
            "colorscale": [
             [
              0,
              "#0d0887"
             ],
             [
              0.1111111111111111,
              "#46039f"
             ],
             [
              0.2222222222222222,
              "#7201a8"
             ],
             [
              0.3333333333333333,
              "#9c179e"
             ],
             [
              0.4444444444444444,
              "#bd3786"
             ],
             [
              0.5555555555555556,
              "#d8576b"
             ],
             [
              0.6666666666666666,
              "#ed7953"
             ],
             [
              0.7777777777777778,
              "#fb9f3a"
             ],
             [
              0.8888888888888888,
              "#fdca26"
             ],
             [
              1,
              "#f0f921"
             ]
            ],
            "type": "heatmap"
           }
          ],
          "histogram": [
           {
            "marker": {
             "pattern": {
              "fillmode": "overlay",
              "size": 10,
              "solidity": 0.2
             }
            },
            "type": "histogram"
           }
          ],
          "histogram2d": [
           {
            "colorbar": {
             "outlinewidth": 0,
             "ticks": ""
            },
            "colorscale": [
             [
              0,
              "#0d0887"
             ],
             [
              0.1111111111111111,
              "#46039f"
             ],
             [
              0.2222222222222222,
              "#7201a8"
             ],
             [
              0.3333333333333333,
              "#9c179e"
             ],
             [
              0.4444444444444444,
              "#bd3786"
             ],
             [
              0.5555555555555556,
              "#d8576b"
             ],
             [
              0.6666666666666666,
              "#ed7953"
             ],
             [
              0.7777777777777778,
              "#fb9f3a"
             ],
             [
              0.8888888888888888,
              "#fdca26"
             ],
             [
              1,
              "#f0f921"
             ]
            ],
            "type": "histogram2d"
           }
          ],
          "histogram2dcontour": [
           {
            "colorbar": {
             "outlinewidth": 0,
             "ticks": ""
            },
            "colorscale": [
             [
              0,
              "#0d0887"
             ],
             [
              0.1111111111111111,
              "#46039f"
             ],
             [
              0.2222222222222222,
              "#7201a8"
             ],
             [
              0.3333333333333333,
              "#9c179e"
             ],
             [
              0.4444444444444444,
              "#bd3786"
             ],
             [
              0.5555555555555556,
              "#d8576b"
             ],
             [
              0.6666666666666666,
              "#ed7953"
             ],
             [
              0.7777777777777778,
              "#fb9f3a"
             ],
             [
              0.8888888888888888,
              "#fdca26"
             ],
             [
              1,
              "#f0f921"
             ]
            ],
            "type": "histogram2dcontour"
           }
          ],
          "mesh3d": [
           {
            "colorbar": {
             "outlinewidth": 0,
             "ticks": ""
            },
            "type": "mesh3d"
           }
          ],
          "parcoords": [
           {
            "line": {
             "colorbar": {
              "outlinewidth": 0,
              "ticks": ""
             }
            },
            "type": "parcoords"
           }
          ],
          "pie": [
           {
            "automargin": true,
            "type": "pie"
           }
          ],
          "scatter": [
           {
            "fillpattern": {
             "fillmode": "overlay",
             "size": 10,
             "solidity": 0.2
            },
            "type": "scatter"
           }
          ],
          "scatter3d": [
           {
            "line": {
             "colorbar": {
              "outlinewidth": 0,
              "ticks": ""
             }
            },
            "marker": {
             "colorbar": {
              "outlinewidth": 0,
              "ticks": ""
             }
            },
            "type": "scatter3d"
           }
          ],
          "scattercarpet": [
           {
            "marker": {
             "colorbar": {
              "outlinewidth": 0,
              "ticks": ""
             }
            },
            "type": "scattercarpet"
           }
          ],
          "scattergeo": [
           {
            "marker": {
             "colorbar": {
              "outlinewidth": 0,
              "ticks": ""
             }
            },
            "type": "scattergeo"
           }
          ],
          "scattergl": [
           {
            "marker": {
             "colorbar": {
              "outlinewidth": 0,
              "ticks": ""
             }
            },
            "type": "scattergl"
           }
          ],
          "scattermap": [
           {
            "marker": {
             "colorbar": {
              "outlinewidth": 0,
              "ticks": ""
             }
            },
            "type": "scattermap"
           }
          ],
          "scattermapbox": [
           {
            "marker": {
             "colorbar": {
              "outlinewidth": 0,
              "ticks": ""
             }
            },
            "type": "scattermapbox"
           }
          ],
          "scatterpolar": [
           {
            "marker": {
             "colorbar": {
              "outlinewidth": 0,
              "ticks": ""
             }
            },
            "type": "scatterpolar"
           }
          ],
          "scatterpolargl": [
           {
            "marker": {
             "colorbar": {
              "outlinewidth": 0,
              "ticks": ""
             }
            },
            "type": "scatterpolargl"
           }
          ],
          "scatterternary": [
           {
            "marker": {
             "colorbar": {
              "outlinewidth": 0,
              "ticks": ""
             }
            },
            "type": "scatterternary"
           }
          ],
          "surface": [
           {
            "colorbar": {
             "outlinewidth": 0,
             "ticks": ""
            },
            "colorscale": [
             [
              0,
              "#0d0887"
             ],
             [
              0.1111111111111111,
              "#46039f"
             ],
             [
              0.2222222222222222,
              "#7201a8"
             ],
             [
              0.3333333333333333,
              "#9c179e"
             ],
             [
              0.4444444444444444,
              "#bd3786"
             ],
             [
              0.5555555555555556,
              "#d8576b"
             ],
             [
              0.6666666666666666,
              "#ed7953"
             ],
             [
              0.7777777777777778,
              "#fb9f3a"
             ],
             [
              0.8888888888888888,
              "#fdca26"
             ],
             [
              1,
              "#f0f921"
             ]
            ],
            "type": "surface"
           }
          ],
          "table": [
           {
            "cells": {
             "fill": {
              "color": "#EBF0F8"
             },
             "line": {
              "color": "white"
             }
            },
            "header": {
             "fill": {
              "color": "#C8D4E3"
             },
             "line": {
              "color": "white"
             }
            },
            "type": "table"
           }
          ]
         },
         "layout": {
          "annotationdefaults": {
           "arrowcolor": "#2a3f5f",
           "arrowhead": 0,
           "arrowwidth": 1
          },
          "autotypenumbers": "strict",
          "coloraxis": {
           "colorbar": {
            "outlinewidth": 0,
            "ticks": ""
           }
          },
          "colorscale": {
           "diverging": [
            [
             0,
             "#8e0152"
            ],
            [
             0.1,
             "#c51b7d"
            ],
            [
             0.2,
             "#de77ae"
            ],
            [
             0.3,
             "#f1b6da"
            ],
            [
             0.4,
             "#fde0ef"
            ],
            [
             0.5,
             "#f7f7f7"
            ],
            [
             0.6,
             "#e6f5d0"
            ],
            [
             0.7,
             "#b8e186"
            ],
            [
             0.8,
             "#7fbc41"
            ],
            [
             0.9,
             "#4d9221"
            ],
            [
             1,
             "#276419"
            ]
           ],
           "sequential": [
            [
             0,
             "#0d0887"
            ],
            [
             0.1111111111111111,
             "#46039f"
            ],
            [
             0.2222222222222222,
             "#7201a8"
            ],
            [
             0.3333333333333333,
             "#9c179e"
            ],
            [
             0.4444444444444444,
             "#bd3786"
            ],
            [
             0.5555555555555556,
             "#d8576b"
            ],
            [
             0.6666666666666666,
             "#ed7953"
            ],
            [
             0.7777777777777778,
             "#fb9f3a"
            ],
            [
             0.8888888888888888,
             "#fdca26"
            ],
            [
             1,
             "#f0f921"
            ]
           ],
           "sequentialminus": [
            [
             0,
             "#0d0887"
            ],
            [
             0.1111111111111111,
             "#46039f"
            ],
            [
             0.2222222222222222,
             "#7201a8"
            ],
            [
             0.3333333333333333,
             "#9c179e"
            ],
            [
             0.4444444444444444,
             "#bd3786"
            ],
            [
             0.5555555555555556,
             "#d8576b"
            ],
            [
             0.6666666666666666,
             "#ed7953"
            ],
            [
             0.7777777777777778,
             "#fb9f3a"
            ],
            [
             0.8888888888888888,
             "#fdca26"
            ],
            [
             1,
             "#f0f921"
            ]
           ]
          },
          "colorway": [
           "#636efa",
           "#EF553B",
           "#00cc96",
           "#ab63fa",
           "#FFA15A",
           "#19d3f3",
           "#FF6692",
           "#B6E880",
           "#FF97FF",
           "#FECB52"
          ],
          "font": {
           "color": "#2a3f5f"
          },
          "geo": {
           "bgcolor": "white",
           "lakecolor": "white",
           "landcolor": "#E5ECF6",
           "showlakes": true,
           "showland": true,
           "subunitcolor": "white"
          },
          "hoverlabel": {
           "align": "left"
          },
          "hovermode": "closest",
          "mapbox": {
           "style": "light"
          },
          "paper_bgcolor": "white",
          "plot_bgcolor": "#E5ECF6",
          "polar": {
           "angularaxis": {
            "gridcolor": "white",
            "linecolor": "white",
            "ticks": ""
           },
           "bgcolor": "#E5ECF6",
           "radialaxis": {
            "gridcolor": "white",
            "linecolor": "white",
            "ticks": ""
           }
          },
          "scene": {
           "xaxis": {
            "backgroundcolor": "#E5ECF6",
            "gridcolor": "white",
            "gridwidth": 2,
            "linecolor": "white",
            "showbackground": true,
            "ticks": "",
            "zerolinecolor": "white"
           },
           "yaxis": {
            "backgroundcolor": "#E5ECF6",
            "gridcolor": "white",
            "gridwidth": 2,
            "linecolor": "white",
            "showbackground": true,
            "ticks": "",
            "zerolinecolor": "white"
           },
           "zaxis": {
            "backgroundcolor": "#E5ECF6",
            "gridcolor": "white",
            "gridwidth": 2,
            "linecolor": "white",
            "showbackground": true,
            "ticks": "",
            "zerolinecolor": "white"
           }
          },
          "shapedefaults": {
           "line": {
            "color": "#2a3f5f"
           }
          },
          "ternary": {
           "aaxis": {
            "gridcolor": "white",
            "linecolor": "white",
            "ticks": ""
           },
           "baxis": {
            "gridcolor": "white",
            "linecolor": "white",
            "ticks": ""
           },
           "bgcolor": "#E5ECF6",
           "caxis": {
            "gridcolor": "white",
            "linecolor": "white",
            "ticks": ""
           }
          },
          "title": {
           "x": 0.05
          },
          "xaxis": {
           "automargin": true,
           "gridcolor": "white",
           "linecolor": "white",
           "ticks": "",
           "title": {
            "standoff": 15
           },
           "zerolinecolor": "white",
           "zerolinewidth": 2
          },
          "yaxis": {
           "automargin": true,
           "gridcolor": "white",
           "linecolor": "white",
           "ticks": "",
           "title": {
            "standoff": 15
           },
           "zerolinecolor": "white",
           "zerolinewidth": 2
          }
         }
        },
        "title": {
         "text": "UMAP of Ligand Counts"
        },
        "width": 800,
        "xaxis": {
         "anchor": "y",
         "domain": [
          0,
          1
         ],
         "title": {
          "text": "UMAP1"
         }
        },
        "yaxis": {
         "anchor": "x",
         "domain": [
          0,
          1
         ],
         "title": {
          "text": "UMAP2"
         }
        }
       }
      }
     },
     "metadata": {},
     "output_type": "display_data"
    }
   ],
   "source": [
    "# Lets create UMAP, let start with installing umap-learn\n",
    "!pip install umap-learn plotly\n",
    "import umap\n",
    "from plotly.express import scatter\n",
    "# Create a UMAP model\n",
    "umap_model = umap.UMAP(n_neighbors=5, min_dist=0.1, metric='euclidean')\n",
    "# Fit and transform the ligand counts\n",
    "umap_embeddings = umap_model.fit_transform(ligand_counts_df.values)\n",
    "# Create a DataFrame for the UMAP embeddings\n",
    "umap_df = pd.DataFrame(umap_embeddings, columns=['UMAP1', 'UMAP2'])\n",
    "# Add the ligand IDs to the DataFrame\n",
    "umap_df['Ligand'] = ligand_counts_df.index\n",
    "# Plot the UMAP embeddings\n",
    "scatter(umap_df, x='UMAP1', y='UMAP2', color='Ligand', title='UMAP of Ligand Counts', hover_data=['Ligand'], height=600, width=800)"
   ]
  },
  {
   "cell_type": "markdown",
   "id": "f2ad52c6",
   "metadata": {},
   "source": [
    "## Appendix\n",
    "\n",
    "```pymol\n",
    "# PyMOL Commands for Highlighting Inter-chain Interactions\n",
    "# Load your structure first: load your_structure.pdb\n",
    "\n",
    "# =====================================================\n",
    "# 1. ELECTROSTATIC INTERACTIONS\n",
    "# =====================================================\n",
    "\n",
    "# Define charged residues\n",
    "select positive_A, chain A and resn ARG+LYS+HIS\n",
    "select negative_A, chain A and resn ASP+GLU\n",
    "select positive_B, chain B and resn ARG+LYS+HIS  \n",
    "select negative_B, chain B and resn ASP+GLU\n",
    "\n",
    "# Find electrostatic interactions (typically within 4-6 Å)\n",
    "select electrostatic_A, (positive_A within 5 of negative_B) or (negative_A within 5 of positive_B)\n",
    "select electrostatic_B, (positive_B within 5 of negative_A) or (negative_B within 5 of positive_A)\n",
    "\n",
    "# Combine and highlight electrostatic interactions\n",
    "select electrostatic_pairs, electrostatic_A or electrostatic_B\n",
    "color red, electrostatic_pairs\n",
    "show sticks, electrostatic_pairs\n",
    "\n",
    "# =====================================================\n",
    "# 2. HYDROGEN BONDING INTERACTIONS\n",
    "# =====================================================\n",
    "\n",
    "# Define polar residues capable of hydrogen bonding\n",
    "select polar_A, chain A and resn SER+THR+ASN+GLN+TYR+ASP+GLU+ARG+LYS+HIS+TRP\n",
    "select polar_B, chain B and resn SER+THR+ASN+GLN+TYR+ASP+GLU+ARG+LYS+HIS+TRP\n",
    "\n",
    "# Find potential hydrogen bonding residues (within 3.5 Å for strong H-bonds)\n",
    "select hbond_A, polar_A within 3.5 of polar_B\n",
    "select hbond_B, polar_B within 3.5 of polar_A\n",
    "\n",
    "# Combine and highlight hydrogen bonding residues\n",
    "select hbond_pairs, hbond_A or hbond_B\n",
    "color blue, hbond_pairs\n",
    "show sticks, hbond_pairs\n",
    "\n",
    "# Optional: Use PyMOL's built-in hydrogen bond detection\n",
    "distance hbonds, chain A, chain B, mode=2, cutoff=3.5, label=0\n",
    "hide labels, hbonds\n",
    "\n",
    "# =====================================================\n",
    "# 3. HYDROPHOBIC INTERACTIONS\n",
    "# =====================================================\n",
    "\n",
    "# Define hydrophobic residues\n",
    "select hydrophobic_A, chain A and resn ALA+VAL+LEU+ILE+PHE+TRP+MET+PRO\n",
    "select hydrophobic_B, chain B and resn ALA+VAL+LEU+ILE+PHE+TRP+MET+PRO\n",
    "\n",
    "# Find hydrophobic interactions (typically within 4-5 Å)\n",
    "select hydrophobic_A_int, hydrophobic_A within 4.5 of hydrophobic_B\n",
    "select hydrophobic_B_int, hydrophobic_B within 4.5 of hydrophobic_A\n",
    "\n",
    "# Combine and highlight hydrophobic interactions\n",
    "select hydrophobic_pairs, hydrophobic_A_int or hydrophobic_B_int\n",
    "color yellow, hydrophobic_pairs\n",
    "show sticks, hydrophobic_pairs\n",
    "\n",
    "# =====================================================\n",
    "# 4. VISUALIZATION ENHANCEMENTS\n",
    "# =====================================================\n",
    "\n",
    "# Show the interface region\n",
    "select interface, (chain A within 5 of chain B) or (chain B within 5 of chain A)\n",
    "show surface, interface\n",
    "set transparency, 0.7, interface\n",
    "\n",
    "# Different representation for each interaction type\n",
    "show spheres, electrostatic_pairs\n",
    "show sticks, hbond_pairs  \n",
    "show sticks, hydrophobic_pairs\n",
    "\n",
    "# Set sphere scale for electrostatic interactions\n",
    "set sphere_scale, 0.3, electrostatic_pairs\n",
    "\n",
    "# =====================================================\n",
    "# 5. COMPREHENSIVE VIEW\n",
    "# =====================================================\n",
    "\n",
    "# Create a selection combining all interaction types\n",
    "select all_interactions, electrostatic_pairs or hbond_pairs or hydrophobic_pairs\n",
    "\n",
    "# Label the interacting residues\n",
    "label all_interactions and name CA, \"%s%s\" % (resn, resi)\n",
    "\n",
    "# Zoom to the interface\n",
    "zoom interface\n",
    "\n",
    "# Clean up intermediate selections\n",
    "delete positive_A, negative_A, positive_B, negative_B\n",
    "delete polar_A, polar_B, hydrophobic_A, hydrophobic_B\n",
    "delete electrostatic_A, electrostatic_B, hbond_A, hbond_B\n",
    "delete hydrophobic_A_int, hydrophobic_B_int\n",
    "\n",
    "# =====================================================\n",
    "# 6. ALTERNATIVE: DISTANCE-BASED ANALYSIS\n",
    "# =====================================================\n",
    "\n",
    "# More comprehensive analysis using distance objects\n",
    "distance salt_bridges, (chain A and resn ARG+LYS+HIS), (chain B and resn ASP+GLU), cutoff=4.0, label=0\n",
    "distance salt_bridges2, (chain A and resn ASP+GLU), (chain B and resn ARG+LYS+HIS), cutoff=4.0, label=0\n",
    "\n",
    "# Hide distance labels but keep the objects for analysis\n",
    "hide labels, salt_bridges*\n",
    "\n",
    "# Color distance objects\n",
    "color red, salt_bridges*\n",
    "```"
   ]
  },
  {
   "cell_type": "markdown",
   "id": "b86c9779",
   "metadata": {},
   "source": []
  }
 ],
 "metadata": {
  "kernelspec": {
   "display_name": "Python 3",
   "language": "python",
   "name": "python3"
  },
  "language_info": {
   "codemirror_mode": {
    "name": "ipython",
    "version": 3
   },
   "file_extension": ".py",
   "mimetype": "text/x-python",
   "name": "python",
   "nbconvert_exporter": "python",
   "pygments_lexer": "ipython3",
   "version": "3.10.12"
  }
 },
 "nbformat": 4,
 "nbformat_minor": 5
}
