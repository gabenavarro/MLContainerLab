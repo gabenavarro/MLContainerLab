{
 "cells": [
  {
   "cell_type": "markdown",
   "id": "6c9900fd",
   "metadata": {},
   "source": [
    "# Flash Attention with Docker for Local Development and Scaling\n",
    "\n",
    "This document provides a guide on how to set up Flash Attention using Docker for local development and scaling. It includes instructions for building the Docker image, running the container, and using Flash Attention in your projects.\n",
    "\n",
    "## Prerequisites\n",
    "- Docker installed on your machine\n",
    "- A compatible GPU (NVIDIA) \n",
    "- NVIDIA Docker runtime installed\n",
    "\n",
    "## Sections\n",
    "- [Building the Docker Image](#building-the-docker-image)\n",
    "- [Using Flash Attention Locally](#using-flash-attention)\n",
    "- [Scaling with GCP Cloud Computing](#scaling-with-gcp-cloud-computing)"
   ]
  },
  {
   "cell_type": "markdown",
   "id": "000cc18d",
   "metadata": {},
   "source": [
    "## Building the Docker Image\n",
    "\n",
    "To build the Docker image for Flash Attention, follow these steps.\n",
    "\n",
    "1. Clone the repository:\n",
    "   ```bash\n",
    "   git clone https://github.com/gabenavarro/MLContainerLab.git\n",
    "   cd MLContainerLab\n",
    "   ```\n",
    "2. Build the Docker image:\n",
    "   ```bashll\n",
    "   docker build -f ./assets/build/Dockerfile.flashattn.cu128py26cp312 -t flash-attention:128-26-312 .\n",
    "   ```\n",
    "\n",
    "   > Note: The following steps are to development within the container. My tutorials will be run inside the container, so you can skip them if you are not interested in development.\n",
    "\n",
    "3. Run the Docker container detached with terminal access and GPUs connected:\n",
    "   ```bash\n",
    "   docker run -dt \\\n",
    "   --gpus all \\\n",
    "   -v $(pwd):/workspace \\\n",
    "   --name flash-attention \\\n",
    "   --env NVIDIA_VISIBLE_DEVICES=all \\\n",
    "   --env GOOGLE_APPLICATION_CREDENTIALS=/workspace/assets/secrets/gcp-key.json \\\n",
    "   flash-attention:128-26-312\n",
    "   ```\n",
    "   > Note: The `-v $(pwd):/workspace` option mounts the current directory to `/workspace` in the container, allowing you to access your files from within the container.\n",
    "   > Note: The `--env` options set environment variables for GPU visibility and Google Cloud credentials.\n",
    "   > Note: The `--gpus all` option allows the container to use all available GPUs.\n",
    "\n",
    "4. Open the container in VSCode: \n",
    "   ```bash\n",
    "   code --folder-uri vscode-remote://dev-container+flash-attention/workspace\n",
    "   ```\n",
    "   > Note: This command opens the current directory in VSCode, allowing you to edit files directly in the container.\n",
    "   > Note: You may need to install the Remote - Containers extension in VSCode to use this feature.\n",
    "   > Note: You may need to install the Python extension in VSCode to use this feature.\n",
    "   > Note: You may need to install the Jupyter extension in VSCode to use this feature."
   ]
  },
  {
   "cell_type": "code",
   "execution_count": null,
   "id": "f2900be0",
   "metadata": {},
   "outputs": [],
   "source": []
  }
 ],
 "metadata": {
  "kernelspec": {
   "display_name": "base",
   "language": "python",
   "name": "python3"
  },
  "language_info": {
   "name": "python",
   "version": "3.12.9"
  }
 },
 "nbformat": 4,
 "nbformat_minor": 5
}
