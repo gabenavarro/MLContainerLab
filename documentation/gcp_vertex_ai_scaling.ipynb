{
 "cells": [
  {
   "cell_type": "markdown",
   "id": "2897ad22",
   "metadata": {},
   "source": [
    "# UNDER CONSTRUCTION"
   ]
  },
  {
   "cell_type": "markdown",
   "id": "fb944baf",
   "metadata": {},
   "source": []
  }
 ],
 "metadata": {
  "language_info": {
   "name": "python"
  }
 },
 "nbformat": 4,
 "nbformat_minor": 5
}
